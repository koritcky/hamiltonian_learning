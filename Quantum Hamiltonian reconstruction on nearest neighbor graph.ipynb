{
 "cells": [
  {
   "cell_type": "markdown",
   "metadata": {},
   "source": [
    "## Quantum Hamiltonian reconstruction on nearest neighbor graph"
   ]
  },
  {
   "cell_type": "markdown",
   "metadata": {},
   "source": [
    "Reconstruction is performed for Heizenberg XYZ Hamiltonian of the following form:\n",
    "\n",
    "$$H = \\sum_{{i,j}\\in G}J^{xx}_{ij}\\sigma^x_i\\sigma^x_j + J^{yy}_{ij}\\sigma^y_i \\sigma^y_j \n",
    "+ J^{zz}_{ij}\\sigma^z_i \\sigma^z_j + \\sum_{i\\in G} h^x_i$$\n",
    "\n",
    "Further in code, XYZ can be turned into any isotropic (XXX, XXZ, etc.) form by defining equal X Y and Z arrays of couplings"
   ]
  },
  {
   "cell_type": "code",
   "execution_count": 331,
   "metadata": {},
   "outputs": [],
   "source": [
    "%matplotlib inline\n",
    "import matplotlib.pyplot as plt\n",
    "import numpy as np\n",
    "import torch\n",
    "import scipy as sp\n",
    "from quspin.operators import hamiltonian\n",
    "from quspin.basis import spin_basis_1d\n",
    "from sklearn.metrics import mean_squared_error as mse\n",
    "from time import time, perf_counter\n",
    "from scipy.optimize import minimize\n",
    "import copy\n",
    "from scipy.optimize import basinhopping\n",
    "from sys import getsizeof\n",
    "import pickle"
   ]
  },
  {
   "cell_type": "code",
   "execution_count": 332,
   "metadata": {},
   "outputs": [],
   "source": [
    "# Lets remove Hermiticity checks!\n",
    "no_checks={\"check_herm\":False,\n",
    "           \"check_pcon\":False,\n",
    "           \"check_symm\":False}    "
   ]
  },
  {
   "cell_type": "markdown",
   "metadata": {},
   "source": [
    "# Define critical functions"
   ]
  },
  {
   "cell_type": "code",
   "execution_count": 333,
   "metadata": {},
   "outputs": [],
   "source": [
    "##Gibbs density matrix calculation##\n",
    "\n",
    "def density_matr (N_spins, Jxx, Jyy, Jzz, hx, beta):\n",
    "    \n",
    "    \"\"\"Calculates Gibbs density matrix\n",
    "\n",
    "    Args:\n",
    "        N (int): number of spins \n",
    "        coupl_matr (np.array): J_ij \n",
    "                    coupling matrix\n",
    "        field_vec (np.array): array of\n",
    "            transverse magnetic fields\n",
    "        beta (float): inverse temperature\n",
    "\n",
    "    Returns:\n",
    "        np.array:\n",
    "\n",
    "    \"\"\"   \n",
    "    \n",
    "    adj_mat = np.zeros ((N_spins, N_spins))\n",
    "    tmp_mat = np.zeros ((N_spins - 1, N_spins - 1))\n",
    "    np.fill_diagonal (tmp_mat, 1)\n",
    "    adj_mat [:-1, 1:] = tmp_mat\n",
    "    nz_ind = np.argwhere (adj_mat == 1).astype (object)\n",
    "    \n",
    "    basis = spin_basis_1d (N_spins)\n",
    "    \n",
    "    \n",
    "    J_xx = np.insert (nz_ind, 0, Jxx, axis = 1).tolist ()\n",
    "    J_yy = np.insert (nz_ind, 0, Jyy, axis = 1).tolist ()\n",
    "    J_zz = np.insert (nz_ind, 0, Jzz, axis = 1).tolist ()\n",
    "    h_x = [[hx [i], i] for i in range (N_spins)]\n",
    "    \n",
    "    \n",
    "    static = [[\"xx\", J_xx], [\"yy\", J_yy], [\"zz\", J_zz], [\"x\", h_x]]\n",
    "        \n",
    "    dynamic = []\n",
    "\n",
    "    # generating hamiltonian\n",
    "    H = hamiltonian (static, dynamic, basis = basis, \n",
    "                     **no_checks, dtype=np.float64)\n",
    "    H = H.toarray ()\n",
    "    #normalization constant\n",
    "    Z = np.trace (sp.linalg.expm (-beta*H))\n",
    "    #density matrix\n",
    "    rho = sp.linalg.expm (-beta*H)/Z\n",
    "    \n",
    "    return rho"
   ]
  },
  {
   "cell_type": "code",
   "execution_count": 334,
   "metadata": {},
   "outputs": [],
   "source": [
    "##Returns dictionary of angles for 3^N basis states#\n",
    "\n",
    "def xyz_rot_angles (N_spins):\n",
    "    \n",
    "    \"\"\"Returns dict with 3**N keys, corresponding to 3^N basis states\n",
    "    \n",
    "    Each key contains set of angles, corresponding to this basis state\n",
    "    \"\"\"\n",
    "    \n",
    "    ang_dict = dict ()\n",
    "    \n",
    "    #construction of x y z bases space\n",
    "    bases_ternary = list ()\n",
    "\n",
    "    for num in range (3**N_spins):\n",
    "        ternary_basis = np.base_repr (num, 3)\n",
    "        full_repr = '0' * (N_spins - len (ternary_basis)) + ternary_basis\n",
    "        list_basis = list (full_repr)\n",
    "        bases_ternary.append (list_basis)\n",
    "        \n",
    "    ang_array = np.array ([[np.pi/2, 0], [np.pi/2, np.pi/2], [0, 0]])  \n",
    "    bases_ternary = np.array (bases_ternary)\n",
    "    ang_blank = np.zeros ((N_spins, 2))\n",
    "    \n",
    "    for i in range (len (bases_ternary)):\n",
    "        int_indices = bases_ternary [i].astype (int)\n",
    "        ang_blank = ang_array [int_indices]\n",
    "        key = ''.join (bases_ternary [i])\n",
    "        ang_dict [key] = ang_blank\n",
    "        \n",
    "        \n",
    "    return ang_dict"
   ]
  },
  {
   "cell_type": "code",
   "execution_count": 335,
   "metadata": {},
   "outputs": [],
   "source": [
    "##Returns dictionary of angles for a defined number of random basis states#\n",
    "\n",
    "def rand_rot_angles (N_spins, N_bases):\n",
    "    \n",
    "    \"\"\"Returns dict with user defined number of keys, where each key \n",
    "    correspond to a random basis state (phi and theta are randomly chosen on a Bloch sphere)\n",
    "    \n",
    "    N_spins - number of spins in a chain\n",
    "    N_bases - number of random bases\n",
    "    \n",
    "    \"\"\"\n",
    "    \n",
    "    ang_dict = dict()\n",
    "    \n",
    "    bases = np.arange(N_bases)\n",
    "        \n",
    "    cos_thetas = [2*(np.random.rand (N_spins)-.5) for i in bases]\n",
    "                  \n",
    "    phis = [2*(np.random.rand (N_spins)-.5) for i in bases]\n",
    "    \n",
    "    for i in bases:\n",
    "        \n",
    "        angs_arr = np.zeros ((N_spins, 2))\n",
    "        z = cos_thetas [i]\n",
    "        theta = np.arccos (z)\n",
    "        phi = phis [i]\n",
    "        \n",
    "        angs_arr [:, 0] = theta\n",
    "        angs_arr [:, 1] = phi\n",
    "        \n",
    "        ang_dict [bases [i]] = angs_arr\n",
    "    \n",
    "    return ang_dict"
   ]
  },
  {
   "cell_type": "code",
   "execution_count": 336,
   "metadata": {},
   "outputs": [],
   "source": [
    "##Calculates U and U_+ which will be further used to acces diagonal element of density matrix in log_like func##\n",
    "\n",
    "def rot_matr (angles):\n",
    "    \n",
    "    \"\"\"Calculates rotation matrices (and Hermitian conj) for the given set of {theta, phi} array\n",
    "\n",
    "    Args:\n",
    "        angles dict (from functions xyz_rot_angles or rand_rot_angles)\n",
    "\n",
    "    Returns:\n",
    "        dict(): dict['angles'],\n",
    "                dict['rot_matr'],\n",
    "                dict['rot_H']                \n",
    "    \"\"\"    \n",
    "    \n",
    "    upd_dict = dict()\n",
    "    \n",
    "    for key in list (angles.keys ()):\n",
    "    \n",
    "        it_ranges = angles [key].shape\n",
    "\n",
    "        theta = angles [key] [0, 0]\n",
    "        phi = angles [key] [0, 1]\n",
    "\n",
    "        a = np.cos (theta/2) * np.exp(phi/2.*1j)\n",
    "        b = np.sin (theta/2) * np.exp( - phi/2.*1j)\n",
    "        c = -np.sin (theta/2) * np.exp(phi/2.*1j)\n",
    "        d = np.cos (theta/2) * np.exp( - phi/2.*1j)\n",
    "\n",
    "        U = np.array ([[a, b], [c, d]])\n",
    "\n",
    "        for i in range (it_ranges [0] - 1):\n",
    "\n",
    "            theta = angles [key] [i + 1, 0]\n",
    "            phi = angles [key] [i + 1, 1]\n",
    "\n",
    "            a = np.cos (theta/2) * np.exp(phi/2.*1j)\n",
    "            b = np.sin (theta/2) * np.exp( - phi/2.*1j)\n",
    "            c = -np.sin (theta/2) * np.exp(phi/2.*1j)\n",
    "            d = np.cos (theta/2) * np.exp( - phi/2.*1j)\n",
    "            \n",
    "\n",
    "            U = np.kron (U, np.array ([[a, b], [c, d]])).astype ('complex64')\n",
    "            \n",
    "        matr_dict = dict()\n",
    "        \n",
    "        matr_dict ['angles'] = angles [key]\n",
    "        \n",
    "        matr_dict ['rot_matr'] = U\n",
    "        \n",
    "        U_asmatr = np.asmatrix (U)\n",
    "        rot_H = U_asmatr.getH ()\n",
    "        rot_H = rot_H.getA ()\n",
    "        \n",
    "        matr_dict ['rot_H'] = rot_H\n",
    "        \n",
    "        upd_dict [key] = matr_dict\n",
    "        \n",
    "    return upd_dict"
   ]
  },
  {
   "cell_type": "code",
   "execution_count": 337,
   "metadata": {},
   "outputs": [],
   "source": [
    "#Return diagonal of denisty matrix, which will be sampled for the dataset#\n",
    "\n",
    "def get_rho_diag (rho, rot_matrices):\n",
    "    \n",
    "    \"\"\"Calculates diagonal elements of the density matrix \n",
    "    (corresponds to projective measurements)\n",
    "\n",
    "    Args:\n",
    "        rho(np.array): density matrix\n",
    "        rot_matrices(dict): \n",
    "\n",
    "    Returns:\n",
    "        dict():  dict['angles'],\n",
    "                 dict['rot_matr'],\n",
    "                 dict['rot_H'],\n",
    "                 dict['rho_diag'],\n",
    "    \"\"\"  \n",
    "    \n",
    "    upd_dict = dict()\n",
    "    \n",
    "    for key in list(rot_matrices.keys ()):\n",
    "        \n",
    "        basis = {}\n",
    "        \n",
    "        rot_matr = rot_matrices [key] ['rot_matr']\n",
    "        rot_H = rot_matrices [key] ['rot_H']\n",
    "        rot_rho = np.dot (np.dot (rot_matr, rho), rot_H)\n",
    "    \n",
    "        diag = np.real (rot_rho.diagonal ())\n",
    "        \n",
    "        basis ['angles'] = rot_matrices [key] ['angles']\n",
    "        basis ['rot_matr'] = rot_matr\n",
    "        basis ['rot_H'] = rot_H\n",
    "        basis ['diag'] = diag\n",
    "        \n",
    "        upd_dict [key] = basis\n",
    "    \n",
    "    return upd_dict"
   ]
  },
  {
   "cell_type": "code",
   "execution_count": 338,
   "metadata": {},
   "outputs": [],
   "source": [
    "#From the dataset, returned by get_rho_diag, choose a batch dataset#\n",
    "\n",
    "def get_batch_dataset (diag, N_rb, N_m):\n",
    "    \n",
    "    batch_ds = dict ()\n",
    "    \n",
    "    \"\"\"\n",
    "    N_rb - number of randomly chosen bases from the dataset\n",
    "    N_m - number of projective measurements in each basis\n",
    "    \"\"\"\n",
    "    \n",
    "    rand_ints = np.random.choice (range (0, len (diag)), N_rb, replace = False)\n",
    "    keys = np.array (list (diag.keys ()))\n",
    "    selected_keys = keys [rand_ints]\n",
    "    for key in selected_keys:\n",
    "        basis = dict()\n",
    "    \n",
    "        s_arr = np.zeros (len (diag [key] ['diag']))\n",
    "        s = 0\n",
    "        for i in range (len (diag [key] ['diag'])):\n",
    "\n",
    "            s += diag [key] ['diag'] [i]\n",
    "            s_arr [i] = s\n",
    "\n",
    "        result = np.zeros (N_m)\n",
    "        for n in range (N_m):\n",
    "            r = np.random.uniform (0, 1)\n",
    "            for j in range (len (s_arr)):\n",
    "                if r < s_arr [j]:\n",
    "                    break\n",
    "            result [n] = j + 1\n",
    "\n",
    "        basis ['measurements'] = result\n",
    "        basis ['rot_matr'] = diag [key] ['rot_matr']\n",
    "        basis ['rot_H'] = diag [key] ['rot_H']\n",
    "        batch_ds [key] = basis\n",
    "        \n",
    "    return batch_ds"
   ]
  },
  {
   "cell_type": "code",
   "execution_count": 393,
   "metadata": {},
   "outputs": [],
   "source": [
    "#Return full dataset#\n",
    "\n",
    "def get_dataset (diag, N_exp):\n",
    "    \n",
    "    \"\"\"\n",
    "    Returns dataset\n",
    "    N_exp - number of measurements (samples from diagonal of density matrix)\n",
    "    \n",
    "    \"\"\"\n",
    "        \n",
    "    dataset = dict()\n",
    "    \n",
    "    for key in list(diag.keys ()):        \n",
    "        basis = dict()\n",
    "    \n",
    "        #s_arr = np.zeros (len (diag [key] ['diag']))\n",
    "        #s = 0\n",
    "        #for i in range (len (diag [key] ['diag'])):\n",
    "\n",
    "        #    s += diag [key] ['diag'] [i]\n",
    "        #    s_arr [i] = s\n",
    "        s_arr = np.cumsum (diag [key] ['diag'])\n",
    "        result = np.zeros (N_exp)\n",
    "        r_arr = []\n",
    "        #print ('-----')\n",
    "        #print ('Basis: ', key)\n",
    "        #print ('-----')\n",
    "        for n in range (N_exp):\n",
    "            #print ('Measurement ', n)\n",
    "            r = np.random.uniform (0, 1)\n",
    "            #print ('Random num: ', r)\n",
    "            #print ('Cumsum: ', s_arr)\n",
    "            for j in range (len (s_arr)):\n",
    "                #print (j)\n",
    "                if r < s_arr [j]:\n",
    "                    break\n",
    "            result [n] = j\n",
    "            #print ('Interval: ', result [n])\n",
    "            r_arr.append (r)\n",
    "            #print ('-----')\n",
    "        #print ('')\n",
    "            \n",
    "        basis ['measurements'] = result\n",
    "        basis ['random'] = r_arr\n",
    "        basis ['rot_matr'] = diag [key] ['rot_matr']\n",
    "        basis ['rot_H'] = diag [key] ['rot_H']\n",
    "        \n",
    "        dataset [key] = basis\n",
    "                \n",
    "    return dataset"
   ]
  },
  {
   "cell_type": "code",
   "execution_count": 394,
   "metadata": {},
   "outputs": [],
   "source": [
    "def random_bases_choice (dataset, N):\n",
    "    \n",
    "    rand_ds = dict ()\n",
    "    \n",
    "    \"\"\"\n",
    "    N - number of randomly chosen bases from the dataset\n",
    "    \"\"\"\n",
    "    \n",
    "    while True:\n",
    "        rand_ints = np.random.randint (1, len (dataset), N)\n",
    "        if len (np.unique (rand_ints)) == len (rand_ints):\n",
    "            break \n",
    "    keys = np.array (list (dataset.keys ()))\n",
    "    selected_keys = keys [rand_ints]\n",
    "    for key in selected_keys:\n",
    "        rand_ds [key] = dataset [key]\n",
    "        \n",
    "    return rand_ds  "
   ]
  },
  {
   "cell_type": "markdown",
   "metadata": {},
   "source": [
    "# Prepare dataset"
   ]
  },
  {
   "cell_type": "code",
   "execution_count": 409,
   "metadata": {},
   "outputs": [],
   "source": [
    "# Number of spins\n",
    "N_spins = 4\n",
    "\n",
    "#N_samples = 11000\n",
    "#N_rand_bases = 1000\n",
    "#N_measures = int (N_samples / N_rand_bases)\n",
    "\n",
    "\n",
    "#couplings, transverse field\n",
    "#XYZ hamiltonian, to create XXX use Jxx = Jyy = Jzz\n",
    "Jyy = np.random.uniform (-1, 1, N_spins - 1)\n",
    "Jxx = np.random.uniform (-1, 1, N_spins - 1)\n",
    "Jzz = np.random.uniform (-1, 1, N_spins - 1)\n",
    "hx = np.random.uniform (-1, 1, N_spins)\n",
    "beta = 1\n",
    "\n",
    "\n",
    "\n",
    "rho = density_matr (N_spins, Jxx, Jyy, Jzz, hx, beta)\n",
    "rot_matrices_xyz = rot_matr (xyz_rot_angles(N_spins))\n",
    "#rot_matrices_rand = rot_matr (rand_rot_angles(N_spins, 3**N_spins)) \n",
    "diag = get_rho_diag (rho, rot_matrices_xyz)\n",
    "#batch_ds = get_batch_dataset (diag, 3**N_spins, 100000)\n",
    "ds = get_dataset (diag, 10000)\n",
    "#batch_ds = random_bases_choice (ds, 3**N_spins)"
   ]
  },
  {
   "cell_type": "code",
   "execution_count": 418,
   "metadata": {},
   "outputs": [],
   "source": [
    "samples = ds ['0001'] ['measurements']"
   ]
  },
  {
   "cell_type": "code",
   "execution_count": 419,
   "metadata": {},
   "outputs": [
    {
     "data": {
      "text/plain": [
       "array([ 0.,  1.,  2.,  3.,  4.,  5.,  6.,  7.,  8.,  9., 10., 11., 12.,\n",
       "       13., 14., 15.])"
      ]
     },
     "execution_count": 419,
     "metadata": {},
     "output_type": "execute_result"
    }
   ],
   "source": [
    "un = np.unique (samples)\n",
    "un"
   ]
  },
  {
   "cell_type": "code",
   "execution_count": 420,
   "metadata": {},
   "outputs": [],
   "source": [
    "freq = []\n",
    "for el in un:\n",
    "    counts = np.count_nonzero (samples == el)\n",
    "    freq.append (counts)"
   ]
  },
  {
   "cell_type": "code",
   "execution_count": 422,
   "metadata": {},
   "outputs": [],
   "source": [
    "from scipy.stats import entropy"
   ]
  },
  {
   "cell_type": "code",
   "execution_count": 433,
   "metadata": {},
   "outputs": [],
   "source": [
    "p1 = [0.1, 0.03, 0.4, 0.05, 0.6]\n",
    "p2 = [0.1, 0.03, 0.4, 0.05, 0.6]"
   ]
  },
  {
   "cell_type": "code",
   "execution_count": 434,
   "metadata": {},
   "outputs": [
    {
     "data": {
      "text/plain": [
       "0.0"
      ]
     },
     "execution_count": 434,
     "metadata": {},
     "output_type": "execute_result"
    }
   ],
   "source": [
    "entropy (p2, p1)"
   ]
  },
  {
   "cell_type": "code",
   "execution_count": 421,
   "metadata": {},
   "outputs": [
    {
     "data": {
      "text/plain": [
       "array([0.1892, 0.1972, 0.0125, 0.0123, 0.0278, 0.0272, 0.0104, 0.0118,\n",
       "       0.1562, 0.1642, 0.0102, 0.0092, 0.0708, 0.0651, 0.0179, 0.018 ])"
      ]
     },
     "execution_count": 421,
     "metadata": {},
     "output_type": "execute_result"
    }
   ],
   "source": [
    "np.array (freq) / 10000"
   ]
  },
  {
   "cell_type": "code",
   "execution_count": 416,
   "metadata": {},
   "outputs": [
    {
     "data": {
      "text/plain": [
       "array([0.19001804, 0.19001804, 0.01254353, 0.01254353, 0.02985856,\n",
       "       0.02985856, 0.01031649, 0.01031649, 0.16137076, 0.16137076,\n",
       "       0.01053071, 0.01053071, 0.06871078, 0.06871078, 0.01665111,\n",
       "       0.01665111])"
      ]
     },
     "execution_count": 416,
     "metadata": {},
     "output_type": "execute_result"
    }
   ],
   "source": [
    "diag ['0001'] ['diag']"
   ]
  },
  {
   "cell_type": "code",
   "execution_count": 263,
   "metadata": {},
   "outputs": [
    {
     "data": {
      "text/plain": [
       "1.0"
      ]
     },
     "execution_count": 263,
     "metadata": {},
     "output_type": "execute_result"
    }
   ],
   "source": [
    "1394 / 5000 + 3606 / 5000"
   ]
  },
  {
   "cell_type": "code",
   "execution_count": 391,
   "metadata": {},
   "outputs": [
    {
     "data": {
      "text/plain": [
       "array([0.06789914, 0.31859021, 0.08827808, 0.02523257, 0.02523257,\n",
       "       0.08827808, 0.31859021, 0.06789914])"
      ]
     },
     "execution_count": 391,
     "metadata": {},
     "output_type": "execute_result"
    }
   ],
   "source": [
    "np.diag (rho)"
   ]
  },
  {
   "cell_type": "code",
   "execution_count": 208,
   "metadata": {},
   "outputs": [
    {
     "data": {
      "text/plain": [
       "0.01781"
      ]
     },
     "execution_count": 208,
     "metadata": {},
     "output_type": "execute_result"
    }
   ],
   "source": [
    "1781/100000"
   ]
  },
  {
   "cell_type": "code",
   "execution_count": 107,
   "metadata": {},
   "outputs": [],
   "source": [
    "#def spin_measurements (N_spins, dataset):\n",
    "    \n",
    "#    \"\"\"\n",
    "#    Returns spin configurations\n",
    "    \n",
    "#    \"\"\"\n",
    "    \n",
    "#    dict_spins = dict()\n",
    "#    for key in list (dataset.keys ()):\n",
    "#        spin_measure_matr = []\n",
    "#        results = dataset [key] ['measurements']\n",
    "#        for r in results:\n",
    "#            spin_measure = np.zeros (2**N_spins)\n",
    "#            spin_measure [int (r) - 1] = 1\n",
    "#            spin_measure_matr.append (spin_measure)\n",
    "#        dict_spins [key] = spin_measure_matr\n",
    "    \n",
    "#    return dict_spins "
   ]
  },
  {
   "cell_type": "code",
   "execution_count": 108,
   "metadata": {},
   "outputs": [],
   "source": [
    "#measurements = spin_measurements (N_spins, batch_ds)"
   ]
  },
  {
   "cell_type": "markdown",
   "metadata": {},
   "source": [
    "# Define (minus) Log-likelihood function\n",
    "$$L = -\\sum_{\\{\\sigma_m\\}} \\log \\left( |\\langle \\sigma_m |U_m \\frac{e^{-\\beta H(J)}}{Z(J)} U_m^+|\\sigma_m\\rangle|^2 \\right)$$ where $\\sigma_m$ - results of the projective measurements in the basis $m$"
   ]
  },
  {
   "cell_type": "code",
   "execution_count": 109,
   "metadata": {},
   "outputs": [],
   "source": [
    "def log_like (J_arr, N_spins, dataset, log, beta):\n",
    "    \n",
    "    \"\"\"\n",
    "    Returns log-likelihood function\n",
    "    \n",
    "    \"\"\"  \n",
    "    \n",
    "    Jxx = J_arr [: N_spins - 1]\n",
    "    Jyy = J_arr [N_spins - 1: 2*N_spins - 2]\n",
    "    Jzz = J_arr [2*N_spins - 2: 3*N_spins - 3]\n",
    "    hx = J_arr [3*N_spins - 3 : 4*N_spins - 3]\n",
    "    \n",
    "    basis = spin_basis_1d (N_spins)\n",
    "    \n",
    "    adj_mat = np.zeros ((N_spins, N_spins))\n",
    "    tmp_mat = np.zeros ((N_spins - 1, N_spins - 1))\n",
    "    np.fill_diagonal (tmp_mat, 1)\n",
    "    adj_mat [:-1, 1:] = tmp_mat\n",
    "    nz_ind = np.argwhere (adj_mat == 1).astype (object)\n",
    "    \n",
    "    \n",
    "    J_xx = np.insert (nz_ind, 0, Jxx, axis = 1).tolist ()\n",
    "    J_yy = np.insert (nz_ind, 0, Jyy, axis = 1).tolist ()\n",
    "    J_zz = np.insert (nz_ind, 0, Jzz, axis = 1).tolist ()\n",
    "    h_x = [[hx [i], i] for i in range (N_spins)]\n",
    "    \n",
    "    \n",
    "    \n",
    "    static = [[\"xx\", J_xx], [\"yy\", J_yy], [\"zz\", J_zz], [\"x\", h_x]]\n",
    "        \n",
    "    dynamic = []\n",
    "\n",
    "    # generating hamiltonian\n",
    "    H = hamiltonian (static, dynamic, basis = basis, \n",
    "                     **no_checks, dtype=np.float64)\n",
    "    H = H.toarray ()\n",
    "    #normalization constant\n",
    "    Z = np.trace (sp.linalg.expm (-beta*H))\n",
    "    #density matrix\n",
    "    rho = sp.linalg.expm (-beta*H)/Z\n",
    "    \n",
    "    ll = 0\n",
    "    \n",
    "    sign = -1\n",
    "    \n",
    "    keys = list(dataset.keys())\n",
    "    \n",
    "    t1 = perf_counter ()\n",
    "    for key in keys:\n",
    "        rot_m = dataset [key] ['rot_matr']\n",
    "        rot_H = dataset [key] ['rot_H']  \n",
    "        rot_rho = np.dot (np.dot (rot_m, rho), rot_H)\n",
    "        idx = dataset [key] ['measurements'] - 1\n",
    "        ll -= np.sum(np.log(np.real(np.diag(rot_rho)[idx.astype (int)])))\n",
    "    t2 = perf_counter ()\n",
    "\n",
    "    #for key in keys:\n",
    "        #rot_m = dataset [key] ['rot_matr']\n",
    "        #rot_H = dataset [key] ['rot_H']  \n",
    "        \n",
    "        \n",
    "        #rot_rho = np.dot (np.dot (rot_m, rho), rot_H)\n",
    "        #spin_measurements = measurements [key]\n",
    "        \n",
    "        #for m in spin_measurements: \n",
    "            #tmp = np.dot (np.dot (m, rot_rho), m) \n",
    "            #ll += sign * np.real (np.log (tmp))\n",
    "            \n",
    "    if log=={}: log['ll']=list()\n",
    "    log['ll'].append(ll)\n",
    "    #print('ll=',ll)\n",
    "    return ll"
   ]
  },
  {
   "cell_type": "code",
   "execution_count": 110,
   "metadata": {},
   "outputs": [],
   "source": [
    "log = dict ()\n",
    "J_arr = np.concatenate ((Jxx, Jyy, Jzz, hx))\n",
    "#log_like (J_arr, N_spins, new_ds, log, beta)"
   ]
  },
  {
   "cell_type": "markdown",
   "metadata": {},
   "source": [
    "# Optimizing LL function"
   ]
  },
  {
   "cell_type": "code",
   "execution_count": 111,
   "metadata": {},
   "outputs": [
    {
     "data": {
      "text/plain": [
       "39.20648193359375"
      ]
     },
     "execution_count": 111,
     "metadata": {},
     "output_type": "execute_result"
    }
   ],
   "source": [
    "from time import time\n",
    "log=dict()\n",
    "\n",
    "args = (N_spins, batch_ds, log, beta)\n",
    "x0 = np.ones (len (J_arr)) * 0.2\n",
    "t1 = time ()\n",
    "res = minimize (log_like, x0, method = 'COBYLA', args = (N_spins, batch_ds, log, beta),\n",
    "                options = {'maxiter': 50000})\n",
    "#res = basinhopping (log_like, x0, niter = 3, T = 1.0, minimizer_kwargs = {'args': args})\n",
    "\n",
    "#res = minimize (log_like, x0, method =\"Newton-CG\", jac = numerical_der,\n",
    "                #args = (J_ind, N_spins, ds, measurements, log, 1), tol=1e-5)\n",
    "t2 = time ()\n",
    "t2 - t1"
   ]
  },
  {
   "cell_type": "code",
   "execution_count": 112,
   "metadata": {},
   "outputs": [
    {
     "data": {
      "text/plain": [
       "     fun: 191831.6652599164\n",
       "   maxcv: 0.0\n",
       " message: 'Optimization terminated successfully.'\n",
       "    nfev: 3785\n",
       "  status: 1\n",
       " success: True\n",
       "       x: array([ 0.76598136,  0.0920676 , -0.90412833,  0.07025877,  0.67425109,\n",
       "        0.24241469,  0.33846677,  0.71156762,  0.85415362, -0.8321123 ,\n",
       "        0.62879416,  1.01488303,  0.4731061 ])"
      ]
     },
     "execution_count": 112,
     "metadata": {},
     "output_type": "execute_result"
    }
   ],
   "source": [
    "res #optimization status"
   ]
  },
  {
   "cell_type": "code",
   "execution_count": 113,
   "metadata": {},
   "outputs": [
    {
     "data": {
      "text/plain": [
       "array([ 0.75363908,  0.03236329, -0.8785029 ,  0.12413628,  0.68206754,\n",
       "        0.22962743,  0.28990097,  0.70659977,  0.83097686, -0.8356981 ,\n",
       "        0.58771454,  0.94652193,  0.47862499])"
      ]
     },
     "execution_count": 113,
     "metadata": {},
     "output_type": "execute_result"
    }
   ],
   "source": [
    "J_arr #true values"
   ]
  },
  {
   "cell_type": "code",
   "execution_count": 114,
   "metadata": {},
   "outputs": [
    {
     "data": {
      "text/plain": [
       "0.03597602357158147"
      ]
     },
     "execution_count": 114,
     "metadata": {},
     "output_type": "execute_result"
    }
   ],
   "source": [
    "#calculate rmse\n",
    "err = np.sqrt (mse (J_arr, res ['x']))\n",
    "err"
   ]
  },
  {
   "cell_type": "markdown",
   "metadata": {},
   "source": [
    "### Result"
   ]
  },
  {
   "cell_type": "code",
   "execution_count": 115,
   "metadata": {},
   "outputs": [
    {
     "name": "stdout",
     "output_type": "stream",
     "text": [
      "------\n",
      "True J_xx:  [ 0.75363908  0.03236329 -0.8785029 ]\n",
      "Recovered J_xx:  [ 0.76598136  0.0920676  -0.90412833]\n",
      "rmse: 0.038182015842907736\n",
      "------\n",
      "True J_yy:  [0.12413628 0.68206754 0.22962743]\n",
      "Recovered J_yy:  [0.07025877 0.67425109 0.24241469]\n",
      "rmse: 0.03228723463892821\n",
      "------\n",
      "True J_zz:  [0.28990097 0.70659977 0.83097686]\n",
      "Recovered J_zz:  [0.33846677 0.71156762 0.85415362]\n",
      "rmse: 0.03120085007729338\n",
      "------\n",
      "True h_x:  [-0.8356981   0.58771454  0.94652193  0.47862499]\n",
      "Recovered h_x:  [-0.8321123   0.62879416  1.01488303  0.4731061 ]\n",
      "rmse: 0.040012781821218736\n",
      "------\n",
      "Total RMSE:  0.03597602357158147\n"
     ]
    }
   ],
   "source": [
    "true = J_arr\n",
    "predicted = res ['x']\n",
    "#np.save ('true_fullb_5sp', true)\n",
    "#np.save ('rec_fullb_5sp', predicted)\n",
    "err = np.sqrt (mse (true, predicted))\n",
    "#np.save ('QHamiltonian Learning/5 spins/rec_120_bases', predicted)\n",
    "#np.save ('QHamiltonian Learning/5 spins/rmse_120_bases', err)\n",
    "tr_J_xx = Jxx\n",
    "rec_J_xx = res ['x'] [:N_spins - 1]\n",
    "tr_J_yy = Jyy\n",
    "rec_J_yy = res ['x'] [N_spins - 1 : 2*N_spins - 2]\n",
    "tr_J_zz = Jzz\n",
    "rec_J_zz = res ['x'] [2*N_spins - 2 : 3*N_spins - 3]\n",
    "tr_h_x = hx\n",
    "rec_h_x = res ['x'] [3*N_spins - 3 :]\n",
    "print ('------')\n",
    "print ('True J_xx: ', tr_J_xx)\n",
    "print ('Recovered J_xx: ', rec_J_xx)\n",
    "print ('rmse:', np.sqrt (mse (tr_J_xx, rec_J_xx)))\n",
    "print ('------')\n",
    "print ('True J_yy: ', tr_J_yy)\n",
    "print ('Recovered J_yy: ', rec_J_yy)\n",
    "print ('rmse:', np.sqrt (mse (tr_J_yy, rec_J_yy)))\n",
    "print ('------')\n",
    "print ('True J_zz: ', tr_J_zz)\n",
    "print ('Recovered J_zz: ', rec_J_zz)\n",
    "print ('rmse:', np.sqrt (mse (tr_J_zz, rec_J_zz)))\n",
    "print ('------')\n",
    "print ('True h_x: ', tr_h_x)\n",
    "print ('Recovered h_x: ', rec_h_x)\n",
    "print ('rmse:', np.sqrt (mse (tr_h_x, rec_h_x)))\n",
    "print ('------')\n",
    "\n",
    "print ('Total RMSE: ', err)"
   ]
  },
  {
   "cell_type": "code",
   "execution_count": 116,
   "metadata": {},
   "outputs": [
    {
     "data": {
      "image/png": "[encoded data removed]",
      "text/plain": [
       "<Figure size 1080x1152 with 4 Axes>"
      ]
     },
     "metadata": {
      "needs_background": "light"
     },
     "output_type": "display_data"
    }
   ],
   "source": [
    "#plot recovered couplings against true values#\n",
    "\n",
    "fig = plt.figure (figsize = (15, 16))\n",
    "plt.subplot (2, 2, 1)\n",
    "plt.plot ([min (Jxx) - 0.2, max (Jxx) + 0.2], [min (Jxx) - 0.2, max (Jxx) + 0.2], 'k--')\n",
    "plt.scatter (Jxx, rec_J_xx, color = 'red')\n",
    "plt.ylabel ('True $J_{xx}$', fontsize = 14)\n",
    "plt.xlabel ('Reconstructed $J_{xx}$', fontsize = 14)\n",
    "plt.title ('RMSE = {}'.format (round (np.sqrt (mse (Jxx, rec_J_xx)), 4)))\n",
    "\n",
    "plt.subplot (2, 2, 2)\n",
    "plt.plot ([min (Jyy) - 0.2, max (Jyy) + 0.2], [min (Jyy) - 0.2, max (Jyy) + 0.2], 'k--')\n",
    "plt.scatter (Jyy, rec_J_yy, color = 'red')\n",
    "plt.ylabel ('True $J_{yy}$', fontsize = 14)\n",
    "plt.xlabel ('Reconstructed $J_{yy}$', fontsize = 14)\n",
    "plt.title ('RMSE = {}'.format (round (np.sqrt (mse (Jyy, rec_J_yy)), 4)))\n",
    "\n",
    "plt.subplot (2, 2, 3)\n",
    "plt.plot ([min (Jzz) - 0.2, max (Jzz) + 0.2], [min (Jzz) - 0.2, max (Jzz) + 0.2], 'k--')\n",
    "plt.scatter (Jzz, rec_J_zz, color = 'red')\n",
    "plt.ylabel ('True $J_{zz}$', fontsize = 14)\n",
    "plt.xlabel ('Reconstructed $J_{zz}$', fontsize = 14)\n",
    "plt.title ('RMSE = {}'.format (round (np.sqrt (mse (Jzz, rec_J_zz)), 4)))\n",
    "\n",
    "plt.subplot (2, 2, 4)\n",
    "plt.plot ([min (hx) - 0.2, max (hx) + 0.2], [min (hx) - 0.2, max (hx) + 0.2], 'k--')\n",
    "plt.scatter (hx, rec_h_x, color = 'red')\n",
    "plt.ylabel ('True $h_{x}$', fontsize = 14)\n",
    "plt.xlabel ('Reconstructed $h_{x}$', fontsize = 14)\n",
    "plt.title ('RMSE = {}'.format (round (np.sqrt (mse (hx, rec_h_x)), 4)))\n",
    "plt.savefig ('fully_connected')"
   ]
  },
  {
   "cell_type": "markdown",
   "metadata": {},
   "source": [
    "### Experiment with different number of measurement bases"
   ]
  },
  {
   "cell_type": "code",
   "execution_count": 23,
   "metadata": {},
   "outputs": [],
   "source": [
    "N_meas = 2000 #number of projective measurements\n",
    "\n",
    "n_bases = np.arange (2, 3**N_spins, 2)\n",
    "\n",
    "rmse = np.zeros (len (n_bases))\n",
    "\n",
    "n_realizations = 20 # number of realizations for each basis in a loop\n",
    "\n",
    "for i, n_b in enumerate (n_bases):\n",
    "    \n",
    "    rmse_tmp = list ()\n",
    "    \n",
    "    for n_r in range (n_realizations):\n",
    "    \n",
    "        Jxx = np.random.uniform (-1, 1, N_spins - 1)\n",
    "        Jyy = np.random.uniform (-1, 1, N_spins - 1)\n",
    "        Jzz = np.random.uniform (-1, 1, N_spins - 1)\n",
    "        h = np.random.uniform (-1, 1, N_spins)\n",
    "\n",
    "        Jarr = np.concatenate ((Jxx, Jyy, Jzz, h))\n",
    "        x0 = np.ones (len (Jarr)) * 0.2\n",
    "        rho = density_matr (N_spins, Jxx, Jyy, Jzz, h, beta)\n",
    "        rot_matrices_xyz = rot_matr (xyz_rot_angles(N_spins))\n",
    "        diag = get_rho_diag (rho, rot_matrices_xyz)\n",
    "\n",
    "        log = dict ()\n",
    "\n",
    "        batch_ds = get_batch_dataset (diag, n_b, N_meas)\n",
    "\n",
    "        res = minimize (log_like, x0, method = 'COBYLA', args = (N_spins, batch_ds, log, beta), \n",
    "                options = {'maxiter': 3000})\n",
    "\n",
    "        true = Jarr\n",
    "        predicted = res ['x']\n",
    "        err = np.sqrt (mse (true, predicted))\n",
    "        rmse_tmp.append (err)\n",
    "    \n",
    "    rmse [i] = np.mean (rmse_tmp)"
   ]
  },
  {
   "cell_type": "code",
   "execution_count": 24,
   "metadata": {},
   "outputs": [
    {
     "data": {
      "text/plain": [
       "<matplotlib.collections.PathCollection at 0x7f1b8c8b4780>"
      ]
     },
     "execution_count": 24,
     "metadata": {},
     "output_type": "execute_result"
    },
    {
     "data": {
      "image/png": "[encoded data removed]",
      "text/plain": [
       "<Figure size 432x360 with 1 Axes>"
      ]
     },
     "metadata": {
      "needs_background": "light"
     },
     "output_type": "display_data"
    }
   ],
   "source": [
    "fig = plt.figure (figsize = (6, 5))\n",
    "plt.plot (n_bases, rmse)\n",
    "plt.scatter (n_bases, rmse)\n",
    "plt.xlabel ('Basis set size')\n",
    "plt.ylabel ('RMSE')"
   ]
  },
  {
   "cell_type": "markdown",
   "metadata": {},
   "source": [
    "### Results graph"
   ]
  },
  {
   "cell_type": "code",
   "execution_count": 86,
   "metadata": {},
   "outputs": [],
   "source": [
    "# this cell outputs four graphs\n",
    "# 1. Deviation between reconstructed and true couplings J\n",
    "# 2. Deviation between reconstructed and true values of magnetic fields h\n",
    "# 3. RMSE as a function of number of measurements for different basis sets (b = 3**N, int (3**N/2), int (3**N/4))\n",
    "# 4. Empirical probability of reconstruction (P_emp) as a \n",
    "# function of number of measurements for the same amount of basis sets\n",
    "# P_emp defined as L_succ/L, where L is the number of realizations for each point on a plot, \n",
    "# L_succ - number of succesful realizations, L_succ is defined when RMSE < 0.05\n",
    "\n",
    "n_bases = [3**N_spins, int (3**N_spins/2), int (3**N_spins/4)]\n",
    "N_meas = np.arange (200, 2200, 200, dtype = 'int32')\n",
    "n_realizations = 20\n",
    "\n",
    "rmse_matr = np.zeros ((len (n_bases), len (N_meas)))\n",
    "p_emp_matr = np.zeros ((len (n_bases), len (N_meas)))\n",
    "\n",
    "for i, n_b in enumerate (n_bases):\n",
    "    for j, n_m in enumerate (N_meas):\n",
    "        rmse_tmp = np.zeros (n_realizations)\n",
    "        for l in range (n_realizations):\n",
    "            \n",
    "            Jxx = np.random.uniform (-1, 1, N_spins - 1)\n",
    "            Jyy = np.random.uniform (-1, 1, N_spins - 1)\n",
    "            Jzz = np.random.uniform (-1, 1, N_spins - 1)\n",
    "            h = np.random.uniform (-1, 1, N_spins)\n",
    "\n",
    "            Jarr = np.concatenate ((Jxx, Jyy, Jzz, h))\n",
    "            x0 = np.ones (len (Jarr)) * 0.2\n",
    "            rho = density_matr (N_spins, Jxx, Jyy, Jzz, h, beta)\n",
    "            rot_matrices_xyz = rot_matr (xyz_rot_angles(N_spins))\n",
    "            diag = get_rho_diag (rho, rot_matrices_xyz)\n",
    "\n",
    "            log = dict ()\n",
    "            #print (n_b, n_m)\n",
    "\n",
    "            batch_ds = get_batch_dataset (diag, n_b, n_m)\n",
    "\n",
    "            res = minimize (log_like, x0, method = 'COBYLA', args = (N_spins, batch_ds, log, beta), \n",
    "                    options = {'maxiter': 3000})\n",
    "\n",
    "            true = Jarr\n",
    "            predicted = res ['x']\n",
    "            err = np.sqrt (mse (true, predicted))\n",
    "            rmse_tmp [l] = err\n",
    "        \n",
    "        fin_rmse = np.mean (rmse_tmp)\n",
    "        l_succ = len (np.argwhere (rmse_tmp < 0.05))\n",
    "        p_emp = l_succ / len (rmse_tmp)\n",
    "        rmse_matr [i, j] = fin_rmse\n",
    "        p_emp_matr [i, j] = p_emp\n",
    "    #print (rmse_matr, p_emp_matr)\n",
    "        \n",
    "            \n",
    "    \n",
    "    "
   ]
  },
  {
   "cell_type": "code",
   "execution_count": 90,
   "metadata": {},
   "outputs": [],
   "source": [
    "np.save ('rmse_matr', rmse_matr)\n",
    "np.save ('p_emp_matr', p_emp_matr)"
   ]
  },
  {
   "cell_type": "code",
   "execution_count": 95,
   "metadata": {},
   "outputs": [],
   "source": [
    "rmse_mat = np.load ('rmse_matr.npy')\n",
    "p_emp_mat = np.load ('p_emp_matr.npy')"
   ]
  },
  {
   "cell_type": "code",
   "execution_count": 129,
   "metadata": {},
   "outputs": [
    {
     "data": {
      "text/plain": [
       "Text(0, 0.5, '$P_{emp}$')"
      ]
     },
     "execution_count": 129,
     "metadata": {},
     "output_type": "execute_result"
    },
    {
     "data": {
      "image/png": "[encoded data removed]",
      "text/plain": [
       "<Figure size 864x864 with 4 Axes>"
      ]
     },
     "metadata": {
      "needs_background": "light"
     },
     "output_type": "display_data"
    }
   ],
   "source": [
    "fig = plt.figure (figsize = (12, 12))\n",
    "\n",
    "acc_3N = rmse_mat [0]\n",
    "acc_3N_2 = rmse_mat [1]\n",
    "acc_3N_4 = rmse_mat [2]\n",
    "\n",
    "p_emp_3N = p_emp_mat [0]\n",
    "p_emp_3N_2 = p_emp_mat [1]\n",
    "p_emp_3N_4 = p_emp_mat [2]\n",
    "N_meas = np.arange (200, 2200, 200, dtype = 'int32')\n",
    "\n",
    "plt.subplot (2, 2, 1)\n",
    "plt.plot ([min (Jxx) - 0.2, max (Jxx) + 0.2], [min (Jxx) - 0.2, max (Jxx) + 0.2], 'k--')\n",
    "plt.scatter (Jxx, rec_J_xx, label = '$J_{xx}$')\n",
    "plt.scatter (Jyy, rec_J_yy, label = '$J_{yy}$')\n",
    "plt.scatter (Jzz, rec_J_zz, label = '$J_{zz}$')\n",
    "plt.ylabel ('True $J_{ij}$', fontsize = 14)\n",
    "plt.xlabel ('Reconstructed $J_{ij}$', fontsize = 14)\n",
    "plt.legend (loc = 'best')\n",
    "\n",
    "plt.subplot (2, 2, 2)\n",
    "plt.plot ([min (hx) - 0.2, max (hx) + 0.2], [min (hx) - 0.2, max (hx) + 0.2], 'k--')\n",
    "plt.scatter (hx, rec_h_x, label = '$h_{x}$')\n",
    "plt.ylabel ('True $h_{i}$', fontsize = 14)\n",
    "plt.xlabel ('Reconstructed $h_{i}$', fontsize = 14)\n",
    "plt.legend (loc = 'best')\n",
    "\n",
    "plt.subplot (2, 2, 3)\n",
    "plt.plot (N_meas, acc_3N)\n",
    "plt.scatter (N_meas, acc_3N, label = 'b = {}'.format (3**N_spins))\n",
    "plt.plot (N_meas, acc_3N_2)\n",
    "plt.scatter (N_meas, acc_3N_2, label = 'b = {}'.format (int (3**N_spins/2)))\n",
    "plt.plot (N_meas, acc_3N_4)\n",
    "plt.scatter (N_meas, acc_3N_4, label = 'b = {}'.format (int (3**N_spins/4)))\n",
    "plt.legend (loc = 'best')\n",
    "plt.xlabel ('$m$', fontsize = 14)\n",
    "plt.ylabel ('RMSE', fontsize = 14)\n",
    "\n",
    "plt.subplot (2, 2, 4)\n",
    "plt.plot (N_meas, p_emp_3N)\n",
    "plt.scatter (N_meas, p_emp_3N, label = 'b = {}'.format (3**N_spins))\n",
    "plt.plot (N_meas, p_emp_3N_2)\n",
    "plt.scatter (N_meas, p_emp_3N_2, label = 'b = {}'.format (int (3**N_spins/2)))\n",
    "plt.plot (N_meas, p_emp_3N_4)\n",
    "plt.scatter (N_meas, p_emp_3N_4, label = 'b = {}'.format (int (3**N_spins/4)))\n",
    "plt.legend (loc = 'best')\n",
    "plt.xlabel ('$m$', fontsize = 14)\n",
    "plt.ylabel ('$P_{emp}$', fontsize = 14)"
   ]
  },
  {
   "cell_type": "code",
   "execution_count": null,
   "metadata": {},
   "outputs": [],
   "source": []
  }
 ],
 "metadata": {
  "kernelspec": {
   "display_name": "qhamilt",
   "language": "python",
   "name": "qhamilt"
  },
  "language_info": {
   "codemirror_mode": {
    "name": "ipython",
    "version": 3
   },
   "file_extension": ".py",
   "mimetype": "text/x-python",
   "name": "python",
   "nbconvert_exporter": "python",
   "pygments_lexer": "ipython3",
   "version": "3.7.3"
  }
 },
 "nbformat": 4,
 "nbformat_minor": 2
}
