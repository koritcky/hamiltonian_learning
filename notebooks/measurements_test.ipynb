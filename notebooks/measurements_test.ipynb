{
 "cells": [
  {
   "cell_type": "code",
   "execution_count": 95,
   "metadata": {},
   "outputs": [
    {
     "data": {
      "text/plain": [
       "array([[2.97118752, 0.5183631 ],\n",
       "       [2.10400205, 5.63663662]])"
      ]
     },
     "execution_count": 95,
     "metadata": {},
     "output_type": "execute_result"
    }
   ],
   "source": [
    "n_spins = 2\n",
    "\n",
    "# angle = np.array([[np.pi/2, np.pi/3]])\n",
    "theta = np.random.rand(n_spins) * np.pi\n",
    "phi = np.random.rand(n_spins) * 2 * np.pi\n",
    "ZZ = np.array([theta, phi]).T\n",
    "XZ = np.copy(ZZ)\n",
    "XZ += np.array([[np.pi / 2, 0], [0, 0]])\n",
    "\n",
    "\"\"\"Fields and couplings\"\"\"\n",
    "xx = [1]\n",
    "yy = [-1]\n",
    "\n",
    "hamiltonian = Hamiltonian(n_spins, 0.3, xx = xx , yy=yy)\n",
    "hamiltonian.set_density_mat()"
   ]
  },
  {
   "cell_type": "code",
   "execution_count": 99,
   "metadata": {},
   "outputs": [
    {
     "data": {
      "text/plain": [
       "[0.044016367335961315, 0.06378821452893038]"
      ]
     },
     "execution_count": 99,
     "metadata": {},
     "output_type": "execute_result"
    }
   ],
   "source": [
    "\"\"\"Method 1: reduced matrix -> measurement in X\"\"\"\n",
    "rho = hamiltonian.density_mat\n",
    "basis1 = to_basis(ZZ[1])\n",
    "Id = np.eye(2)\n",
    "\n",
    "basis = np.kron(Id, basis1)\n",
    "rho = ReducedMatrixMeasurement.reduced_matrix(D @ basis, 0, 0)\n",
    "\n",
    "singles = []\n",
    "for i in range(2):\n",
    "    basis = to_basis(XZ[0] + i * np.array([np.pi, 0]))\n",
    "    p = np.real(np.trace(rho @ basis))\n",
    "    singles.append(p)\n",
    "\n",
    "singles"
   ]
  },
  {
   "cell_type": "code",
   "execution_count": 105,
   "metadata": {},
   "outputs": [
    {
     "name": "stdout",
     "output_type": "stream",
     "text": [
      "[[ 0.26905606+0.j         -0.00234355-0.01273201j]\n",
      " [ 0.        +0.j          0.22696243+0.j        ]]\n"
     ]
    },
    {
     "data": {
      "text/plain": [
       "[(0.26905606124412357+0j), (0.22696242547129536+0j)]"
      ]
     },
     "execution_count": 105,
     "metadata": {},
     "output_type": "execute_result"
    }
   ],
   "source": [
    "\"\"\"Method 2: Make a measurement -> reduce matrix\"\"\"\n",
    "rho = hamiltonian.rotation(XZ)\n",
    "basis0 = to_basis(np.array([0,0]))\n",
    "basis1 = to_basis(np.array([0,0]))\n",
    "basis = np.kron(Id,  basis1)\n",
    "rho = ReducedMatrixMeasurement.reduced_matrix(D @ basis, 0, 0)\n",
    "p0 = np.trace(ReducedMatrixMeasurement.reduced_matrix(D @ basis, 0, 0))\n",
    "singles = [rho[0,0], rho[1,1]]\n",
    "singles"
   ]
  },
  {
   "cell_type": "code",
   "execution_count": null,
   "metadata": {},
   "outputs": [],
   "source": []
  }
 ],
 "metadata": {
  "kernelspec": {
   "display_name": "Python (hamiltonian_learning)",
   "language": "python",
   "name": "hamiltonian_learning"
  },
  "language_info": {
   "codemirror_mode": {
    "name": "ipython",
    "version": 3
   },
   "file_extension": ".py",
   "mimetype": "text/x-python",
   "name": "python",
   "nbconvert_exporter": "python",
   "pygments_lexer": "ipython3",
   "version": "3.7.4"
  }
 },
 "nbformat": 4,
 "nbformat_minor": 4
}
