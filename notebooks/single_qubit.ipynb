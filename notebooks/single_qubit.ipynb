{
 "cells": [
  {
   "cell_type": "code",
   "execution_count": 8,
   "metadata": {},
   "outputs": [],
   "source": [
    "import os, sys\n",
    "os.chdir('/home/koritskiy/rqc/hamiltonian_learning')\n",
    "\n",
    "import numpy as np\n",
    "from sklearn.metrics import mean_squared_error as mse\n",
    "from scipy.optimize import minimize\n",
    "import matplotlib.pyplot as plt\n",
    "\n",
    "from modules.matrices import *\n",
    "from modules.loss_functions import *"
   ]
  },
  {
   "cell_type": "code",
   "execution_count": 2,
   "metadata": {
    "scrolled": true
   },
   "outputs": [
    {
     "data": {
      "text/plain": [
       "array([[0.39700544+0.j        , 0.        +0.10299456j],\n",
       "       [0.        -0.10299456j, 0.60299456+0.j        ]])"
      ]
     },
     "execution_count": 2,
     "metadata": {},
     "output_type": "execute_result"
    }
   ],
   "source": [
    "# Target hamiltonian we need to restore\n",
    "beta = 0.3\n",
    "\n",
    "theta_h = np.pi/4\n",
    "phi_h = np.pi/2 \n",
    "\n",
    "\n",
    "# Jxx = [0]\n",
    "# Jyy = [0]\n",
    "# Jzz = [0]\n",
    "\n",
    "params_t = np.array([[theta_h],\n",
    "                     [phi_h]])\n",
    "N_spins = 1\n",
    "rho_t = density_matr(params_t, beta)\n",
    "rho_t"
   ]
  },
  {
   "cell_type": "code",
   "execution_count": 12,
   "metadata": {},
   "outputs": [],
   "source": [
    "# Main function\n",
    "def construct(N_iterations, d_max_iter, g_max_iter=1000):\n",
    "    TD = []\n",
    "    MSE = []\n",
    "    params = []\n",
    "    \n",
    "    # initiate coefs (couplings and fields) and angles \n",
    "    theta_g = np.random.uniform(0, np.pi, N_spins)\n",
    "    phi_g = np.random.uniform(0, 2*np.pi, N_spins)\n",
    "    params_g = np.array([theta_g, phi_g])\n",
    "    rho_g = density_matr(params_g, beta)\n",
    "    angles = np.zeros((2, N_spins))\n",
    "    \n",
    "    MSE.append(mse(spher_to_cartesian(params_t), spher_to_cartesian(params_g)))\n",
    "    TD.append(g_loss_func(params_g, rho_t, angles))\n",
    "    \n",
    "    for _ in range(N_iterations):\n",
    "        # Find most suitable coefs\n",
    "        result_g = minimize(g_loss_func,\n",
    "                          args=(rho_t, angles),\n",
    "                          x0=params_g.reshape(2*N_spins),\n",
    "                          method='Nelder-Mead',\n",
    "                          options={'maxiter':g_max_iter})\n",
    "        params_g = np.array(result_g.x).reshape(2, N_spins)\n",
    "        rho_g = density_matr(params_g, beta)\n",
    "        params.append(params_g)\n",
    "        # Keep track of errors change\n",
    "        TD.append(result_g.fun)\n",
    "        MSE.append(mse(spher_to_cartesian(params_t), spher_to_cartesian(params_g)))\n",
    "        # Find basis\n",
    "        result_d = minimize(d_loss_func,\n",
    "                          args=(rho_g, rho_t),\n",
    "                          x0=angles.reshape(2*N_spins),\n",
    "                          method='Nelder-Mead',\n",
    "                          options={'maxiter':d_max_iter}).x\n",
    "        angles = result_d.reshape(2, N_spins)\n",
    "\n",
    "    return MSE, TD, params, angles"
   ]
  },
  {
   "cell_type": "code",
   "execution_count": 13,
   "metadata": {},
   "outputs": [
    {
     "data": {
      "text/plain": [
       "Text(0.5, 0, 'iterations')"
      ]
     },
     "execution_count": 13,
     "metadata": {},
     "output_type": "execute_result"
    },
    {
     "data": {
      "text/plain": [
       "Text(0, 0.5, 'MSE')"
      ]
     },
     "execution_count": 13,
     "metadata": {},
     "output_type": "execute_result"
    },
    {
     "data": {
      "text/plain": [
       "<matplotlib.collections.PathCollection at 0x7fbcf1cdde50>"
      ]
     },
     "execution_count": 13,
     "metadata": {},
     "output_type": "execute_result"
    },
    {
     "data": {
      "text/plain": [
       "Text(0, 0.5, 'TD')"
      ]
     },
     "execution_count": 13,
     "metadata": {},
     "output_type": "execute_result"
    },
    {
     "data": {
      "text/plain": [
       "<matplotlib.collections.PathCollection at 0x7fbcf1c996d0>"
      ]
     },
     "execution_count": 13,
     "metadata": {},
     "output_type": "execute_result"
    },
    {
     "data": {
      "image/png": "[encoded data removed]",
      "text/plain": [
       "<Figure size 432x288 with 2 Axes>"
      ]
     },
     "metadata": {
      "needs_background": "light"
     },
     "output_type": "display_data"
    }
   ],
   "source": [
    "# Run \n",
    "np.random.seed(43)  \n",
    "N_iterations = 10\n",
    "MSE, TD, params, angles = construct(N_iterations, d_max_iter=1000, g_max_iter=10)\n",
    "\n",
    "# Plot results\n",
    "X = range(len(MSE))\n",
    "fig, ax1 = plt.subplots()\n",
    "\n",
    "\n",
    "color = 'tab:red'\n",
    "ax1.set_xlabel('iterations')\n",
    "ax1.set_ylabel(f'MSE', color=color)\n",
    "ax1.scatter(X, MSE, color=color)\n",
    "ax1.tick_params(axis='y', labelcolor=color)\n",
    "\n",
    "ax2 = ax1.twinx()  # instantiate a second axes that shares the same x-axis\n",
    "\n",
    "color = 'tab:blue'\n",
    "ax2.set_ylabel(f'TD', color=color)  # we've already handled the x-label with ax1\n",
    "ax2.scatter(X, TD, color=color)\n",
    "ax2.tick_params(axis='y', labelcolor=color)\n",
    "\n",
    "fig.tight_layout()"
   ]
  },
  {
   "cell_type": "code",
   "execution_count": 21,
   "metadata": {},
   "outputs": [],
   "source": [
    "sum_iter = 1000\n",
    "iters = [i for i in range(100, 1000, 100)]\n",
    "MSEs = []\n",
    "\n",
    "for d in iters:\n",
    "    MSE, TD, params, angles = construct(N_iterations, d_max_iter=d, g_max_iter=1000-d)\n",
    "    MSEs.append(MSE)"
   ]
  },
  {
   "cell_type": "code",
   "execution_count": 20,
   "metadata": {},
   "outputs": [
    {
     "data": {
      "text/plain": [
       "[[1.1243902143882656,\n",
       "  0.08875752862925412,\n",
       "  0.20899728009443252,\n",
       "  0.039331054684747235,\n",
       "  0.02396699711168565,\n",
       "  0.04575246668603661,\n",
       "  0.018358160311232052,\n",
       "  0.06726114027526887,\n",
       "  0.013197180139809266,\n",
       "  0.01695084634426769,\n",
       "  0.014012301897743851],\n",
       " [0.6250035974159113,\n",
       "  0.7509243974112012,\n",
       "  0.12433864824179171,\n",
       "  0.014046989416088057,\n",
       "  0.0039769090111518674,\n",
       "  0.015249197940651988,\n",
       "  0.004395589382422813,\n",
       "  0.024596005582175343,\n",
       "  0.002544537323262515,\n",
       "  0.0008169493230685862,\n",
       "  0.000959406141808724],\n",
       " [0.9934490253204599,\n",
       "  0.9436801942173253,\n",
       "  0.19422966609124806,\n",
       "  0.04380813217063751,\n",
       "  0.18057705710652683,\n",
       "  0.021102876405634404,\n",
       "  0.04414175141009342,\n",
       "  0.005397019806138686,\n",
       "  0.015192850740631023,\n",
       "  0.0018852433553371954,\n",
       "  0.008548803828797386],\n",
       " [0.28379087210184856,\n",
       "  0.49907099915526104,\n",
       "  0.14688955429425543,\n",
       "  0.15847600087409064,\n",
       "  0.04720256252037828,\n",
       "  0.02446223114451151,\n",
       "  0.0031123331342197765,\n",
       "  0.001670079847910591,\n",
       "  0.009019776066348226,\n",
       "  0.004543269161975553,\n",
       "  0.02437552016147743]]"
      ]
     },
     "execution_count": 20,
     "metadata": {},
     "output_type": "execute_result"
    }
   ],
   "source": [
    "MSEs"
   ]
  },
  {
   "cell_type": "code",
   "execution_count": 60,
   "metadata": {
    "collapsed": true
   },
   "outputs": [
    {
     "data": {
      "text/plain": [
       "array([[-0.82358831],\n",
       "       [-1.61046918]])"
      ]
     },
     "execution_count": 60,
     "metadata": {},
     "output_type": "execute_result"
    }
   ],
   "source": [
    "params[-1]"
   ]
  },
  {
   "cell_type": "code",
   "execution_count": 61,
   "metadata": {
    "collapsed": true
   },
   "outputs": [
    {
     "data": {
      "text/plain": [
       "array([[0.78539816],\n",
       "       [1.57079633]])"
      ]
     },
     "execution_count": 61,
     "metadata": {},
     "output_type": "execute_result"
    }
   ],
   "source": [
    "params_t"
   ]
  },
  {
   "cell_type": "code",
   "execution_count": 54,
   "metadata": {
    "collapsed": true
   },
   "outputs": [
    {
     "data": {
      "text/plain": [
       "array([[0.02043476],\n",
       "       [0.72783382],\n",
       "       [0.68544901]])"
      ]
     },
     "execution_count": 54,
     "metadata": {},
     "output_type": "execute_result"
    }
   ],
   "source": [
    "spher_to_cartesian(params[-1])"
   ]
  },
  {
   "cell_type": "code",
   "execution_count": 53,
   "metadata": {
    "collapsed": true
   },
   "outputs": [
    {
     "data": {
      "text/plain": [
       "array([[4.32978028e-17],\n",
       "       [7.07106781e-01],\n",
       "       [7.07106781e-01]])"
      ]
     },
     "execution_count": 53,
     "metadata": {},
     "output_type": "execute_result"
    }
   ],
   "source": [
    "spher_to_cartesian(params_t)"
   ]
  },
  {
   "cell_type": "code",
   "execution_count": null,
   "metadata": {},
   "outputs": [],
   "source": []
  }
 ],
 "metadata": {
  "kernelspec": {
   "display_name": "Python (hamiltonian_learning)",
   "language": "python",
   "name": "hamiltonian_learning"
  },
  "language_info": {
   "codemirror_mode": {
    "name": "ipython",
    "version": 3
   },
   "file_extension": ".py",
   "mimetype": "text/x-python",
   "name": "python",
   "nbconvert_exporter": "python",
   "pygments_lexer": "ipython3",
   "version": "3.7.4"
  }
 },
 "nbformat": 4,
 "nbformat_minor": 2
}
