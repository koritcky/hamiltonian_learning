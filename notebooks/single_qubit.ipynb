{
 "cells": [
  {
   "cell_type": "code",
   "execution_count": 2,
   "metadata": {},
   "outputs": [],
   "source": [
    "import os, sys\n",
    "os.chdir('/home/koritskiy/rqc/hamiltonian_learning')\n",
    "\n",
    "import numpy as np\n",
    "from sklearn.metrics import mean_squared_error as mse\n",
    "from scipy.optimize import minimize\n",
    "import matplotlib.pyplot as plt\n",
    "\n",
    "from modules.matrices import *\n",
    "from modules.loss_functions import *"
   ]
  },
  {
   "cell_type": "code",
   "execution_count": 3,
   "metadata": {},
   "outputs": [
    {
     "data": {
      "text/plain": [
       "array([[0.64565631+0.j, 0.        +0.j],\n",
       "       [0.        +0.j, 0.35434369+0.j]])"
      ]
     },
     "execution_count": 3,
     "metadata": {},
     "output_type": "execute_result"
    }
   ],
   "source": [
    "# Target hamiltonian we need to restore\n",
    "beta = 0.3\n",
    "\n",
    "hx = [0]\n",
    "hy = [0]\n",
    "hz = [-1]\n",
    "\n",
    "# Jxx = [0]\n",
    "# Jyy = [0]\n",
    "# Jzz = [0]\n",
    "\n",
    "coefs_t = [hx, hy, hz]\n",
    "N_spins = len(hx)\n",
    "rho_t = density_matr(coefs_t, beta)\n",
    "rho_t"
   ]
  },
  {
   "cell_type": "code",
   "execution_count": 4,
   "metadata": {},
   "outputs": [],
   "source": [
    "def construct(N_iterations, d_max_iter, g_max_iter=1000):\n",
    "    TD = []\n",
    "    MSE = []\n",
    "    coefs = []\n",
    "    \n",
    "    # initiate coefs (couplings and fields) and angles \n",
    "    coefs_g = np.random.uniform(-1, 1, (3, N_spins))\n",
    "    rho_g = density_matr(coefs_g, beta)\n",
    "    angles = np.array([[0, 0]]).T\n",
    "    \n",
    "    MSE.append(mse(coefs_t, coefs_g))\n",
    "    TD.append(g_loss_func(coefs_g, rho_t, angles))\n",
    "    \n",
    "    for _ in range(N_iterations):\n",
    "        # Find most suitable coefs\n",
    "        result_g = minimize(g_loss_func,\n",
    "                          args=(rho_t, angles),\n",
    "                          x0=coefs_g.flatten(),\n",
    "                          method='Nelder-Mead',\n",
    "                          options={'maxiter':g_max_iter})\n",
    "        coefs_g = np.array(result_g.x).reshape(3, N_spins)\n",
    "        rho_g = density_matr(coefs_g, beta)\n",
    "        coefs.append(coefs_g)\n",
    "        # Keep track of errors change\n",
    "        TD.append(result_g.fun)\n",
    "        MSE.append(mse(coefs_t, coefs_g))\n",
    "        # Find basis\n",
    "        result_d = minimize(d_loss_func,\n",
    "                          args=(rho_g, rho_t),\n",
    "                          x0=angles.flatten(),\n",
    "                          method='Nelder-Mead',\n",
    "                          options={'maxiter':d_max_iter}).x\n",
    "        angles = result_d.reshape(2, N_spins)\n",
    "\n",
    "    return MSE, TD, coefs, angles"
   ]
  },
  {
   "cell_type": "code",
   "execution_count": 5,
   "metadata": {},
   "outputs": [],
   "source": [
    "np.random.seed(43)  \n",
    "N_iterations = 30\n",
    "MSE, TD, coefs, angles = construct(N_iterations, d_max_iter=1000, g_max_iter=10)"
   ]
  },
  {
   "cell_type": "code",
   "execution_count": 6,
   "metadata": {},
   "outputs": [
    {
     "data": {
      "image/png": "[encoded data removed]",
      "text/plain": [
       "<Figure size 432x288 with 2 Axes>"
      ]
     },
     "metadata": {
      "needs_background": "light"
     },
     "output_type": "display_data"
    }
   ],
   "source": [
    "# Plot results\n",
    "\n",
    "X = range(len(MSE))\n",
    "fig, ax1 = plt.subplots()\n",
    "\n",
    "\n",
    "color = 'tab:red'\n",
    "ax1.set_xlabel('iterations')\n",
    "ax1.set_ylabel(f'MSE', color=color)\n",
    "ax1.scatter(X, MSE, color=color)\n",
    "ax1.tick_params(axis='y', labelcolor=color)\n",
    "\n",
    "ax2 = ax1.twinx()  # instantiate a second axes that shares the same x-axis\n",
    "\n",
    "color = 'tab:blue'\n",
    "ax2.set_ylabel(f'TD', color=color)  # we've already handled the x-label with ax1\n",
    "ax2.scatter(X, TD, color=color)\n",
    "ax2.tick_params(axis='y', labelcolor=color)\n",
    "\n",
    "fig.tight_layout()"
   ]
  },
  {
   "cell_type": "code",
   "execution_count": 36,
   "metadata": {},
   "outputs": [
    {
     "data": {
      "text/plain": [
       "[0.23716219489897514,\n",
       " 0.4510419677271326,\n",
       " 0.08733984896685598,\n",
       " 0.08958749692617878,\n",
       " 0.08857425451987616,\n",
       " 0.08772415245596589,\n",
       " 0.08692470099135635,\n",
       " 0.08611352557942774,\n",
       " 0.08528635597057611,\n",
       " 0.08449740194273181,\n",
       " 0.08363140404616236,\n",
       " 0.08278104707373986,\n",
       " 0.08180049329118123,\n",
       " 0.0799164589638887,\n",
       " 0.07816347721477236,\n",
       " 0.07557126333859572,\n",
       " 0.07366211034440907,\n",
       " 0.07229190998209906,\n",
       " 0.07064527806793365,\n",
       " 0.06882114589941274,\n",
       " 0.06727360019110742,\n",
       " 0.06552125956130865,\n",
       " 0.06547265163323478,\n",
       " 0.06506422859811566,\n",
       " 0.06410242626895014,\n",
       " 0.06248446053071677,\n",
       " 0.06061410276238536,\n",
       " 0.05749217912390651,\n",
       " 0.05369396584841868,\n",
       " 0.048823949723671156,\n",
       " 0.04190788555880828]"
      ]
     },
     "execution_count": 36,
     "metadata": {},
     "output_type": "execute_result"
    }
   ],
   "source": [
    "MSE"
   ]
  },
  {
   "cell_type": "code",
   "execution_count": 37,
   "metadata": {},
   "outputs": [
    {
     "data": {
      "text/plain": [
       "[0.24588189894633025,\n",
       " 1.3762598334354781e-05,\n",
       " 2.4167942169694978e-05,\n",
       " 9.245412943004183e-06,\n",
       " 1.8343554188615663e-05,\n",
       " 8.078349514883953e-06,\n",
       " 1.132698462508186e-05,\n",
       " 7.794445727016264e-06,\n",
       " 1.022494271551988e-05,\n",
       " 1.8373331305832075e-05,\n",
       " 9.435782775346624e-06,\n",
       " 9.958231659612515e-06,\n",
       " 1.2654267369516248e-05,\n",
       " 1.278937445625683e-05,\n",
       " 7.38901819047344e-06,\n",
       " 1.738787779465012e-05,\n",
       " 1.1629565017656773e-05,\n",
       " 1.3993886133489841e-05,\n",
       " 1.493926875273388e-05,\n",
       " 9.929745213910213e-06,\n",
       " 7.992909361209666e-06,\n",
       " 8.34533733695686e-06,\n",
       " 2.1216085713815502e-06,\n",
       " 1.0145063045696734e-05,\n",
       " 1.514554176046401e-05,\n",
       " 1.1482825833686316e-05,\n",
       " 6.927649061572172e-06,\n",
       " 1.966595515923153e-05,\n",
       " 1.22667216791994e-05,\n",
       " 5.831836860592521e-06,\n",
       " 9.26299159242916e-06]"
      ]
     },
     "execution_count": 37,
     "metadata": {},
     "output_type": "execute_result"
    }
   ],
   "source": [
    "TD"
   ]
  },
  {
   "cell_type": "code",
   "execution_count": 49,
   "metadata": {},
   "outputs": [
    {
     "data": {
      "text/plain": [
       "(0.533037128281858+2.168404344971009e-19j)"
      ]
     },
     "execution_count": 49,
     "metadata": {},
     "output_type": "execute_result"
    }
   ],
   "source": [
    "a = density_matr(coefs[-1], beta)\n",
    "np.trace(a@a)"
   ]
  },
  {
   "cell_type": "code",
   "execution_count": 48,
   "metadata": {},
   "outputs": [
    {
     "data": {
      "text/plain": [
       "(0.5424315190866853+0j)"
      ]
     },
     "execution_count": 48,
     "metadata": {},
     "output_type": "execute_result"
    }
   ],
   "source": [
    "np.trace(rho_t@rho_t)"
   ]
  },
  {
   "cell_type": "code",
   "execution_count": 7,
   "metadata": {},
   "outputs": [
    {
     "data": {
      "text/plain": [
       "array([[-0.11919051],\n",
       "       [ 0.29213675],\n",
       "       [-0.57788447]])"
      ]
     },
     "execution_count": 7,
     "metadata": {},
     "output_type": "execute_result"
    }
   ],
   "source": [
    "coefs[-1]"
   ]
  },
  {
   "cell_type": "code",
   "execution_count": 42,
   "metadata": {},
   "outputs": [
    {
     "data": {
      "text/plain": [
       "array([[-60.67010305],\n",
       "       [-63.21348691]])"
      ]
     },
     "execution_count": 42,
     "metadata": {},
     "output_type": "execute_result"
    }
   ],
   "source": [
    "angles/np.pi*180"
   ]
  },
  {
   "cell_type": "code",
   "execution_count": null,
   "metadata": {},
   "outputs": [],
   "source": []
  }
 ],
 "metadata": {
  "kernelspec": {
   "display_name": "Python (hamiltonian_learning)",
   "language": "python",
   "name": "hamiltonian_learning"
  },
  "language_info": {
   "codemirror_mode": {
    "name": "ipython",
    "version": 3
   },
   "file_extension": ".py",
   "mimetype": "text/x-python",
   "name": "python",
   "nbconvert_exporter": "python",
   "pygments_lexer": "ipython3",
   "version": "3.7.4"
  }
 },
 "nbformat": 4,
 "nbformat_minor": 2
}
