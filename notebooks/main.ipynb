{
 "cells": [
  {
   "cell_type": "code",
   "execution_count": 1,
   "metadata": {
    "ExecuteTime": {
     "end_time": "2020-03-25T13:36:24.946279Z",
     "start_time": "2020-03-25T13:36:24.511955Z"
    },
    "init_cell": true,
    "pycharm": {
     "is_executing": false
    }
   },
   "outputs": [],
   "source": [
    "# Thats a real MAGIC!\n",
    "%load_ext autoreload\n",
    "%autoreload 2     \n",
    "\n",
    "import os, sys\n",
    "os.chdir('/home/koritskiy/rqc/hamiltonian_learning')\n",
    "\n",
    "from random import seed\n",
    "\n",
    "from modules.smc import Particle, Cloud\n",
    "from modules.gradient import ProbabilityDerivative, Gradient\n",
    "from modules.hamiltonian import *\n"
   ]
  },
  {
   "cell_type": "code",
   "execution_count": 2,
   "metadata": {
    "ExecuteTime": {
     "end_time": "2020-03-25T13:36:25.327557Z",
     "start_time": "2020-03-25T13:36:25.318507Z"
    },
    "code_folding": [],
    "init_cell": true,
    "pycharm": {
     "is_executing": false
    }
   },
   "outputs": [],
   "source": [
    "# Some initial parameters\n",
    "np.random.seed(42)\n",
    "seed(42)\n",
    "n_spins = 3\n",
    "beta = 0.3"
   ]
  },
  {
   "cell_type": "code",
   "execution_count": 3,
   "metadata": {
    "ExecuteTime": {
     "end_time": "2020-03-25T13:36:25.856292Z",
     "start_time": "2020-03-25T13:36:25.846338Z"
    },
    "code_folding": [],
    "init_cell": true,
    "pycharm": {
     "is_executing": false
    }
   },
   "outputs": [],
   "source": [
    "# Create random basis angles\n",
    "theta = np.random.rand(n_spins) * np.pi\n",
    "phi = np.random.rand(n_spins) * np.pi\n",
    "angles = np.array([theta, phi]).T"
   ]
  },
  {
   "cell_type": "code",
   "execution_count": 4,
   "metadata": {
    "ExecuteTime": {
     "end_time": "2020-03-25T13:36:27.447654Z",
     "start_time": "2020-03-25T13:36:27.188719Z"
    },
    "code_folding": [],
    "init_cell": true,
    "pycharm": {
     "is_executing": false
    }
   },
   "outputs": [
    {
     "name": "stdout",
     "output_type": "stream",
     "text": [
      "[[ 0.02629193+0.j          0.05180848-0.02763877j  0.29902756-0.15955423j\n",
      "   0.42150882-0.62874866j -0.00534988-0.01670446j -0.02810216-0.02729235j\n",
      "  -0.16221818-0.15751974j -0.4852413 -0.13986601j]\n",
      " [-0.05871984+0.j          0.02319735-0.01237531j -0.66784185+0.35634506j\n",
      "   0.18873143-0.2815235j   0.01194831+0.03730739j -0.0125828 -0.0122202j\n",
      "   0.3622947 +0.3518013j  -0.21726777-0.06262529j]\n",
      " [-0.3389322 +0.j         -0.6678689 +0.35629448j  0.02319641-0.01237707j\n",
      "   0.03269763-0.04877381j  0.06896591+0.21533906j  0.36226806+0.35182875j\n",
      "  -0.01258372-0.01221925j -0.03764154-0.0108498j ]\n",
      " [ 0.7569641 -0.j         -0.29903966+0.15953156j -0.05180638+0.02764269j\n",
      "   0.01464043-0.02183857j -0.15402703-0.48093376j  0.16220625+0.15753204j\n",
      "   0.02810423+0.02729022j -0.01685408-0.00485802j]\n",
      " [-0.01754025+0.j         -0.03456321+0.01843877j -0.19949152+0.10644408j\n",
      "  -0.28120297+0.41945976j -0.0080192 -0.02503913j -0.04212369-0.04090983j\n",
      "  -0.24315673-0.23611401j -0.7273518 -0.20965198j]\n",
      " [ 0.03917402-0.j         -0.01547575+0.008256j    0.4455402 -0.23773j\n",
      "  -0.12590921+0.18781397j  0.0179099 +0.05592187j -0.01886097-0.01831746j\n",
      "   0.5430612 +0.5273321j  -0.32567322-0.0938721j ]\n",
      " [ 0.22611327+0.j          0.44555822-0.23769625j -0.01547512+0.00825717j\n",
      "  -0.02181371+0.03253868j  0.10337637+0.3227822j   0.5430212 +0.52737325j\n",
      "  -0.01886236-0.01831603j -0.05642274-0.01626329j]\n",
      " [-0.50499666+0.j          0.19949959-0.10642897j  0.03456181-0.01844139j\n",
      "  -0.00976713+0.01456926j -0.23087862-0.72089505j  0.24313885+0.23613243j\n",
      "   0.04212679+0.04090664j -0.02526339-0.00728192j]]\n"
     ]
    }
   ],
   "source": [
    "# Create target hamiltonian\n",
    "x_t = np.random.rand(n_spins) * 2 - 1\n",
    "z_t = np.random.rand(n_spins) * 2 - 1\n",
    "\n",
    "hamiltonian_t = Hamiltonian(n_spins, beta, x=x_t, z=z_t)\n",
    "hamiltonian_t.set_density_mat()\n",
    "\n",
    "# And measure it\n",
    "singles_t, correlators_t = hamiltonian_t.measure(angles)"
   ]
  },
  {
   "cell_type": "code",
   "execution_count": 42,
   "metadata": {
    "ExecuteTime": {
     "end_time": "2020-03-25T13:33:31.527930Z",
     "start_time": "2020-03-25T13:33:31.416876Z"
    },
    "code_folding": [],
    "init_cell": true,
    "pycharm": {
     "is_executing": false
    }
   },
   "outputs": [],
   "source": [
    "# Create a pull of random hamiltonians (call it particle according to Sequential Monte Carlo terminology)\n",
    "n_particles = 30\n",
    "g_cloud = Cloud(n_particles, n_spins, beta, fields=[\"x\", \"y\"])\n"
   ]
  },
  {
   "cell_type": "code",
   "execution_count": 33,
   "metadata": {
    "ExecuteTime": {
     "end_time": "2020-03-25T11:19:15.811405Z",
     "start_time": "2020-03-25T11:19:15.713623Z"
    },
    "code_folding": [],
    "init_cell": true,
    "pycharm": {
     "is_executing": false
    }
   },
   "outputs": [],
   "source": [
    "# Update weight according to particle's distance to target hamiltonian\n",
    "g_cloud.list_weight_update(angles, singles_t, correlators_t)"
   ]
  },
  {
   "cell_type": "code",
   "execution_count": 34,
   "metadata": {
    "ExecuteTime": {
     "end_time": "2020-03-25T11:19:15.821595Z",
     "start_time": "2020-03-25T11:19:15.812956Z"
    },
    "code_folding": [],
    "init_cell": true,
    "pycharm": {
     "is_executing": false
    }
   },
   "outputs": [],
   "source": [
    "# Make a recycling wheel to get rid of far particles\n",
    "g_cloud.resampling_wheel()"
   ]
  },
  {
   "cell_type": "code",
   "execution_count": 35,
   "metadata": {
    "ExecuteTime": {
     "end_time": "2020-03-25T11:19:15.843052Z",
     "start_time": "2020-03-25T11:19:15.825562Z"
    },
    "init_cell": true,
    "pycharm": {
     "is_executing": false
    }
   },
   "outputs": [],
   "source": [
    "# Weighted sum of all particles -- our current best result\n",
    "hamiltonian_g = g_cloud.weighted_sum()"
   ]
  },
  {
   "cell_type": "code",
   "execution_count": 37,
   "metadata": {
    "ExecuteTime": {
     "end_time": "2020-03-25T11:19:28.638115Z",
     "start_time": "2020-03-25T11:19:28.616741Z"
    },
    "pycharm": {
     "is_executing": false
    }
   },
   "outputs": [
    {
     "data": {
      "text/plain": [
       "array([[ 0.19725171, -0.00864401],\n",
       "       [-0.49277091, -0.0011862 ],\n",
       "       [-0.33632111, -0.00947481]])"
      ]
     },
     "execution_count": 37,
     "metadata": {},
     "output_type": "execute_result"
    }
   ],
   "source": [
    "grad = Gradient(hamiltonian_t, hamiltonian_g, angles)\n",
    "grad.d_prob_g"
   ]
  },
  {
   "cell_type": "code",
   "execution_count": 9,
   "metadata": {
    "ExecuteTime": {
     "end_time": "2020-03-25T11:17:05.877237Z",
     "start_time": "2020-03-25T11:17:05.862744Z"
    },
    "pycharm": {
     "is_executing": false
    }
   },
   "outputs": [
    {
     "ename": "NameError",
     "evalue": "name 'foo' is not defined",
     "output_type": "error",
     "traceback": [
      "\u001b[0;31m---------------------------------------------------------------------------\u001b[0m",
      "\u001b[0;31mNameError\u001b[0m                                 Traceback (most recent call last)",
      "\u001b[0;32m<ipython-input-9-bb81d0344e3d>\u001b[0m in \u001b[0;36m<module>\u001b[0;34m\u001b[0m\n\u001b[0;32m----> 1\u001b[0;31m \u001b[0mfoo\u001b[0m\u001b[0;34m(\u001b[0m\u001b[0;36m3\u001b[0m\u001b[0;34m)\u001b[0m\u001b[0;34m\u001b[0m\u001b[0;34m\u001b[0m\u001b[0m\n\u001b[0m",
      "\u001b[0;31mNameError\u001b[0m: name 'foo' is not defined"
     ]
    }
   ],
   "source": [
    "\n"
   ]
  },
  {
   "cell_type": "code",
   "execution_count": null,
   "metadata": {},
   "outputs": [],
   "source": []
  }
 ],
 "metadata": {
  "kernelspec": {
   "display_name": "Python (hamiltonian_learning)",
   "language": "python",
   "name": "hamiltonian_learning"
  },
  "language_info": {
   "codemirror_mode": {
    "name": "ipython",
    "version": 3
   },
   "file_extension": ".py",
   "mimetype": "text/x-python",
   "name": "python",
   "nbconvert_exporter": "python",
   "pygments_lexer": "ipython3",
   "version": "3.7.4"
  },
  "latex_envs": {
   "LaTeX_envs_menu_present": true,
   "autoclose": false,
   "autocomplete": true,
   "bibliofile": "biblio.bib",
   "cite_by": "apalike",
   "current_citInitial": 1,
   "eqLabelWithNumbers": true,
   "eqNumInitial": 1,
   "hotkeys": {
    "equation": "Ctrl-E",
    "itemize": "Ctrl-I"
   },
   "labels_anchors": false,
   "latex_user_defs": false,
   "report_style_numbering": false,
   "user_envs_cfg": false
  },
  "pycharm": {
   "stem_cell": {
    "cell_type": "raw",
    "metadata": {
     "collapsed": false
    },
    "source": []
   }
  },
  "varInspector": {
   "cols": {
    "lenName": 16,
    "lenType": 16,
    "lenVar": 40
   },
   "kernels_config": {
    "python": {
     "delete_cmd_postfix": "",
     "delete_cmd_prefix": "del ",
     "library": "var_list.py",
     "varRefreshCmd": "print(var_dic_list())"
    },
    "r": {
     "delete_cmd_postfix": ") ",
     "delete_cmd_prefix": "rm(",
     "library": "var_list.r",
     "varRefreshCmd": "cat(var_dic_list()) "
    }
   },
   "types_to_exclude": [
    "module",
    "function",
    "builtin_function_or_method",
    "instance",
    "_Feature"
   ],
   "window_display": false
  }
 },
 "nbformat": 4,
 "nbformat_minor": 4
}
