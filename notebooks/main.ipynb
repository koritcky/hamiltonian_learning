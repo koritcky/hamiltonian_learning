{
 "cells": [
  {
   "cell_type": "code",
   "execution_count": 6,
   "metadata": {
    "ExecuteTime": {
     "end_time": "2020-03-25T08:07:37.141277Z",
     "start_time": "2020-03-25T08:07:37.117810Z"
    }
   },
   "outputs": [
    {
     "name": "stdout",
     "output_type": "stream",
     "text": [
      "The autoreload extension is already loaded. To reload it, use:\n",
      "  %reload_ext autoreload\n"
     ]
    }
   ],
   "source": [
    "# Thats a real MAGIC!\n",
    "%load_ext autoreload\n",
    "%autoreload 2     \n",
    "\n",
    "import os, sys\n",
    "os.chdir('/home/koritskiy/rqc/hamiltonian_learning')\n",
    "\n",
    "from random import seed\n",
    "\n",
    "from modules.smc import Particle, Cloud\n",
    "from modules.gradient import *"
   ]
  },
  {
   "cell_type": "code",
   "execution_count": 12,
   "metadata": {
    "ExecuteTime": {
     "end_time": "2020-03-25T08:10:24.878143Z",
     "start_time": "2020-03-25T08:10:24.860657Z"
    },
    "code_folding": [
     0
    ]
   },
   "outputs": [],
   "source": [
    "# Some initial parameters\n",
    "np.random.seed(42)\n",
    "seed(42)\n",
    "n_spins = 3\n",
    "beta = 0.3"
   ]
  },
  {
   "cell_type": "code",
   "execution_count": 13,
   "metadata": {
    "ExecuteTime": {
     "end_time": "2020-03-25T08:10:32.207371Z",
     "start_time": "2020-03-25T08:10:32.187523Z"
    },
    "code_folding": [
     0
    ]
   },
   "outputs": [],
   "source": [
    "# Create random basis angles\n",
    "theta = np.random.rand(n_spins) * np.pi\n",
    "phi = np.random.rand(n_spins) * np.pi\n",
    "angles = np.array([theta, phi]).T"
   ]
  },
  {
   "cell_type": "code",
   "execution_count": 15,
   "metadata": {
    "ExecuteTime": {
     "end_time": "2020-03-25T08:10:57.174483Z",
     "start_time": "2020-03-25T08:10:56.896775Z"
    },
    "code_folding": [
     0
    ]
   },
   "outputs": [],
   "source": [
    "# Create target hamiltonian\n",
    "x_t = np.random.rand(n_spins) * 2 - 1\n",
    "z_t = np.random.rand(n_spins) * 2 - 1\n",
    "\n",
    "target = Hamiltonian(n_spins, beta, x=x_t, z=z_t)\n",
    "target.set_density_mat()\n",
    "\n",
    "# And measure it\n",
    "singles_t, correlators_t = target.measure(angles)"
   ]
  },
  {
   "cell_type": "code",
   "execution_count": 16,
   "metadata": {
    "ExecuteTime": {
     "end_time": "2020-03-25T08:11:11.377312Z",
     "start_time": "2020-03-25T08:11:11.243910Z"
    },
    "code_folding": [
     0
    ]
   },
   "outputs": [],
   "source": [
    "# Create a pull of random hamiltonians (call it particle according to Sequential Monte Carlo terminology)\n",
    "n_particles = 30\n",
    "g_cloud = Cloud(n_particles, n_spins, beta, fields=[\"x\", \"y\"])\n"
   ]
  },
  {
   "cell_type": "code",
   "execution_count": 18,
   "metadata": {
    "ExecuteTime": {
     "end_time": "2020-03-25T08:12:38.550195Z",
     "start_time": "2020-03-25T08:12:38.375678Z"
    },
    "code_folding": []
   },
   "outputs": [],
   "source": [
    "# Update weight according to particle's distance to target hamiltonian\n",
    "g_cloud.list_weight_update(angles, singles_t, correlators_t)"
   ]
  },
  {
   "cell_type": "code",
   "execution_count": 19,
   "metadata": {
    "ExecuteTime": {
     "end_time": "2020-03-25T08:12:46.717629Z",
     "start_time": "2020-03-25T08:12:46.703403Z"
    }
   },
   "outputs": [],
   "source": [
    "# Make a recycling wheel to get rid of far particles\n",
    "g_cloud.resampling_wheel()"
   ]
  },
  {
   "cell_type": "code",
   "execution_count": 20,
   "metadata": {
    "ExecuteTime": {
     "end_time": "2020-03-25T08:13:01.053493Z",
     "start_time": "2020-03-25T08:13:01.031809Z"
    }
   },
   "outputs": [],
   "source": [
    "# Weighted sum of all particles -- our current best result\n",
    "g = g_cloud.weighted_sum()"
   ]
  },
  {
   "cell_type": "code",
   "execution_count": 22,
   "metadata": {
    "ExecuteTime": {
     "end_time": "2020-03-25T09:34:18.262554Z",
     "start_time": "2020-03-25T09:34:18.242947Z"
    }
   },
   "outputs": [
    {
     "data": {
      "text/plain": [
       "125"
      ]
     },
     "execution_count": 22,
     "metadata": {},
     "output_type": "execute_result"
    }
   ],
   "source": []
  },
  {
   "cell_type": "code",
   "execution_count": null,
   "metadata": {},
   "outputs": [],
   "source": []
  }
 ],
 "metadata": {
  "kernelspec": {
   "display_name": "Python (hamiltonian_learning)",
   "language": "python",
   "name": "hamiltonian_learning"
  },
  "language_info": {
   "codemirror_mode": {
    "name": "ipython",
    "version": 3
   },
   "file_extension": ".py",
   "mimetype": "text/x-python",
   "name": "python",
   "nbconvert_exporter": "python",
   "pygments_lexer": "ipython3",
   "version": "3.7.4"
  },
  "latex_envs": {
   "LaTeX_envs_menu_present": true,
   "autoclose": false,
   "autocomplete": true,
   "bibliofile": "biblio.bib",
   "cite_by": "apalike",
   "current_citInitial": 1,
   "eqLabelWithNumbers": true,
   "eqNumInitial": 1,
   "hotkeys": {
    "equation": "Ctrl-E",
    "itemize": "Ctrl-I"
   },
   "labels_anchors": false,
   "latex_user_defs": false,
   "report_style_numbering": false,
   "user_envs_cfg": false
  },
  "varInspector": {
   "cols": {
    "lenName": 16,
    "lenType": 16,
    "lenVar": 40
   },
   "kernels_config": {
    "python": {
     "delete_cmd_postfix": "",
     "delete_cmd_prefix": "del ",
     "library": "var_list.py",
     "varRefreshCmd": "print(var_dic_list())"
    },
    "r": {
     "delete_cmd_postfix": ") ",
     "delete_cmd_prefix": "rm(",
     "library": "var_list.r",
     "varRefreshCmd": "cat(var_dic_list()) "
    }
   },
   "types_to_exclude": [
    "module",
    "function",
    "builtin_function_or_method",
    "instance",
    "_Feature"
   ],
   "window_display": false
  }
 },
 "nbformat": 4,
 "nbformat_minor": 4
}
