{
 "cells": [
  {
   "cell_type": "code",
   "execution_count": 107,
   "metadata": {
    "ExecuteTime": {
     "end_time": "2020-04-08T18:24:53.239350Z",
     "start_time": "2020-04-08T18:24:53.149411Z"
    },
    "code_folding": [],
    "init_cell": true,
    "pycharm": {
     "is_executing": false
    },
    "scrolled": true
   },
   "outputs": [],
   "source": [
    "import os, sys\n",
    "os.chdir('/home/koritskiy/rqc/hamiltonian_learning')\n",
    "\n",
    "from random import seed\n",
    "\n",
    "from modules.main import *\n",
    "import matplotlib.pyplot as plt\n",
    "from tqdm.notebook import tqdm\n",
    "np.set_printoptions(suppress=True)"
   ]
  },
  {
   "cell_type": "code",
   "execution_count": 108,
   "metadata": {
    "ExecuteTime": {
     "end_time": "2020-04-08T18:24:53.751406Z",
     "start_time": "2020-04-08T18:24:53.733619Z"
    },
    "code_folding": [
     0
    ]
   },
   "outputs": [],
   "source": [
    "def double_plot(Y1, Y2, Y1_name=None, Y2_name=None):\n",
    "\n",
    "    X = range(len(Y1))\n",
    "    fig, ax1 = plt.subplots()\n",
    "\n",
    "    color = 'tab:red'\n",
    "    ax1.set_xlabel('iterations')\n",
    "    if Y1_name:\n",
    "        ax1.set_ylabel(Y1_name, color=color)\n",
    "    else:\n",
    "        ax1.set_ylabel(\"Y1\", color=color)\n",
    "    ax1.scatter(X, Y1, color=color)\n",
    "    ax1.tick_params(axis='y', labelcolor=color)\n",
    "\n",
    "    ax2 = ax1.twinx()  # instantiate a second axes that shares the same x-axis\n",
    "\n",
    "    color = 'tab:blue'\n",
    "    if Y1_name:\n",
    "        ax2.set_ylabel(Y2_name, color=color)\n",
    "    else:\n",
    "        ax2.set_ylabel(\"Y2\", color=color)  # we've already handled the x-label with ax1\n",
    "    ax2.scatter(X, Y2, color=color)\n",
    "    ax2.tick_params(axis='y', labelcolor=color)\n",
    "\n",
    "    fig.tight_layout()\n",
    "    plt.show()"
   ]
  },
  {
   "cell_type": "code",
   "execution_count": 158,
   "metadata": {
    "ExecuteTime": {
     "end_time": "2020-04-08T18:50:59.518093Z",
     "start_time": "2020-04-08T18:50:59.474753Z"
    },
    "code_folding": [],
    "init_cell": true,
    "pycharm": {
     "is_executing": false
    }
   },
   "outputs": [
    {
     "name": "stdout",
     "output_type": "stream",
     "text": [
      "[[1.+0.j 0.+0.j 0.+0.j 0.+0.j]\n",
      " [0.+0.j 0.+0.j 0.+0.j 0.+0.j]\n",
      " [0.+0.j 0.+0.j 0.+0.j 0.+0.j]\n",
      " [0.+0.j 0.+0.j 0.+0.j 0.+0.j]]\n",
      "[[0.25+0.j 0.25+0.j 0.25+0.j 0.25+0.j]\n",
      " [0.25+0.j 0.25+0.j 0.25+0.j 0.25+0.j]\n",
      " [0.25+0.j 0.25+0.j 0.25+0.j 0.25+0.j]\n",
      " [0.25+0.j 0.25+0.j 0.25+0.j 0.25+0.j]]\n"
     ]
    }
   ],
   "source": [
    "# Some initial parameters\n",
    "np.random.seed(44)\n",
    "seed(44)\n",
    "\n",
    "eps = 10 ** -1\n",
    "\n",
    "n_spins = 2\n",
    "beta = 100\n",
    "cycles = 500\n",
    "\n",
    "lr = 0.1\n",
    "gradient_iterations = 1\n",
    "\n",
    "# Create initial random basis angles\n",
    "theta = np.random.rand(n_spins) * np.pi\n",
    "phi = np.random.rand(n_spins) * 2 * np.pi\n",
    "# theta = np.array([0.])\n",
    "# phi = np.array([0.])\n",
    "\n",
    "# angles = np.array([theta, phi]).T\n",
    "angles = np.array([[-np.pi/4, 0], [-np.pi/4, 0]])\n",
    "\n",
    "# Create target hamiltonian\n",
    "# z_t = np.random.rand(n_spins) * 2 - 1\n",
    "# zz_t = np.random.rand(n_spins - 1) * 2 - 1\n",
    "\n",
    "# z_g = np.random.rand(n_spins) * 2 - 1\n",
    "# zz_g = np.random.rand(n_spins - 1) * 2 - 1\n",
    "# xx_t = [-0.3, 0.5]\n",
    "# yy_t = [-0.2, 0.2]\n",
    "z_t = [-1, -1]\n",
    "x_t = [0, 0]\n",
    "\n",
    "# xx_g = [0.4, -0.1]\n",
    "# yy_g = [0.8, 0.1]\n",
    "z_g = [0, 0]\n",
    "x_g = [-1, -1]\n",
    "\n",
    "\n",
    "hamiltonian_t = Hamiltonian(n_spins, beta, z=z_t, x=x_t)\n",
    "hamiltonian_t.set_density_mat()\n",
    "hamiltonian_g = Hamiltonian(n_spins, beta, z=z_g, x=x_g)\n",
    "hamiltonian_g.set_density_mat()\n",
    "print(hamiltonian_t.density_mat)\n",
    "print(hamiltonian_g.density_mat)"
   ]
  },
  {
   "cell_type": "code",
   "execution_count": 159,
   "metadata": {
    "ExecuteTime": {
     "end_time": "2020-04-08T18:51:04.338490Z",
     "start_time": "2020-04-08T18:50:59.974135Z"
    },
    "scrolled": false
   },
   "outputs": [
    {
     "data": {
      "application/vnd.jupyter.widget-view+json": {
       "model_id": "6f8bb1084d814e3d899c4e14b500bb1a",
       "version_major": 2,
       "version_minor": 0
      },
      "text/plain": [
       "HBox(children=(FloatProgress(value=0.0, max=500.0), HTML(value='')))"
      ]
     },
     "metadata": {},
     "output_type": "display_data"
    },
    {
     "name": "stdout",
     "output_type": "stream",
     "text": [
      "\n"
     ]
    }
   ],
   "source": [
    "X = np.linspace(1, cycles, cycles)\n",
    "Theta1 = np.zeros(cycles)\n",
    "Theta2 = np.zeros(cycles)\n",
    "Phi1 = np.zeros(cycles)\n",
    "Phi2 = np.zeros(cycles)\n",
    "Distance = np.zeros(cycles)\n",
    "for i in tqdm(range(cycles)):\n",
    "    grad = Gradient(hamiltonian_t, hamiltonian_g, angles)\n",
    "    angles = grad.gradient_descent(lr=lr, num_iterations=gradient_iterations)\n",
    "    singles_t, correlators_t = hamiltonian_t.measure(angles)\n",
    "    singles_g, correlators_g = hamiltonian_g.measure(angles)\n",
    "\n",
    "#     print(f\"singles_t {singles_t}\")\n",
    "#     print(f\"singles_g {singles_g}\")\n",
    "    distance = distance_by_measurements(singles_g, singles_t, correlators_g, correlators_t)\n",
    "#     print(f\"cycle n = {n}\")\n",
    "#     print(f\"distance {distance}\")\n",
    "#     print(f\"theta {angles[0, 0] % np.pi}\")\n",
    "#     print(f\"phi {angles[0, 1] % (2 * np.pi)}\")\n",
    "#     print(' ')\n",
    "\n",
    "    Theta1[i] = angles[0, 0] / np.pi\n",
    "    Theta2[i] = angles[1, 0] / np.pi\n",
    "    Phi1[i] = angles[0, 1] /np.pi\n",
    "    Phi2[i] = angles[1, 1] /np.pi\n",
    "    Distance[i] = distance"
   ]
  },
  {
   "cell_type": "code",
   "execution_count": 160,
   "metadata": {
    "ExecuteTime": {
     "end_time": "2020-04-08T18:51:05.508302Z",
     "start_time": "2020-04-08T18:51:04.851956Z"
    }
   },
   "outputs": [
    {
     "data": {
      "image/png": "[encoded data removed]",
      "text/plain": [
       "<Figure size 432x288 with 2 Axes>"
      ]
     },
     "metadata": {
      "needs_background": "light"
     },
     "output_type": "display_data"
    },
    {
     "data": {
      "image/png": "[encoded data removed]",
      "text/plain": [
       "<Figure size 432x288 with 2 Axes>"
      ]
     },
     "metadata": {
      "needs_background": "light"
     },
     "output_type": "display_data"
    },
    {
     "data": {
      "text/plain": [
       "[<matplotlib.lines.Line2D at 0x7efd305b27d0>]"
      ]
     },
     "execution_count": 160,
     "metadata": {},
     "output_type": "execute_result"
    },
    {
     "data": {
      "image/png": "[encoded data removed]",
      "text/plain": [
       "<Figure size 432x288 with 1 Axes>"
      ]
     },
     "metadata": {
      "needs_background": "light"
     },
     "output_type": "display_data"
    }
   ],
   "source": [
    "double_plot(Theta1, Theta2, \"Theta1\", \"Theta2\")\n",
    "double_plot(Phi1, Phi2, \"Phi1\", \"Phi2\")\n",
    "plt.plot(X, Distance)"
   ]
  },
  {
   "cell_type": "code",
   "execution_count": 161,
   "metadata": {
    "ExecuteTime": {
     "end_time": "2020-04-08T18:51:19.418281Z",
     "start_time": "2020-04-08T18:51:19.381361Z"
    }
   },
   "outputs": [
    {
     "name": "stdout",
     "output_type": "stream",
     "text": [
      "1.0665691033080444e-16\n",
      "[[0.29478779 0.70521216]\n",
      " [0.29478779 0.70521216]] [[0.2947878  0.70521217]\n",
      " [0.2947878  0.70521217]]\n",
      "[[0.08689984 0.20788795 0.20788795 0.49732421]] [[0.08689985 0.20788795 0.20788795 0.49732422]]\n"
     ]
    }
   ],
   "source": [
    "# angles = np.array([[-np.pi/4, 0], [np.pi/4, 0]])\n",
    "singles_t, correlators_t = hamiltonian_t.measure(angles)\n",
    "singles_g, correlators_g = hamiltonian_g.measure(angles)\n",
    "print(distance_by_measurements(singles_g, singles_t, correlators_g, correlators_t))\n",
    "print(singles_t, singles_g)\n",
    "print(correlators_t, correlators_g)"
   ]
  },
  {
   "cell_type": "code",
   "execution_count": 24,
   "metadata": {
    "ExecuteTime": {
     "end_time": "2020-03-31T11:53:50.755765Z",
     "start_time": "2020-03-31T11:53:50.725210Z"
    }
   },
   "outputs": [
    {
     "data": {
      "text/plain": [
       "array([[0.85355339, 0.14644661]])"
      ]
     },
     "execution_count": 24,
     "metadata": {},
     "output_type": "execute_result"
    }
   ],
   "source": [
    "singles_t"
   ]
  },
  {
   "cell_type": "code",
   "execution_count": 25,
   "metadata": {
    "ExecuteTime": {
     "end_time": "2020-03-31T11:53:51.423289Z",
     "start_time": "2020-03-31T11:53:51.411101Z"
    }
   },
   "outputs": [
    {
     "data": {
      "text/plain": [
       "array([[0.14644661, 0.85355339]])"
      ]
     },
     "execution_count": 25,
     "metadata": {},
     "output_type": "execute_result"
    }
   ],
   "source": [
    "singles_g"
   ]
  },
  {
   "cell_type": "code",
   "execution_count": 162,
   "metadata": {
    "ExecuteTime": {
     "end_time": "2020-04-08T18:51:37.160445Z",
     "start_time": "2020-04-08T18:51:37.140565Z"
    }
   },
   "outputs": [
    {
     "name": "stdout",
     "output_type": "stream",
     "text": [
      "-0.6346194288953452\n",
      "-0.6346194288953452\n",
      "0.3513959131954138\n",
      "0.3513959131954138\n"
     ]
    }
   ],
   "source": [
    "print(Theta1[-1])\n",
    "print(Theta2[-1])\n",
    "print(Phi1[-1])\n",
    "print(Phi2[-1])"
   ]
  },
  {
   "cell_type": "code",
   "execution_count": null,
   "metadata": {},
   "outputs": [],
   "source": [
    "test_angles = np.array([[np.pi/2, 0], [np.pi/2, 0])"
   ]
  }
 ],
 "metadata": {
  "kernelspec": {
   "display_name": "Python (hamiltonian_learning)",
   "language": "python",
   "name": "hamiltonian_learning"
  },
  "latex_envs": {
   "LaTeX_envs_menu_present": true,
   "autoclose": false,
   "autocomplete": true,
   "bibliofile": "biblio.bib",
   "cite_by": "apalike",
   "current_citInitial": 1,
   "eqLabelWithNumbers": true,
   "eqNumInitial": 1,
   "hotkeys": {
    "equation": "Ctrl-E",
    "itemize": "Ctrl-I"
   },
   "labels_anchors": false,
   "latex_user_defs": false,
   "report_style_numbering": false,
   "user_envs_cfg": false
  },
  "pycharm": {
   "stem_cell": {
    "cell_type": "raw",
    "metadata": {
     "collapsed": false
    },
    "source": []
   }
  },
  "varInspector": {
   "cols": {
    "lenName": 16,
    "lenType": 16,
    "lenVar": 40
   },
   "kernels_config": {
    "python": {
     "delete_cmd_postfix": "",
     "delete_cmd_prefix": "del ",
     "library": "var_list.py",
     "varRefreshCmd": "print(var_dic_list())"
    },
    "r": {
     "delete_cmd_postfix": ") ",
     "delete_cmd_prefix": "rm(",
     "library": "var_list.r",
     "varRefreshCmd": "cat(var_dic_list()) "
    }
   },
   "types_to_exclude": [
    "module",
    "function",
    "builtin_function_or_method",
    "instance",
    "_Feature"
   ],
   "window_display": false
  }
 },
 "nbformat": 4,
 "nbformat_minor": 4
}
