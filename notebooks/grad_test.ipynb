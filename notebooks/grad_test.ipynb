{
 "cells": [
  {
   "cell_type": "code",
   "execution_count": 40,
   "metadata": {
    "ExecuteTime": {
     "end_time": "2020-04-16T12:43:33.525357Z",
     "start_time": "2020-04-16T12:43:33.256914Z"
    },
    "code_folding": [],
    "init_cell": true,
    "pycharm": {
     "is_executing": false
    },
    "scrolled": true,
    "slideshow": {
     "slide_type": "slide"
    }
   },
   "outputs": [
    {
     "name": "stdout",
     "output_type": "stream",
     "text": [
      "The autoreload extension is already loaded. To reload it, use:\n",
      "  %reload_ext autoreload\n"
     ]
    }
   ],
   "source": [
    "import os, sys\n",
    "os.chdir('/home/koritskiy/rqc/hamiltonian_learning')\n",
    "from random import seed\n",
    "from modules.main import *\n",
    "import matplotlib.pyplot as plt\n",
    "from tqdm.notebook import tqdm\n",
    "np.set_printoptions(suppress=True)\n",
    "%load_ext autoreload\n",
    "%autoreload 2"
   ]
  },
  {
   "cell_type": "code",
   "execution_count": 2,
   "metadata": {
    "ExecuteTime": {
     "end_time": "2020-04-16T14:37:20.180650Z",
     "start_time": "2020-04-16T14:37:20.167586Z"
    },
    "code_folding": [
     0
    ],
    "jupyter": {
     "source_hidden": true
    }
   },
   "outputs": [],
   "source": [
    "def to_basis(angles):\n",
    "    v = np.cos(angles[0] / 2)\n",
    "    w = np.sin(angles[0] / 2) * np.exp(1j*angles[1])\n",
    "    b = np.array([v, w]).reshape(2, 1)\n",
    "    \n",
    "    return b @ b.T.conj()"
   ]
  },
  {
   "cell_type": "code",
   "execution_count": 3,
   "metadata": {
    "ExecuteTime": {
     "end_time": "2020-04-16T12:29:08.547402Z",
     "start_time": "2020-04-16T12:29:08.528325Z"
    },
    "code_folding": [
     0
    ],
    "jupyter": {
     "source_hidden": true
    },
    "pycharm": {
     "is_executing": false
    }
   },
   "outputs": [],
   "source": [
    "def double_plot(Y1, Y2, Y1_name=None, Y2_name=None):\n",
    "\n",
    "    X = range(len(Y1))\n",
    "    fig, ax1 = plt.subplots()\n",
    "\n",
    "    color = 'tab:red'\n",
    "    ax1.set_xlabel('iterations')\n",
    "    if Y1_name:\n",
    "        ax1.set_ylabel(Y1_name, color=color)\n",
    "    else:\n",
    "        ax1.set_ylabel(\"Y1\", color=color)\n",
    "    ax1.scatter(X, Y1, color=color)\n",
    "    ax1.tick_params(axis='y', labelcolor=color)\n",
    "\n",
    "    ax2 = ax1.twinx()  # instantiate a second axes that shares the same x-axis\n",
    "\n",
    "    color = 'tab:blue'\n",
    "    if Y1_name:\n",
    "        ax2.set_ylabel(Y2_name, color=color)\n",
    "    else:\n",
    "        ax2.set_ylabel(\"Y2\", color=color)  # we've already handled the x-label with ax1\n",
    "    ax2.scatter(X, Y2, color=color)\n",
    "    ax2.tick_params(axis='y', labelcolor=color)\n",
    "\n",
    "    fig.tight_layout()\n",
    "    plt.show()"
   ]
  },
  {
   "cell_type": "code",
   "execution_count": 4,
   "metadata": {
    "ExecuteTime": {
     "end_time": "2020-04-16T12:45:10.081513Z",
     "start_time": "2020-04-16T12:45:10.060399Z"
    },
    "code_folding": [
     0
    ],
    "jupyter": {
     "source_hidden": true
    },
    "pycharm": {
     "is_executing": false
    }
   },
   "outputs": [],
   "source": [
    "def num_der(angles):\n",
    "    \n",
    "    d_angles = angles * 10 ** - 4\n",
    "    grad  = np.zeros((n_spins, 2))\n",
    "    for s in range(n_spins):\n",
    "        for a in range(2):\n",
    "            new_angles = np.copy(angles)\n",
    "            new_angles[s, a] += d_angles[s, a]\n",
    "\n",
    "            s_t, c_t = hamiltonian_t.measure(angles)\n",
    "            s_g, c_g = hamiltonian_g.measure(angles)\n",
    "            distance = distance_by_measurements(s_t, s_g, c_t, c_g)\n",
    "\n",
    "            d_s_t, d_c_t = hamiltonian_t.measure(new_angles)\n",
    "            d_s_g, d_c_g = hamiltonian_g.measure(new_angles)\n",
    "            d_distance = distance_by_measurements(d_s_t, d_s_g, d_c_t, d_c_g)\n",
    "\n",
    "            grad[s, a] = (d_distance - distance) / d_angles[s, a]\n",
    "    return grad"
   ]
  },
  {
   "cell_type": "code",
   "execution_count": 79,
   "metadata": {
    "ExecuteTime": {
     "end_time": "2020-04-16T14:37:19.471171Z",
     "start_time": "2020-04-16T14:37:19.443090Z"
    },
    "code_folding": [],
    "init_cell": true,
    "pycharm": {
     "is_executing": false
    }
   },
   "outputs": [],
   "source": [
    "# Some initial parameters\n",
    "np.random.seed(40)\n",
    "seed(40)\n",
    "\n",
    "eps = 10 ** - 1\n",
    "\n",
    "n_spins = 2\n",
    "beta = 0.3\n",
    "cycles = 300\n",
    "\n",
    "lr = 0.8\n",
    "gradient_iterations = 1\n",
    "\n",
    "\"\"\"Random inintial angles\"\"\"\n",
    "# Create initial random basis angles\n",
    "theta = np.random.rand(n_spins) * np.pi\n",
    "phi = np.random.rand(n_spins) * 2 * np.pi\n",
    "\n",
    "angles_0 = np.array([theta, phi]).T\n",
    "\"\"\"Specific initial angles\"\"\"\n",
    "# angles_0 = np.array([[np.pi/2-eps, eps], [np.pi/2+eps, -eps]]) \n",
    "# angles_0 = np.array([[np.pi/2, 0], [1.58449883, 0]]) \n",
    "# angles_0 = np.array([[np.pi/2, 0]]) \n",
    "\n",
    "\n",
    "\"\"\"Fields and couplings\"\"\"\n",
    "# xx_t = [1]\n",
    "# yy_t = []\n",
    "# z_t = [-1, -1]\n",
    "# x_t = [-1, -1]\n",
    "\n",
    "# xx_g = [-1]\n",
    "# yy_g = [-1]\n",
    "# z_g = [-1, -1]\n",
    "# x_g = [1, 1]\n",
    "\n",
    "\n",
    "xx_t, yy_t, zz_t = np.random.rand(3, n_spins - 1)\n",
    "xx_g, yy_g, zz_g = np.random.rand(3, n_spins - 1)\n",
    "x_t, y_t, z_t = np.random.rand(3, n_spins)\n",
    "x_g, y_g, z_g = np.random.rand(3, n_spins)\n",
    "\n",
    "                                  \n",
    "\n",
    "\"\"\"Initiate hamiltonians\"\"\"\n",
    "hamiltonian_t = Hamiltonian(n_spins, beta, z=z_t, x=x_t, xx=xx_t, yy=yy_t)\n",
    "# hamiltonian_t = Hamiltonian(n_spins, beta, xx=xx_t, yy=yy_t)\n",
    "# hamiltonian_t = Hamiltonian(n_spins, beta, x=x_t, z=z_t)\n",
    "hamiltonian_t.set_density_mat()\n",
    "\n",
    "hamiltonian_g = Hamiltonian(n_spins, beta, z=z_g, x=x_g, xx=xx_g, yy=yy_g)\n",
    "# hamiltonian_g = Hamiltonian(n_spins, beta, xx=xx_g, yy=yy_g)\n",
    "# hamiltonian_g = Hamiltonian(n_spins, beta, x=x_g, z=z_g)\n",
    "hamiltonian_g.set_density_mat();\n",
    "# print(hamiltonian_t.density_mat)\n",
    "# print(hamiltonian_g.density_mat)"
   ]
  },
  {
   "cell_type": "code",
   "execution_count": 93,
   "metadata": {
    "ExecuteTime": {
     "end_time": "2020-04-16T14:42:00.661474Z",
     "start_time": "2020-04-16T14:42:00.645739Z"
    },
    "jupyter": {
     "source_hidden": true
    },
    "slideshow": {
     "slide_type": "fragment"
    }
   },
   "outputs": [
    {
     "name": "stdout",
     "output_type": "stream",
     "text": [
      "Manual grad\n",
      "d_theta:(0.15496275369282247+0j)\n",
      "d_phi:-0.014066185769588355\n"
     ]
    }
   ],
   "source": [
    "\"\"\"For singles\"\"\"\n",
    "spin_n = 1\n",
    "S = hamiltonian_t.density_mat\n",
    "s = ReducedMatrixMeasurement.reduced_matrix(S, spin_n, spin_n)\n",
    "\n",
    "theta = angles_0[spin_n, 0] + np.pi \n",
    "phi = angles_0[spin_n, 1]\n",
    "\n",
    "A = 1 / 2 - s[0, 0]\n",
    "B = np.real(s[0, 1] * np.exp(1j * phi))\n",
    "C = np.imag(s[0, 1] * np.exp(1j * phi))\n",
    "\n",
    "print('Manual grad')\n",
    "print(f'd_theta:{A * np.sin(theta) + B * np.cos(theta)}')\n",
    "print(f'd_phi:{- C * np.sin(theta)}')"
   ]
  },
  {
   "cell_type": "code",
   "execution_count": 151,
   "metadata": {
    "ExecuteTime": {
     "end_time": "2020-04-16T14:02:00.600366Z",
     "start_time": "2020-04-16T14:02:00.575806Z"
    },
    "jupyter": {
     "source_hidden": true
    }
   },
   "outputs": [
    {
     "name": "stdout",
     "output_type": "stream",
     "text": [
      "Manual grad\n",
      "\n",
      "Approach 1\n",
      "pxz: (0.2408023849599513-3.2526065174565133e-19j)\n",
      "d_theta:(0.2395534262794577+0j)\n",
      "\n",
      "Approach 2\n",
      "pxz: (0.24080238495995127-3.2526065174565133e-19j)\n",
      "d_theta:-0.25919761504004873\n"
     ]
    }
   ],
   "source": [
    "\"\"\"For doubles\"\"\"\n",
    "print('Manual grad\\n')\n",
    "ZZ = np.copy(angles_0)\n",
    "\n",
    "XZ = np.copy(angles_0)\n",
    "XZ[0, 0] += np.pi / 2\n",
    "\n",
    "YZ = np.copy(angles_0)\n",
    "YZ[0, 0] = np.pi / 2\n",
    "YZ[0, 1] += np.pi / 2\n",
    "\n",
    "spin_n = 0\n",
    "D = hamiltonian_t.density_mat\n",
    "Id = np.eye(2)\n",
    "theta = angles_0[spin_n, 0] #+ np.pi \n",
    "phi = angles_0[spin_n, 1]\n",
    "\n",
    "\n",
    "# Approach 1\n",
    "print('Approach 1')\n",
    "ang = ZZ[(spin_n + 1) % 2] #+ np.array([np.pi, 0])\n",
    "if spin_n == 0:\n",
    "    basis = np.kron(Id, to_basis(ang)) \n",
    "else:\n",
    "    basis = np.kron(to_basis(ang), Id)\n",
    "\n",
    "d = ReducedMatrixMeasurement.reduced_matrix(D @ basis, spin_n, spin_n)\n",
    "print(f'pxz: {np.trace(d @ to_basis(XZ[0]))}')\n",
    "\n",
    "A = 1 / 2 - d[0, 0]\n",
    "B = np.real(d[0, 1] * np.exp(1j * phi))\n",
    "C = np.imag(d[0, 1] * np.exp(1j * phi))\n",
    "print(f'd_theta:{A * np.sin(theta) + B * np.cos(theta)}')\n",
    "# print(f'd_phi:{- C * np.sin(theta)}')\n",
    "print('')\n",
    "z\n",
    "# # Approach 2\n",
    "# print('Approach 2')\n",
    "# pxz = np.trace(D @ np.kron(to_basis(XZ[0]), to_basis(XZ[1])))\n",
    "# print(f'pxz: {pxz}')\n",
    "# # pyz = np.trace(D @ to_basis(Y))\n",
    "# # # print(pxz)\n",
    "# # # print(pyz)\n",
    "# print(f'd_theta:{np.real(pxz - 1 / 2)}')"
   ]
  },
  {
   "cell_type": "code",
   "execution_count": 132,
   "metadata": {
    "jupyter": {
     "source_hidden": true
    }
   },
   "outputs": [
    {
     "data": {
      "text/plain": [
       "0.24080238495995127"
      ]
     },
     "execution_count": 132,
     "metadata": {},
     "output_type": "execute_result"
    }
   ],
   "source": [
    "rho = hamiltonian_t.density_mat\n",
    "angles0 = angles_0[0] + np.array([np.pi / 2, 0])\n",
    "angles1 = angles_0[1]\n",
    "basis0 = to_basis(angles0)\n",
    "basis1 = to_basis(angles1)\n",
    "basis = np.kron(basis0, basis1)\n",
    "\n",
    "pxz = np.real(np.trace(rho @ basis))\n"
   ]
  },
  {
   "cell_type": "code",
   "execution_count": 25,
   "metadata": {
    "collapsed": true,
    "jupyter": {
     "outputs_hidden": true,
     "source_hidden": true
    }
   },
   "outputs": [
    {
     "ename": "NameError",
     "evalue": "name 'to_spin' is not defined",
     "output_type": "error",
     "traceback": [
      "\u001b[0;31m---------------------------------------------------------------------------\u001b[0m",
      "\u001b[0;31mNameError\u001b[0m                                 Traceback (most recent call last)",
      "\u001b[0;32m<ipython-input-25-f82e36c8adbd>\u001b[0m in \u001b[0;36m<module>\u001b[0;34m\u001b[0m\n\u001b[1;32m      3\u001b[0m \u001b[0mD\u001b[0m \u001b[0;34m=\u001b[0m \u001b[0mhamiltonian_t\u001b[0m\u001b[0;34m.\u001b[0m\u001b[0mrotation\u001b[0m\u001b[0;34m(\u001b[0m\u001b[0mangles_r\u001b[0m\u001b[0;34m)\u001b[0m\u001b[0;34m\u001b[0m\u001b[0;34m\u001b[0m\u001b[0m\n\u001b[1;32m      4\u001b[0m \u001b[0;34m\u001b[0m\u001b[0m\n\u001b[0;32m----> 5\u001b[0;31m \u001b[0mb\u001b[0m \u001b[0;34m=\u001b[0m \u001b[0mto_spin\u001b[0m\u001b[0;34m(\u001b[0m\u001b[0mnp\u001b[0m\u001b[0;34m.\u001b[0m\u001b[0marray\u001b[0m\u001b[0;34m(\u001b[0m\u001b[0;34m[\u001b[0m\u001b[0;36m0\u001b[0m\u001b[0;34m,\u001b[0m\u001b[0;36m0\u001b[0m\u001b[0;34m]\u001b[0m\u001b[0;34m)\u001b[0m\u001b[0;34m)\u001b[0m\u001b[0;34m\u001b[0m\u001b[0;34m\u001b[0m\u001b[0m\n\u001b[0m\u001b[1;32m      6\u001b[0m \u001b[0mbasis\u001b[0m \u001b[0;34m=\u001b[0m \u001b[0mb\u001b[0m \u001b[0;34m@\u001b[0m \u001b[0mb\u001b[0m\u001b[0;34m.\u001b[0m\u001b[0mT\u001b[0m\u001b[0;34m.\u001b[0m\u001b[0mconj\u001b[0m\u001b[0;34m(\u001b[0m\u001b[0;34m)\u001b[0m\u001b[0;34m\u001b[0m\u001b[0;34m\u001b[0m\u001b[0m\n\u001b[1;32m      7\u001b[0m \u001b[0mId\u001b[0m \u001b[0;34m=\u001b[0m \u001b[0mnp\u001b[0m\u001b[0;34m.\u001b[0m\u001b[0meye\u001b[0m\u001b[0;34m(\u001b[0m\u001b[0;36m2\u001b[0m\u001b[0;34m)\u001b[0m\u001b[0;34m\u001b[0m\u001b[0;34m\u001b[0m\u001b[0m\n",
      "\u001b[0;31mNameError\u001b[0m: name 'to_spin' is not defined"
     ]
    }
   ],
   "source": [
    "angles_r = np.copy(angles_0)\n",
    "angles_r[0] = np.array([0,0])\n",
    "D = hamiltonian_t.rotation(angles_r)\n",
    "\n",
    "b = to_spin(np.array([0,0]))\n",
    "basis = b @ b.T.conj()\n",
    "Id = np.eye(2)\n",
    "basis = np.kron(Id, basis)\n",
    "D = D @ basis\n",
    "d = ReducedMatrixMeasurement.reduced_matrix(D, 0, 0)\n",
    "print(d)\n",
    "print(np.trace(d))\n",
    "print('Manual grad')\n",
    "print(f'A:{1/2-d[0, 0]}')\n",
    "print(f'B:{np.real(d[0, 1] * np.exp(1j * angles_0[0,1]))}')\n",
    "print(f'С:{np.imag(d[0, 1] * np.exp(1j * angles_0[0,1]))}')"
   ]
  },
  {
   "cell_type": "code",
   "execution_count": 80,
   "metadata": {
    "ExecuteTime": {
     "end_time": "2020-04-16T14:38:54.246376Z",
     "start_time": "2020-04-16T14:38:51.479994Z"
    },
    "code_folding": [
     13
    ],
    "scrolled": true
   },
   "outputs": [
    {
     "name": "stdout",
     "output_type": "stream",
     "text": [
      "Analytical gradient\n"
     ]
    },
    {
     "data": {
      "application/vnd.jupyter.widget-view+json": {
       "model_id": "004d632af6734e219dfc8bedd66f4818",
       "version_major": 2,
       "version_minor": 0
      },
      "text/plain": [
       "HBox(children=(FloatProgress(value=0.0, max=300.0), HTML(value='')))"
      ]
     },
     "metadata": {},
     "output_type": "display_data"
    }
   ],
   "source": [
    "\"\"\"Analytical gradient\"\"\"\n",
    "\n",
    "angles = np.copy(angles_0)\n",
    "X = np.linspace(1, cycles, cycles)\n",
    "Angles = np.zeros((cycles, n_spins, 2))\n",
    "Distance = np.zeros(cycles)\n",
    "\n",
    "# Angles[0] = angles\n",
    "# singles_t, correlators_t = hamiltonian_t.measure(angles)\n",
    "# singles_g, correlators_g = hamiltonian_g.measure(angles)\n",
    "\n",
    "# Distance[0] = distance_by_measurements(singles_t, singles_g, correlators_t, correlators_g)\n",
    "print('Analytical gradient')\n",
    "for i in tqdm(range(cycles)):\n",
    "    grad = Gradient(hamiltonian_t, hamiltonian_g, angles)\n",
    "    angles = grad.gradient_descent(lr=lr, num_iterations=gradient_iterations)\n",
    "#     angles += lr * num_der(angles)\n",
    "    singles_t, correlators_t = hamiltonian_t.measure(angles)\n",
    "    singles_g, correlators_g = hamiltonian_g.measure(angles)\n",
    "\n",
    "#     print(f\"singles_t {singles_t}\")\n",
    "#     print(f\"singles_g {singles_g}\")\n",
    "    distance = distance_by_measurements(singles_t, singles_g, correlators_t, correlators_g)\n",
    "\n",
    "    Angles[i] = angles\n",
    "    Distance[i] = distance\n"
   ]
  },
  {
   "cell_type": "code",
   "execution_count": 81,
   "metadata": {
    "ExecuteTime": {
     "end_time": "2020-04-16T14:38:14.206554Z",
     "start_time": "2020-04-16T14:38:13.293735Z"
    }
   },
   "outputs": [
    {
     "data": {
      "image/png": "[encoded data removed]",
      "text/plain": [
       "<Figure size 432x288 with 2 Axes>"
      ]
     },
     "metadata": {
      "needs_background": "light"
     },
     "output_type": "display_data"
    },
    {
     "data": {
      "image/png": "[encoded data removed]",
      "text/plain": [
       "<Figure size 432x288 with 2 Axes>"
      ]
     },
     "metadata": {
      "needs_background": "light"
     },
     "output_type": "display_data"
    },
    {
     "name": "stdout",
     "output_type": "stream",
     "text": [
      "0.010778727772680215\n"
     ]
    },
    {
     "data": {
      "image/png": "[encoded data removed]",
      "text/plain": [
       "<Figure size 432x288 with 1 Axes>"
      ]
     },
     "metadata": {
      "needs_background": "light"
     },
     "output_type": "display_data"
    }
   ],
   "source": [
    "P_angles = Angles / np.pi  # Angles for drawing\n",
    "double_plot(P_angles[:, 0, 0], P_angles[:, 1, 0], \"Theta1\", \"Theta2\")\n",
    "double_plot(P_angles[:, 0, 1], P_angles[:, 1, 1], \"Phi1\", \"Phi2\")\n",
    "plt.plot(X, Distance)\n",
    "print(Distance[-1])"
   ]
  },
  {
   "cell_type": "code",
   "execution_count": 37,
   "metadata": {
    "ExecuteTime": {
     "end_time": "2020-04-16T12:18:24.351804Z",
     "start_time": "2020-04-16T12:18:13.532346Z"
    },
    "pycharm": {
     "is_executing": false
    },
    "scrolled": true
   },
   "outputs": [
    {
     "name": "stdout",
     "output_type": "stream",
     "text": [
      "Numerical\n"
     ]
    },
    {
     "data": {
      "application/vnd.jupyter.widget-view+json": {
       "model_id": "c07b837df4c24e5ca3b7d18e022e2591",
       "version_major": 2,
       "version_minor": 0
      },
      "text/plain": [
       "HBox(children=(FloatProgress(value=0.0, max=99.0), HTML(value='')))"
      ]
     },
     "metadata": {},
     "output_type": "display_data"
    },
    {
     "name": "stdout",
     "output_type": "stream",
     "text": [
      "[[ 0.01316539 -0.00883195]\n",
      " [-0.00355496  0.00938692]]\n",
      "[[ 0.00752386 -0.00051917]\n",
      " [-0.00181767  0.00175388]]\n",
      "[[ 0.00418972 -0.00005747]\n",
      " [-0.00104047  0.00682633]]\n",
      "[[ 0.00232167  0.0005278 ]\n",
      " [-0.00051021 -0.00164492]]\n",
      "[[ 0.00116006 -0.00904599]\n",
      " [-0.00040592  0.00253594]]\n",
      "[[ 0.00090167  0.00056514]\n",
      " [-0.00007455 -0.00000569]]\n",
      "[[ 0.00041387  0.00069925]\n",
      " [-0.00010478 -0.00813341]]\n",
      "[[ 0.00017117 -0.00196644]\n",
      " [-0.00000809  0.00366148]]\n",
      "[[ 0.00009658 -0.00116383]\n",
      " [-0.00002231 -0.00132849]]\n",
      "[[ 0.00003689 -0.00191485]\n",
      " [ 0.00001677 -0.00156182]]\n",
      "[[ 0.00011603 -0.00104608]\n",
      " [ 0.00002327 -0.00078732]]\n",
      "[[-0.00002158  0.00187278]\n",
      " [-0.00003137  0.00720158]]\n",
      "[[-0.00000999  0.00573517]\n",
      " [-0.00002026 -0.00126371]]\n",
      "[[-0.00006121  0.00046257]\n",
      " [-0.00003642  0.00042948]]\n",
      "[[ 0.00001144  0.00072347]\n",
      " [-0.00001293  0.00069421]]\n",
      "[[ 0.00002428  0.00115926]\n",
      " [-0.00001844  0.00046706]]\n",
      "[[ 0.00000046  0.00159298]\n",
      " [-0.0000471   0.0015567 ]]\n",
      "[[-0.0000744  -0.00570875]\n",
      " [-0.00004555 -0.00629869]]\n",
      "[[-0.00001656 -0.00106216]\n",
      " [ 0.00003017 -0.00094665]]\n",
      "[[ 0.00001654  0.00276132]\n",
      " [-0.00002782  0.00154141]]\n",
      "[[ 0.00006767 -0.00044551]\n",
      " [ 0.00011774 -0.00021119]]\n",
      "[[ 0.00000465 -0.00062644]\n",
      " [-0.00004122 -0.00041707]]\n",
      "[[-0.00007744 -0.00092184]\n",
      " [-0.00007944 -0.00073578]]\n",
      "[[ 0.00011581 -0.00142489]\n",
      " [ 0.00006841  0.003111  ]]\n",
      "[[-0.00002115 -0.00065989]\n",
      " [-0.00003035 -0.00098028]]\n",
      "[[-0.00004507 -0.0011599 ]\n",
      " [ 0.00003261 -0.00144676]]\n",
      "[[ 0.00002046 -0.00068699]\n",
      " [ 0.000028   -0.00162149]]\n",
      "[[ 0.00000574  0.00424148]\n",
      " [-0.00005666 -0.00035575]]\n",
      "[[ 0.00003022 -0.00177572]\n",
      " [ 0.00002677 -0.00038434]]\n",
      "[[-0.0000313   0.00109267]\n",
      " [-0.00000628  0.00832735]]\n",
      "[[-0.00001327  0.00084578]\n",
      " [-0.00001402 -0.00132941]]\n",
      "[[ 0.00000108  0.00056676]\n",
      " [ 0.00010928 -0.00034223]]\n",
      "[[-0.00005645  0.00058416]\n",
      " [-0.0001329   0.00032663]]\n",
      "[[0.00003437 0.00084017]\n",
      " [0.00003213 0.00060866]]\n",
      "[[0.00012935 0.00125307]\n",
      " [0.00012622 0.0005833 ]]\n",
      "[[-0.0000167   0.00175813]\n",
      " [-0.0000199   0.00162506]]\n",
      "[[-0.00002465 -0.00051204]\n",
      " [-0.00005537 -0.00211664]]\n",
      "[[-0.00001362 -0.00466854]\n",
      " [-0.00005801 -0.00578994]]\n",
      "[[-0.00003344  0.00996424]\n",
      " [-0.00003559  0.00360006]]\n",
      "[[ 0.00000374 -0.00332967]\n",
      " [ 0.00002152  0.00325464]]\n",
      "[[-0.00003741 -0.00405516]\n",
      " [-0.00000677  0.0004142 ]]\n",
      "[[ 0.00003495  0.00192409]\n",
      " [-0.00001962 -0.00422862]]\n",
      "[[ 0.00002481 -0.00212504]\n",
      " [ 0.00006558  0.00122172]]\n",
      "[[-0.00004041 -0.00031315]\n",
      " [ 0.00002799  0.0007752 ]]\n",
      "[[-0.00001915  0.00099768]\n",
      " [-0.00004074  0.00085233]]\n",
      "[[ 0.00005423 -0.00076434]\n",
      " [ 0.00005154  0.00140603]]\n",
      "[[0.00007289 0.00184237]\n",
      " [0.00006414 0.00051124]]\n",
      "[[-0.00006621  0.00247476]\n",
      " [-0.00007076  0.00024501]]\n",
      "[[-0.00006673  0.00050333]\n",
      " [-0.00001468 -0.00393799]]\n",
      "[[ 0.00004302 -0.00199286]\n",
      " [-0.00003304  0.00239085]]\n",
      "[[-0.00001953 -0.00023989]\n",
      " [ 0.00000365 -0.00737669]]\n",
      "[[-0.000065   -0.00773194]\n",
      " [-0.00004202  0.00905319]]\n",
      "[[ 0.00001637  0.00096436]\n",
      " [ 0.00001001 -0.00577054]]\n",
      "[[ 0.00000184 -0.00035453]\n",
      " [ 0.00000611 -0.00115508]]\n",
      "[[ 0.00011338 -0.00135588]\n",
      " [ 0.00011752 -0.0015574 ]]\n",
      "[[-0.0000232   0.00534249]\n",
      " [-0.00006738  0.00077206]]\n",
      "[[-0.0000133  -0.00066958]\n",
      " [-0.00003924 -0.00035671]]\n",
      "[[-0.00003775 -0.00095451]\n",
      " [-0.00001579  0.00298001]]\n",
      "[[ 0.00009126 -0.00014651]\n",
      " [ 0.00009282 -0.00029089]]\n",
      "[[-0.0000427  -0.00028311]\n",
      " [-0.00008785 -0.00041401]]\n",
      "[[-0.00006598 -0.00049549]\n",
      " [ 0.00000476 -0.00061081]]\n",
      "[[ 0.00003458 -0.00082763]\n",
      " [ 0.00000733 -0.00093037]]\n",
      "[[-0.00001524  0.00215503]\n",
      " [-0.00001168  0.00360988]]\n",
      "[[-0.00002124  0.00042576]\n",
      " [-0.00001792  0.00017761]]\n",
      "[[-0.00003321  0.00059046]\n",
      " [ 0.00001513 -0.02086333]]\n",
      "[[0.00000828 0.01952611]\n",
      " [0.00002449 0.00877454]]\n",
      "[[ 0.00000816 -0.01049926]\n",
      " [-0.00000194  0.00746238]]\n",
      "[[ 0.00003335 -0.00162746]\n",
      " [-0.00000218 -0.00092266]]\n",
      "[[ 0.00002228 -0.00477987]\n",
      " [ 0.00004541 -0.00166028]]\n",
      "[[-0.00004048  0.00212186]\n",
      " [-0.00000289  0.00458999]]\n",
      "[[ 0.00000463 -0.00160069]\n",
      " [-0.00000734  0.00159532]]\n",
      "[[0.0000121  0.00113139]\n",
      " [0.00001664 0.00142218]]\n",
      "[[-0.0000219  -0.00983693]\n",
      " [-0.00008455 -0.00805734]]\n",
      "[[-0.00007013  0.0069775 ]\n",
      " [-0.00006966  0.00616596]]\n",
      "[[0.00005238 0.00055213]\n",
      " [0.0000792  0.00070723]]\n",
      "[[0.00002994 0.00093141]\n",
      " [0.00003182 0.00106953]]\n",
      "[[ 0.00004899 -0.00422125]\n",
      " [ 0.00005123  0.00165179]]\n",
      "[[ 0.00003249  0.00108728]\n",
      " [ 0.00000773 -0.00635738]]\n",
      "[[-0.00003147 -0.00086442]\n",
      " [-0.00001648 -0.00057317]]\n",
      "[[-0.00003766 -0.0012728 ]\n",
      " [-0.0000424  -0.00058422]]\n",
      "[[ 0.00007165 -0.00180121]\n",
      " [ 0.00006689  0.0013857 ]]\n",
      "[[-0.00003711  0.00125648]\n",
      " [-0.00003232  0.00229013]]\n",
      "[[-0.00001477 -0.00063442]\n",
      " [-0.00001093 -0.00090638]]\n",
      "[[-0.00000402 -0.00110281]\n",
      " [-0.00004743 -0.0013403 ]]\n",
      "[[0.00003939 0.00121144]\n",
      " [0.00002417 0.00361407]]\n",
      "[[-0.00001243 -0.00028433]\n",
      " [-0.00001045 -0.0007559 ]]\n",
      "[[ 0.00002418 -0.00062655]\n",
      " [ 0.0000729  -0.00103686]]\n",
      "[[-0.0000195  -0.00107411]\n",
      " [-0.00000961 -0.00150482]]\n",
      "[[ 0.00005217 -0.00104927]\n",
      " [ 0.00006283 -0.00223992]]\n",
      "[[-0.00000895 -0.00295351]\n",
      " [-0.00000035 -0.0031595 ]]\n",
      "[[-0.00006809  0.0023935 ]\n",
      " [-0.00005572  0.00140829]]\n",
      "[[-0.00003431  0.00452444]\n",
      " [-0.00003343  0.00439551]]\n",
      "[[-0.00001327 -0.00108536]\n",
      " [-0.00001686 -0.00099197]]\n",
      "[[ 0.00005216 -0.00168614]\n",
      " [ 0.00000461 -0.00175832]]\n",
      "[[ 0.00010912 -0.00270694]\n",
      " [ 0.00011174 -0.00272037]]\n",
      "[[-0.00010547  0.00417888]\n",
      " [-0.00010109  0.00030092]]\n",
      "[[-0.00004359  0.0085585 ]\n",
      " [-0.00005889  0.00463444]]\n",
      "[[-0.00006276 -0.0046158 ]\n",
      " [-0.00005103 -0.00335696]]\n",
      "[[-0.00000766 -0.0017881 ]\n",
      " [ 0.00002703  0.00562939]]\n"
     ]
    }
   ],
   "source": [
    "\"\"\"Numerical gradient\"\"\"\n",
    "angles = np.copy(angles_0)\n",
    "X = np.linspace(1, cycles, cycles)\n",
    "Angles = np.zeros((cycles, n_spins, 2))\n",
    "Distance = np.zeros(cycles)\n",
    "\n",
    "Angles[0] = angles\n",
    "singles_t, correlators_t = hamiltonian_t.measure(angles)\n",
    "singles_g, correlators_g = hamiltonian_g.measure(angles)\n",
    "\n",
    "Distance[0] = distance_by_measurements(singles_t, singles_g, correlators_t, correlators_g)\n",
    "print('Numerical')\n",
    "for i in tqdm(range(1, cycles)):\n",
    "#     grad = Gradient(hamiltonian_t, hamiltonian_g, angles)\n",
    "#     angles = grad.gradient_descent(lr=lr, num_iterations=gradient_iterations)\n",
    "    grad_step = lr * num_der(angles) *10\n",
    "    angles += grad_step\n",
    "    print(num_der(angles))\n",
    "    singles_t, correlators_t = hamiltonian_t.measure(angles)\n",
    "    singles_g, correlators_g = hamiltonian_g.measure(angles)\n",
    "\n",
    "\n",
    "    distance = distance_by_measurements(singles_t, singles_g, correlators_t, correlators_g)\n",
    "    \n",
    "    Angles[i] = angles\n",
    "    Distance[i] = distance\n",
    "\n"
   ]
  },
  {
   "cell_type": "code",
   "execution_count": 38,
   "metadata": {
    "ExecuteTime": {
     "end_time": "2020-04-16T14:38:06.594261Z",
     "start_time": "2020-04-16T14:38:06.557591Z"
    }
   },
   "outputs": [
    {
     "data": {
      "image/png": "[encoded data removed]",
      "text/plain": [
       "<Figure size 432x288 with 2 Axes>"
      ]
     },
     "metadata": {
      "needs_background": "light"
     },
     "output_type": "display_data"
    },
    {
     "data": {
      "image/png": "[encoded data removed]",
      "text/plain": [
       "<Figure size 432x288 with 2 Axes>"
      ]
     },
     "metadata": {
      "needs_background": "light"
     },
     "output_type": "display_data"
    },
    {
     "data": {
      "text/plain": [
       "0.13200830044083578"
      ]
     },
     "execution_count": 38,
     "metadata": {},
     "output_type": "execute_result"
    },
    {
     "data": {
      "image/png": "[encoded data removed]",
      "text/plain": [
       "<Figure size 432x288 with 1 Axes>"
      ]
     },
     "metadata": {
      "needs_background": "light"
     },
     "output_type": "display_data"
    }
   ],
   "source": [
    "P_angles = Angles / np.pi  # Angles for drawing\n",
    "double_plot(P_angles[:, 0, 0], P_angles[:, 1, 0], \"Theta1\", \"Theta2\")\n",
    "double_plot(P_angles[:, 0, 1], P_angles[:, 1, 1], \"Phi1\", \"Phi2\")\n",
    "plt.plot(X, Distance)\n",
    "Distance[-1]"
   ]
  },
  {
   "cell_type": "code",
   "execution_count": 94,
   "metadata": {
    "ExecuteTime": {
     "end_time": "2020-04-14T16:09:13.246174Z",
     "start_time": "2020-04-14T16:09:13.225859Z"
    }
   },
   "outputs": [
    {
     "name": "stdout",
     "output_type": "stream",
     "text": [
      "0.13121936184949443\n"
     ]
    }
   ],
   "source": [
    "angles = Angles[-1]\n",
    "# angles = np.array([[np.pi/2, 0],[np.pi/2, 0]])\n",
    "\n",
    "singles_t, correlators_t = hamiltonian_t.measure(angles)\n",
    "singles_g, correlators_g = hamiltonian_g.measure(angles)\n",
    "\n",
    "distance = distance_by_measurements(singles_t, singles_g, correlators_t, correlators_g)\n",
    "print(distance)"
   ]
  },
  {
   "cell_type": "code",
   "execution_count": 46,
   "metadata": {
    "ExecuteTime": {
     "end_time": "2020-04-16T13:36:05.504543Z",
     "start_time": "2020-04-16T13:36:05.480306Z"
    }
   },
   "outputs": [
    {
     "data": {
      "text/plain": [
       "array([[ 1.58449883, -0.        ],\n",
       "       [ 1.58449883, -0.        ]])"
      ]
     },
     "execution_count": 46,
     "metadata": {},
     "output_type": "execute_result"
    }
   ],
   "source": [
    "Angles[-1]"
   ]
  },
  {
   "cell_type": "code",
   "execution_count": null,
   "metadata": {},
   "outputs": [],
   "source": []
  }
 ],
 "metadata": {
  "kernelspec": {
   "display_name": "Python (hamiltonian_learning)",
   "language": "python",
   "name": "hamiltonian_learning"
  },
  "language_info": {
   "codemirror_mode": {
    "name": "ipython",
    "version": 3
   },
   "file_extension": ".py",
   "mimetype": "text/x-python",
   "name": "python",
   "nbconvert_exporter": "python",
   "pygments_lexer": "ipython3",
   "version": "3.7.4"
  },
  "latex_envs": {
   "LaTeX_envs_menu_present": true,
   "autoclose": false,
   "autocomplete": true,
   "bibliofile": "biblio.bib",
   "cite_by": "apalike",
   "current_citInitial": 1,
   "eqLabelWithNumbers": true,
   "eqNumInitial": 1,
   "hotkeys": {
    "equation": "Ctrl-E",
    "itemize": "Ctrl-I"
   },
   "labels_anchors": false,
   "latex_user_defs": false,
   "report_style_numbering": false,
   "user_envs_cfg": false
  },
  "pycharm": {
   "stem_cell": {
    "cell_type": "raw",
    "metadata": {
     "collapsed": false
    },
    "source": []
   }
  },
  "varInspector": {
   "cols": {
    "lenName": 16,
    "lenType": 16,
    "lenVar": 40
   },
   "kernels_config": {
    "python": {
     "delete_cmd_postfix": "",
     "delete_cmd_prefix": "del ",
     "library": "var_list.py",
     "varRefreshCmd": "print(var_dic_list())"
    },
    "r": {
     "delete_cmd_postfix": ") ",
     "delete_cmd_prefix": "rm(",
     "library": "var_list.r",
     "varRefreshCmd": "cat(var_dic_list()) "
    }
   },
   "types_to_exclude": [
    "module",
    "function",
    "builtin_function_or_method",
    "instance",
    "_Feature"
   ],
   "window_display": false
  }
 },
 "nbformat": 4,
 "nbformat_minor": 4
}
