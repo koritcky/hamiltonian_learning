{
  "nbformat": 4,
  "nbformat_minor": 0,
  "metadata": {
    "kernelspec": {
      "display_name": "Python (hamiltonian_learning)",
      "language": "python",
      "name": "hamiltonian_learning"
    },
    "language_info": {
      "codemirror_mode": {
        "name": "ipython",
        "version": 3
      },
      "file_extension": ".py",
      "mimetype": "text/x-python",
      "name": "python",
      "nbconvert_exporter": "python",
      "pygments_lexer": "ipython3",
      "version": "3.7.4"
    },
    "colab": {
      "name": "N qubits.ipynb",
      "provenance": [],
      "collapsed_sections": []
    }
  },
  "cells": [
    {
      "cell_type": "markdown",
      "metadata": {
        "id": "yPSvbOiA45_r",
        "colab_type": "text"
      },
      "source": [
        "\n",
        "**You need to past this to terminal to get access token** \n",
        "\n",
        "```\n",
        "jupyter notebook --NotebookApp.allow_origin='https://colab.research.google.com' \\\n",
        "  --port=9090 --no-browser\n",
        "```\n",
        "\n"
      ]
    },
    {
      "cell_type": "code",
      "metadata": {
        "id": "jNa7ihkgHL9w",
        "colab_type": "code",
        "colab": {}
      },
      "source": [
        "import os, sys\n",
        "os.chdir('/home/koritskiy/rqc/hamiltonian_learning')\n",
        "\n",
        "import numpy as np\n",
        "from sklearn.metrics import mean_squared_error as mse\n",
        "from scipy.optimize import minimize\n",
        "import matplotlib.pyplot as plt\n",
        "\n",
        "from modules.matrices import *\n",
        "from modules.loss_functions import *\n"
      ],
      "execution_count": 0,
      "outputs": []
    },
    {
      "cell_type": "code",
      "metadata": {
        "id": "anYWslVUCnpM",
        "colab_type": "code",
        "colab": {}
      },
      "source": [
        "# Main function\n",
        "def construct(N_iterations, d_max_iter, g_max_iter, beta, ising=False):\n",
        "    param_num = 2 if ising else 5\n",
        "    TD = []\n",
        "    MSE = []\n",
        "    params = []\n",
        "    \n",
        "    # initiate coefs (couplings and fields) and angles \n",
        "    params_g = np.random.uniform(-1, 1, (param_num, N_spins))\n",
        "    rho_g = density_matr(params_g, beta, ising)\n",
        "    angles = np.zeros((2, N_spins))\n",
        "    \n",
        "    MSE.append(mse(params_t, params_g))\n",
        "    TD.append(g_loss_func(params_g, rho_t, angles, beta, ising))\n",
        "    i = 1\n",
        "    for _ in range(N_iterations):\n",
        "      if MSE[-1] < 10 ** -5:\n",
        "        print(\"10^-5 MSE threshold was achieved\")\n",
        "        break\n",
        "        \n",
        "      # Find most suitable coefs\n",
        "      result_g = minimize(g_loss_func,\n",
        "                        args=(rho_t, angles, beta, ising),\n",
        "                        x0=params_g.reshape(param_num*N_spins),\n",
        "                        method='Nelder-Mead',\n",
        "                        options={'maxiter':g_max_iter})\n",
        "      params_g = np.array(result_g.x).reshape(param_num, N_spins)\n",
        "      rho_g = density_matr(params_g, beta, ising)\n",
        "      params.append(params_g)\n",
        "      # Keep track of errors change\n",
        "      TD.append(result_g.fun)\n",
        "      MSE.append(mse(params_t, params_g))\n",
        "      # Find basis\n",
        "      result_d = minimize(d_loss_func,\n",
        "                        args=(rho_g, rho_t),\n",
        "                        x0=angles.reshape(2*N_spins),\n",
        "                        method='Nelder-Mead',\n",
        "                        options={'maxiter':d_max_iter}).x\n",
        "      angles = result_d.reshape(2, N_spins)\n",
        "      print(str(i) + \"/\" + str(N_iterations))\n",
        "      i += 1\n",
        "    return MSE, TD, params, angles"
      ],
      "execution_count": 0,
      "outputs": []
    },
    {
      "cell_type": "code",
      "metadata": {
        "id": "75G9DSyOE0UQ",
        "colab_type": "code",
        "colab": {}
      },
      "source": [
        "# Plot function\n",
        "def double_plot(MSE, TD):\n",
        "  X = range(len(MSE))\n",
        "  fig, ax1 = plt.subplots()\n",
        "\n",
        "\n",
        "  color = 'tab:red'\n",
        "  ax1.set_xlabel('iterations')\n",
        "  ax1.set_ylabel(f'MSE', color=color)\n",
        "  ax1.scatter(X, MSE, color=color)\n",
        "  ax1.tick_params(axis='y', labelcolor=color)\n",
        "\n",
        "  ax2 = ax1.twinx()  # instantiate a second axes that shares the same x-axis\n",
        "\n",
        "  color = 'tab:blue'\n",
        "  ax2.set_ylabel(f'TD', color=color)  # we've already handled the x-label with ax1\n",
        "  ax2.scatter(X, TD, color=color)\n",
        "  ax2.tick_params(axis='y', labelcolor=color)\n",
        "\n",
        "  fig.tight_layout()"
      ],
      "execution_count": 0,
      "outputs": []
    },
    {
      "cell_type": "code",
      "metadata": {
        "scrolled": true,
        "id": "-FOHZ-IBCno_",
        "colab_type": "code",
        "outputId": "476d68a7-90da-4c0a-dfb5-8d4f539cc5f5",
        "colab": {
          "base_uri": "https://localhost:8080/",
          "height": 420
        }
      },
      "source": [
        "# Target hamiltonian we need to restore\n",
        "beta = 0.3\n",
        "N_spins = 3\n",
        "ising = False\n",
        "param_num = 2 if ising else 5\n",
        "\n",
        "params_t = np.array([[0,0,0],\n",
        "            [0,0,0],\n",
        "            [1,1,1],\n",
        "            [1,1,1],\n",
        "            [1,1,1]])\n",
        "# params_t = np.random.uniform(-1, 1, (param_num, N_spins))\n",
        "\n",
        "rho_t = density_matr(params_t, beta, ising)\n",
        "rho_t"
      ],
      "execution_count": 28,
      "outputs": [
        {
          "output_type": "execute_result",
          "data": {
            "text/plain": [
              "array([[ 0.01343918+0.j,  0.        +0.j,  0.        +0.j,\n",
              "         0.        +0.j,  0.        +0.j,  0.        +0.j,\n",
              "         0.        +0.j,  0.        +0.j],\n",
              "       [ 0.        +0.j,  0.10692422+0.j, -0.04121822+0.j,\n",
              "         0.        +0.j, -0.04121822+0.j,  0.        +0.j,\n",
              "         0.        +0.j,  0.        +0.j],\n",
              "       [ 0.        +0.j, -0.04121822+0.j,  0.10692422+0.j,\n",
              "         0.        +0.j, -0.04121822+0.j,  0.        +0.j,\n",
              "         0.        +0.j,  0.        +0.j],\n",
              "       [ 0.        +0.j,  0.        +0.j,  0.        +0.j,\n",
              "         0.19482863+0.j,  0.        +0.j, -0.07510449+0.j,\n",
              "        -0.07510449+0.j,  0.        +0.j],\n",
              "       [ 0.        +0.j, -0.04121822+0.j, -0.04121822+0.j,\n",
              "         0.        +0.j,  0.10692422+0.j,  0.        +0.j,\n",
              "         0.        +0.j,  0.        +0.j],\n",
              "       [ 0.        +0.j,  0.        +0.j,  0.        +0.j,\n",
              "        -0.07510449+0.j,  0.        +0.j,  0.19482863+0.j,\n",
              "        -0.07510449+0.j,  0.        +0.j],\n",
              "       [ 0.        +0.j,  0.        +0.j,  0.        +0.j,\n",
              "        -0.07510449+0.j,  0.        +0.j, -0.07510449+0.j,\n",
              "         0.19482863+0.j,  0.        +0.j],\n",
              "       [ 0.        +0.j,  0.        +0.j,  0.        +0.j,\n",
              "         0.        +0.j,  0.        +0.j,  0.        +0.j,\n",
              "         0.        +0.j,  0.08130229+0.j]])"
            ]
          },
          "metadata": {
            "tags": []
          },
          "execution_count": 28
        }
      ]
    },
    {
      "cell_type": "code",
      "metadata": {
        "id": "a8iIFuHPCnpS",
        "colab_type": "code",
        "outputId": "8042fc71-d5c6-4a16-88e3-d560e3739959",
        "colab": {
          "base_uri": "https://localhost:8080/",
          "height": 498
        }
      },
      "source": [
        "# Run \n",
        "%%time\n",
        "np.random.seed(43)\n",
        "N_iterations = 10\n",
        "MSE, TD, params, angles = construct(N_iterations,\n",
        "                                    d_max_iter=100,\n",
        "                                    g_max_iter=1100,\n",
        "                                    beta = 0.3,\n",
        "                                    ising=ising)\n",
        "double_plot(MSE, TD)"
      ],
      "execution_count": 29,
      "outputs": [
        {
          "output_type": "stream",
          "text": [
            "1/10\n",
            "2/10\n",
            "3/10\n",
            "4/10\n",
            "5/10\n",
            "6/10\n",
            "7/10\n",
            "8/10\n",
            "9/10\n",
            "10/10\n",
            "CPU times: user 1min 50s, sys: 59.2 ms, total: 1min 50s\n",
            "Wall time: 1min 50s\n"
          ],
          "name": "stdout"
        },
        {
          "output_type": "display_data",
          "data": {
            "text/plain": [
              "<Figure size 432x288 with 2 Axes>"
            ],
            "image/png": "[encoded data removed]"
          },
          "metadata": {
            "tags": [],
            "needs_background": "light"
          }
        }
      ]
    },
    {
      "cell_type": "code",
      "metadata": {
        "id": "7LKc7OxOjT80",
        "colab_type": "code",
        "colab": {
          "base_uri": "https://localhost:8080/",
          "height": 834
        },
        "outputId": "3526f081-85fb-41bb-ec37-0c0ebdfc2874"
      },
      "source": [
        "# Run \n",
        "%%time\n",
        "np.random.seed(43)\n",
        "N_iterations = 30\n",
        "MSE, TD, params, angles = construct(N_iterations,\n",
        "                                    d_max_iter=1100,\n",
        "                                    g_max_iter=100,\n",
        "                                    beta = 0.3,\n",
        "                                    ising=ising)\n",
        "double_plot(MSE, TD)"
      ],
      "execution_count": 33,
      "outputs": [
        {
          "output_type": "stream",
          "text": [
            "1/30\n",
            "2/30\n",
            "3/30\n",
            "4/30\n",
            "5/30\n",
            "6/30\n",
            "7/30\n",
            "8/30\n",
            "9/30\n",
            "10/30\n",
            "11/30\n",
            "12/30\n",
            "13/30\n",
            "14/30\n",
            "15/30\n",
            "16/30\n",
            "17/30\n",
            "18/30\n",
            "19/30\n",
            "20/30\n",
            "21/30\n",
            "22/30\n",
            "23/30\n",
            "24/30\n",
            "25/30\n",
            "26/30\n",
            "27/30\n",
            "28/30\n",
            "29/30\n",
            "30/30\n",
            "CPU times: user 35.1 s, sys: 12.3 ms, total: 35.1 s\n",
            "Wall time: 35 s\n"
          ],
          "name": "stdout"
        },
        {
          "output_type": "display_data",
          "data": {
            "text/plain": [
              "<Figure size 432x288 with 2 Axes>"
            ],
            "image/png": "[encoded data removed]"
          },
          "metadata": {
            "tags": [],
            "needs_background": "light"
          }
        }
      ]
    },
    {
      "cell_type": "code",
      "metadata": {
        "id": "zmhrwwz4IJeB",
        "colab_type": "code",
        "outputId": "658c86b5-a650-4c01-ce9b-46a661b124db",
        "colab": {
          "base_uri": "https://localhost:8080/",
          "height": 538
        }
      },
      "source": [
        "MSE"
      ],
      "execution_count": 34,
      "outputs": [
        {
          "output_type": "execute_result",
          "data": {
            "text/plain": [
              "[0.9932731582667628,\n",
              " 0.8469280693392074,\n",
              " 0.7510040699132879,\n",
              " 0.8750519004608464,\n",
              " 0.8375870516929848,\n",
              " 0.7605881437559611,\n",
              " 0.7362715952834703,\n",
              " 0.6360929377639747,\n",
              " 0.9812552617502122,\n",
              " 0.8050333483568953,\n",
              " 0.4141509876919179,\n",
              " 0.4302756859823437,\n",
              " 0.4244714253712734,\n",
              " 0.40533309538673673,\n",
              " 0.4100020723401096,\n",
              " 0.8139153047270046,\n",
              " 1.446754422799991,\n",
              " 0.851752772433881,\n",
              " 1.0759641440776397,\n",
              " 2.0444951203380852,\n",
              " 10.877991975493904,\n",
              " 18.9972132381607,\n",
              " 32.31647935724214,\n",
              " 1.200496501017845,\n",
              " 1.0967790800999235,\n",
              " 0.8964729656124103,\n",
              " 0.654183584170169,\n",
              " 2.400049344168463,\n",
              " 0.444116538325781,\n",
              " 0.5103843179090598,\n",
              " 0.492535497445768]"
            ]
          },
          "metadata": {
            "tags": []
          },
          "execution_count": 34
        }
      ]
    },
    {
      "cell_type": "code",
      "metadata": {
        "id": "tAwup79XM-VA",
        "colab_type": "code",
        "outputId": "c4640e5e-87e0-4fd0-b357-3de6294a4a8b",
        "colab": {
          "base_uri": "https://localhost:8080/",
          "height": 202
        }
      },
      "source": [
        "TD"
      ],
      "execution_count": 12,
      "outputs": [
        {
          "output_type": "execute_result",
          "data": {
            "text/plain": [
              "[0.6823259347335084,\n",
              " 0.3769585454739206,\n",
              " 0.14928875072805597,\n",
              " 0.13497313998437424,\n",
              " 0.133458161745063,\n",
              " 0.12049849226435833,\n",
              " 0.11455863858994733,\n",
              " 0.11190523442721567,\n",
              " 0.11153828661627406,\n",
              " 0.11153420751335097,\n",
              " 0.11152512006590234]"
            ]
          },
          "metadata": {
            "tags": []
          },
          "execution_count": 12
        }
      ]
    },
    {
      "cell_type": "code",
      "metadata": {
        "id": "o_OhtTppM_KZ",
        "colab_type": "code",
        "outputId": "1a24bcea-198e-4dbc-b66c-f4b25bdf2665",
        "colab": {
          "base_uri": "https://localhost:8080/",
          "height": 50
        }
      },
      "source": [
        "params_t"
      ],
      "execution_count": 16,
      "outputs": [
        {
          "output_type": "execute_result",
          "data": {
            "text/plain": [
              "array([[-0.21009996,  0.60409424, -0.49115775, -0.88623013],\n",
              "       [ 0.73329728, -0.55794201, -0.1900211 , -0.36780706]])"
            ]
          },
          "metadata": {
            "tags": []
          },
          "execution_count": 16
        }
      ]
    },
    {
      "cell_type": "code",
      "metadata": {
        "id": "GUImQm4OVLVg",
        "colab_type": "code",
        "outputId": "40829654-604c-4860-8e1d-e2c25dd0dfe8",
        "colab": {
          "base_uri": "https://localhost:8080/",
          "height": 50
        }
      },
      "source": [
        "params[-1]"
      ],
      "execution_count": 17,
      "outputs": [
        {
          "output_type": "execute_result",
          "data": {
            "text/plain": [
              "array([[-0.20842846,  0.60433512, -0.49269013, -0.88587367],\n",
              "       [ 0.73307843, -0.55795791, -0.19177613, -0.36639927]])"
            ]
          },
          "metadata": {
            "tags": []
          },
          "execution_count": 17
        }
      ]
    },
    {
      "cell_type": "code",
      "metadata": {
        "id": "AqBziYfsksfS",
        "colab_type": "code",
        "colab": {}
      },
      "source": [
        "d_max_iters = [i for i in range(100, 2000, 100)]"
      ],
      "execution_count": 0,
      "outputs": []
    },
    {
      "cell_type": "code",
      "metadata": {
        "id": "l809s4Ke7uSu",
        "colab_type": "code",
        "outputId": "c0f5fd23-ab02-4891-c437-fff700210ab2",
        "colab": {
          "base_uri": "https://localhost:8080/",
          "height": 101
        }
      },
      "source": [
        "MSEs = []\n",
        "TDs = []\n",
        "paramss = []\n",
        "for d_iter in d_max_iters:\n",
        "  np.random.seed(43)\n",
        "  N_iterations = 20\n",
        "  MSE, TD, params, angles = construct(N_iterations,\n",
        "                                    d_max_iter=d_iter,\n",
        "                                    g_max_iter=2000-d_iter,\n",
        "                                    beta = 0.3,\n",
        "                                    ising=ising)\n",
        "  MSEs.append(MSE)\n",
        "  TDs.append(TD)\n",
        "  paramss.appdend(params)\n",
        "  double_plot(MSE, TD)"
      ],
      "execution_count": 0,
      "outputs": [
        {
          "output_type": "stream",
          "text": [
            "1/20\n",
            "2/20\n",
            "3/20\n"
          ],
          "name": "stdout"
        },
        {
          "output_type": "stream",
          "text": [
            "/home/koritskiy/rqc/hamiltonian_learning/modules/matrices.py:67: RuntimeWarning: invalid value encountered in true_divide\n",
            "  rho = sp.linalg.expm(-beta * H) / Z\n"
          ],
          "name": "stderr"
        }
      ]
    },
    {
      "cell_type": "code",
      "metadata": {
        "id": "Fwq1NJQX7vEM",
        "colab_type": "code",
        "colab": {}
      },
      "source": [
        ""
      ],
      "execution_count": 0,
      "outputs": []
    }
  ]
}