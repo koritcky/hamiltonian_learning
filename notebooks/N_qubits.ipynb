{
  "nbformat": 4,
  "nbformat_minor": 0,
  "metadata": {
    "kernelspec": {
      "display_name": "Python (hamiltonian_learning)",
      "language": "python",
      "name": "hamiltonian_learning"
    },
    "language_info": {
      "codemirror_mode": {
        "name": "ipython",
        "version": 3
      },
      "file_extension": ".py",
      "mimetype": "text/x-python",
      "name": "python",
      "nbconvert_exporter": "python",
      "pygments_lexer": "ipython3",
      "version": "3.7.4"
    },
    "colab": {
      "name": "N_qubits.ipynb",
      "provenance": [],
      "collapsed_sections": []
    }
  },
  "cells": [
    {
      "cell_type": "markdown",
      "metadata": {
        "id": "yPSvbOiA45_r",
        "colab_type": "text"
      },
      "source": [
        "\n",
        "**You need to past this to terminal to get access token** \n",
        "\n",
        "```\n",
        "jupyter notebook --NotebookApp.allow_origin='https://colab.research.google.com' \\\n",
        "  --port=9090 --no-browser\n",
        "```\n",
        "\n"
      ]
    },
    {
      "cell_type": "code",
      "metadata": {
        "id": "jNa7ihkgHL9w",
        "colab_type": "code",
        "colab": {}
      },
      "source": [
        "import os, sys\n",
        "os.chdir('/home/koritskiy/rqc/hamiltonian_learning')\n",
        "\n",
        "import numpy as np\n",
        "from sklearn.metrics import mean_squared_error as mse\n",
        "from scipy.optimize import minimize\n",
        "import matplotlib.pyplot as plt\n",
        "\n",
        "from modules.matrices import *\n",
        "from modules.loss_functions import *"
      ],
      "execution_count": 0,
      "outputs": []
    },
    {
      "cell_type": "code",
      "metadata": {
        "id": "1hLNnylzsYzP",
        "colab_type": "code",
        "colab": {}
      },
      "source": [
        "def mse2(X, Y):\n",
        "  Y2 = Y\n",
        "  real_J = (Y2[-1, 0] + Y2[-1, 1])/2 \n",
        "  Y2[-1, 0] = real_J\n",
        "  Y2[-1, 1] = real_J\n",
        "  return(mse(X, Y2))"
      ],
      "execution_count": 0,
      "outputs": []
    },
    {
      "cell_type": "code",
      "metadata": {
        "id": "anYWslVUCnpM",
        "colab_type": "code",
        "colab": {}
      },
      "source": [
        "# Main function\n",
        "def construct(N_iterations, d_max_iter, g_max_iter, beta, ising=False):\n",
        "    param_num = 2 if ising else 4\n",
        "    TD = []\n",
        "    MSE = []\n",
        "    params = []\n",
        "    \n",
        "    # initiate coefs (couplings and fields) and angles \n",
        "    params_g = np.random.uniform(-1, 1, (param_num, N_spins))\n",
        "    rho_g = density_matr(params_g, beta, ising)\n",
        "    angles = np.zeros((2, N_spins))\n",
        "    \n",
        "    MSE.append(mse2(params_t, params_g))\n",
        "    TD.append(g_loss_func(params_g, rho_t, angles, beta, ising))\n",
        "    i = 1\n",
        "    for _ in range(N_iterations):\n",
        "      if MSE[-1] < 10 ** -5:\n",
        "        print(\"10^-5 MSE threshold was achieved\")\n",
        "        break\n",
        "        \n",
        "      # Find most suitable coefs\n",
        "      result_g = minimize(g_loss_func,\n",
        "                        args=(rho_t, angles, beta, ising),\n",
        "                        x0=params_g.reshape(param_num*N_spins),\n",
        "                        method='Nelder-Mead',\n",
        "                        options={'maxiter':g_max_iter})\n",
        "      params_g = np.array(result_g.x).reshape(param_num, N_spins)\n",
        "      rho_g = density_matr(params_g, beta, ising)\n",
        "      params.append(params_g)\n",
        "      # Keep track of errors change\n",
        "      TD.append(result_g.fun)\n",
        "      MSE.append(mse2(params_t, params_g))\n",
        "      # Find basis\n",
        "      result_d = minimize(d_loss_func,\n",
        "                        args=(rho_g, rho_t),\n",
        "                        x0=angles.reshape(2*N_spins),\n",
        "                        method='Nelder-Mead',\n",
        "                        options={'maxiter':d_max_iter}).x\n",
        "      angles = result_d.reshape(2, N_spins)\n",
        "      print(str(i) + \"/\" + str(N_iterations))\n",
        "      i += 1\n",
        "    return MSE, TD, params, angles"
      ],
      "execution_count": 0,
      "outputs": []
    },
    {
      "cell_type": "code",
      "metadata": {
        "id": "75G9DSyOE0UQ",
        "colab_type": "code",
        "colab": {}
      },
      "source": [
        "# Plot function\n",
        "def double_plot(MSE, TD):\n",
        "  X = range(len(MSE))\n",
        "  fig, ax1 = plt.subplots()\n",
        "\n",
        "\n",
        "  color = 'tab:red'\n",
        "  ax1.set_xlabel('iterations')\n",
        "  ax1.set_ylabel(f'MSE', color=color)\n",
        "  ax1.scatter(X, MSE, color=color)\n",
        "  ax1.tick_params(axis='y', labelcolor=color)\n",
        "\n",
        "  ax2 = ax1.twinx()  # instantiate a second axes that shares the same x-axis\n",
        "\n",
        "  color = 'tab:blue'\n",
        "  ax2.set_ylabel(f'TD', color=color)  # we've already handled the x-label with ax1\n",
        "  ax2.scatter(X, TD, color=color)\n",
        "  ax2.tick_params(axis='y', labelcolor=color)\n",
        "\n",
        "  fig.tight_layout()"
      ],
      "execution_count": 0,
      "outputs": []
    },
    {
      "cell_type": "code",
      "metadata": {
        "scrolled": true,
        "id": "-FOHZ-IBCno_",
        "colab_type": "code",
        "outputId": "0e2520df-74c9-4b8f-a97b-a0161a435e57",
        "colab": {
          "base_uri": "https://localhost:8080/",
          "height": 151
        }
      },
      "source": [
        "# Target hamiltonian we need to restore\n",
        "beta = 0.3\n",
        "N_spins = 2\n",
        "ising = False\n",
        "param_num = 2 if ising else 4\n",
        "\n",
        "# params_t = np.array([[0,0,0],\n",
        "#             [0,0,0],\n",
        "#             [1,1,1],\n",
        "#             [1,1,1],\n",
        "#             [1,1,1]])\n",
        "params_t = np.array([[-0.5, 0.3],\n",
        "                     [1, -0.7],\n",
        "                     [-0.4, 0.5],\n",
        "                     [-1, -1]])\n",
        "\n",
        "rho_t = density_matr(params_t, beta, ising)\n",
        "rho_t"
      ],
      "execution_count": 7,
      "outputs": [
        {
          "output_type": "execute_result",
          "data": {
            "text/plain": [
              "array([[ 0.36353255-7.78437421e-19j, -0.02164782-5.05115739e-02j,\n",
              "         0.02858829+5.71765829e-02j,  0.01256715-1.48520858e-02j],\n",
              "       [-0.02164782+5.05115739e-02j,  0.15629547+2.01793634e-20j,\n",
              "        -0.01313802+7.72824556e-04j,  0.03668618+7.33723612e-02j],\n",
              "       [ 0.02858829-5.71765829e-02j, -0.01313802-7.72824556e-04j,\n",
              "         0.09337282-6.70708222e-19j, -0.01816005-4.23734399e-02j],\n",
              "       [ 0.01256715+1.48520858e-02j,  0.03668618-7.33723612e-02j,\n",
              "        -0.01816005+4.23734399e-02j,  0.38679916+1.42896628e-18j]])"
            ]
          },
          "metadata": {
            "tags": []
          },
          "execution_count": 7
        }
      ]
    },
    {
      "cell_type": "code",
      "metadata": {
        "id": "a8iIFuHPCnpS",
        "colab_type": "code",
        "outputId": "bb28a2e3-db7d-4fb9-fde4-5feb0e96ed81",
        "colab": {
          "base_uri": "https://localhost:8080/",
          "height": 1000
        }
      },
      "source": [
        "# Run \n",
        "%%time\n",
        "np.random.seed(42)\n",
        "N_iterations = 50\n",
        "MSE, TD, params, angles = construct(N_iterations,\n",
        "                                    d_max_iter=1000,\n",
        "                                    g_max_iter=1000,\n",
        "                                    beta = 0.3,\n",
        "                                    ising=ising)\n",
        "double_plot(MSE, TD)"
      ],
      "execution_count": 12,
      "outputs": [
        {
          "output_type": "stream",
          "text": [
            "1/50\n",
            "2/50\n",
            "3/50\n",
            "4/50\n",
            "5/50\n",
            "6/50\n",
            "7/50\n",
            "8/50\n",
            "9/50\n",
            "10/50\n",
            "11/50\n"
          ],
          "name": "stdout"
        },
        {
          "output_type": "stream",
          "text": [
            "/home/koritskiy/rqc/hamiltonian_learning/modules/matrices.py:65: RuntimeWarning: invalid value encountered in true_divide\n",
            "  rho = sp.linalg.expm(-beta * H) / Z\n",
            "/home/koritskiy/anaconda3/envs/hamiltonian_learning/lib/python3.7/site-packages/numpy/core/fromnumeric.py:1641: RuntimeWarning: overflow encountered in reduce\n",
            "  return asanyarray(a).trace(offset=offset, axis1=axis1, axis2=axis2, dtype=dtype, out=out)\n"
          ],
          "name": "stderr"
        },
        {
          "output_type": "stream",
          "text": [
            "12/50\n",
            "13/50\n",
            "14/50\n",
            "15/50\n",
            "16/50\n",
            "17/50\n",
            "18/50\n",
            "19/50\n",
            "20/50\n",
            "21/50\n",
            "22/50\n"
          ],
          "name": "stdout"
        },
        {
          "output_type": "stream",
          "text": [
            "/home/koritskiy/rqc/hamiltonian_learning/modules/matrices.py:65: RuntimeWarning: invalid value encountered in true_divide\n",
            "  rho = sp.linalg.expm(-beta * H) / Z\n",
            "/home/koritskiy/anaconda3/envs/hamiltonian_learning/lib/python3.7/site-packages/numpy/core/fromnumeric.py:1641: RuntimeWarning: overflow encountered in reduce\n",
            "  return asanyarray(a).trace(offset=offset, axis1=axis1, axis2=axis2, dtype=dtype, out=out)\n"
          ],
          "name": "stderr"
        },
        {
          "output_type": "stream",
          "text": [
            "23/50\n"
          ],
          "name": "stdout"
        },
        {
          "output_type": "stream",
          "text": [
            "/home/koritskiy/rqc/hamiltonian_learning/modules/matrices.py:65: RuntimeWarning: invalid value encountered in true_divide\n",
            "  rho = sp.linalg.expm(-beta * H) / Z\n",
            "/home/koritskiy/anaconda3/envs/hamiltonian_learning/lib/python3.7/site-packages/numpy/core/fromnumeric.py:1641: RuntimeWarning: overflow encountered in reduce\n",
            "  return asanyarray(a).trace(offset=offset, axis1=axis1, axis2=axis2, dtype=dtype, out=out)\n"
          ],
          "name": "stderr"
        },
        {
          "output_type": "stream",
          "text": [
            "24/50\n"
          ],
          "name": "stdout"
        },
        {
          "output_type": "stream",
          "text": [
            "/home/koritskiy/rqc/hamiltonian_learning/modules/matrices.py:65: RuntimeWarning: invalid value encountered in true_divide\n",
            "  rho = sp.linalg.expm(-beta * H) / Z\n",
            "/home/koritskiy/anaconda3/envs/hamiltonian_learning/lib/python3.7/site-packages/numpy/core/fromnumeric.py:1641: RuntimeWarning: overflow encountered in reduce\n",
            "  return asanyarray(a).trace(offset=offset, axis1=axis1, axis2=axis2, dtype=dtype, out=out)\n"
          ],
          "name": "stderr"
        },
        {
          "output_type": "stream",
          "text": [
            "25/50\n"
          ],
          "name": "stdout"
        },
        {
          "output_type": "stream",
          "text": [
            "/home/koritskiy/anaconda3/envs/hamiltonian_learning/lib/python3.7/site-packages/numpy/core/fromnumeric.py:1641: RuntimeWarning: overflow encountered in reduce\n",
            "  return asanyarray(a).trace(offset=offset, axis1=axis1, axis2=axis2, dtype=dtype, out=out)\n",
            "/home/koritskiy/rqc/hamiltonian_learning/modules/matrices.py:65: RuntimeWarning: invalid value encountered in true_divide\n",
            "  rho = sp.linalg.expm(-beta * H) / Z\n"
          ],
          "name": "stderr"
        },
        {
          "output_type": "stream",
          "text": [
            "26/50\n"
          ],
          "name": "stdout"
        },
        {
          "output_type": "stream",
          "text": [
            "/home/koritskiy/anaconda3/envs/hamiltonian_learning/lib/python3.7/site-packages/numpy/core/fromnumeric.py:1641: RuntimeWarning: overflow encountered in reduce\n",
            "  return asanyarray(a).trace(offset=offset, axis1=axis1, axis2=axis2, dtype=dtype, out=out)\n",
            "/home/koritskiy/rqc/hamiltonian_learning/modules/matrices.py:65: RuntimeWarning: invalid value encountered in true_divide\n",
            "  rho = sp.linalg.expm(-beta * H) / Z\n"
          ],
          "name": "stderr"
        },
        {
          "output_type": "stream",
          "text": [
            "27/50\n"
          ],
          "name": "stdout"
        },
        {
          "output_type": "stream",
          "text": [
            "/home/koritskiy/anaconda3/envs/hamiltonian_learning/lib/python3.7/site-packages/numpy/core/fromnumeric.py:1641: RuntimeWarning: overflow encountered in reduce\n",
            "  return asanyarray(a).trace(offset=offset, axis1=axis1, axis2=axis2, dtype=dtype, out=out)\n",
            "/home/koritskiy/rqc/hamiltonian_learning/modules/matrices.py:65: RuntimeWarning: invalid value encountered in true_divide\n",
            "  rho = sp.linalg.expm(-beta * H) / Z\n"
          ],
          "name": "stderr"
        },
        {
          "output_type": "stream",
          "text": [
            "28/50\n"
          ],
          "name": "stdout"
        },
        {
          "output_type": "stream",
          "text": [
            "/home/koritskiy/anaconda3/envs/hamiltonian_learning/lib/python3.7/site-packages/numpy/core/fromnumeric.py:1641: RuntimeWarning: overflow encountered in reduce\n",
            "  return asanyarray(a).trace(offset=offset, axis1=axis1, axis2=axis2, dtype=dtype, out=out)\n",
            "/home/koritskiy/rqc/hamiltonian_learning/modules/matrices.py:65: RuntimeWarning: invalid value encountered in true_divide\n",
            "  rho = sp.linalg.expm(-beta * H) / Z\n"
          ],
          "name": "stderr"
        },
        {
          "output_type": "stream",
          "text": [
            "29/50\n"
          ],
          "name": "stdout"
        },
        {
          "output_type": "stream",
          "text": [
            "/home/koritskiy/anaconda3/envs/hamiltonian_learning/lib/python3.7/site-packages/numpy/core/fromnumeric.py:1641: RuntimeWarning: overflow encountered in reduce\n",
            "  return asanyarray(a).trace(offset=offset, axis1=axis1, axis2=axis2, dtype=dtype, out=out)\n",
            "/home/koritskiy/rqc/hamiltonian_learning/modules/matrices.py:65: RuntimeWarning: invalid value encountered in true_divide\n",
            "  rho = sp.linalg.expm(-beta * H) / Z\n"
          ],
          "name": "stderr"
        },
        {
          "output_type": "stream",
          "text": [
            "30/50\n"
          ],
          "name": "stdout"
        },
        {
          "output_type": "stream",
          "text": [
            "/home/koritskiy/anaconda3/envs/hamiltonian_learning/lib/python3.7/site-packages/numpy/core/fromnumeric.py:1641: RuntimeWarning: overflow encountered in reduce\n",
            "  return asanyarray(a).trace(offset=offset, axis1=axis1, axis2=axis2, dtype=dtype, out=out)\n",
            "/home/koritskiy/rqc/hamiltonian_learning/modules/matrices.py:65: RuntimeWarning: invalid value encountered in true_divide\n",
            "  rho = sp.linalg.expm(-beta * H) / Z\n"
          ],
          "name": "stderr"
        },
        {
          "output_type": "stream",
          "text": [
            "31/50\n"
          ],
          "name": "stdout"
        },
        {
          "output_type": "stream",
          "text": [
            "/home/koritskiy/anaconda3/envs/hamiltonian_learning/lib/python3.7/site-packages/numpy/core/fromnumeric.py:1641: RuntimeWarning: overflow encountered in reduce\n",
            "  return asanyarray(a).trace(offset=offset, axis1=axis1, axis2=axis2, dtype=dtype, out=out)\n",
            "/home/koritskiy/rqc/hamiltonian_learning/modules/matrices.py:65: RuntimeWarning: invalid value encountered in true_divide\n",
            "  rho = sp.linalg.expm(-beta * H) / Z\n"
          ],
          "name": "stderr"
        },
        {
          "output_type": "stream",
          "text": [
            "32/50\n"
          ],
          "name": "stdout"
        },
        {
          "output_type": "stream",
          "text": [
            "/home/koritskiy/anaconda3/envs/hamiltonian_learning/lib/python3.7/site-packages/numpy/core/fromnumeric.py:1641: RuntimeWarning: overflow encountered in reduce\n",
            "  return asanyarray(a).trace(offset=offset, axis1=axis1, axis2=axis2, dtype=dtype, out=out)\n",
            "/home/koritskiy/rqc/hamiltonian_learning/modules/matrices.py:65: RuntimeWarning: invalid value encountered in true_divide\n",
            "  rho = sp.linalg.expm(-beta * H) / Z\n"
          ],
          "name": "stderr"
        },
        {
          "output_type": "stream",
          "text": [
            "33/50\n"
          ],
          "name": "stdout"
        },
        {
          "output_type": "stream",
          "text": [
            "/home/koritskiy/anaconda3/envs/hamiltonian_learning/lib/python3.7/site-packages/numpy/core/fromnumeric.py:1641: RuntimeWarning: overflow encountered in reduce\n",
            "  return asanyarray(a).trace(offset=offset, axis1=axis1, axis2=axis2, dtype=dtype, out=out)\n",
            "/home/koritskiy/rqc/hamiltonian_learning/modules/matrices.py:65: RuntimeWarning: invalid value encountered in true_divide\n",
            "  rho = sp.linalg.expm(-beta * H) / Z\n"
          ],
          "name": "stderr"
        },
        {
          "output_type": "stream",
          "text": [
            "34/50\n"
          ],
          "name": "stdout"
        },
        {
          "output_type": "stream",
          "text": [
            "/home/koritskiy/anaconda3/envs/hamiltonian_learning/lib/python3.7/site-packages/numpy/core/fromnumeric.py:1641: RuntimeWarning: overflow encountered in reduce\n",
            "  return asanyarray(a).trace(offset=offset, axis1=axis1, axis2=axis2, dtype=dtype, out=out)\n",
            "/home/koritskiy/rqc/hamiltonian_learning/modules/matrices.py:65: RuntimeWarning: invalid value encountered in true_divide\n",
            "  rho = sp.linalg.expm(-beta * H) / Z\n"
          ],
          "name": "stderr"
        },
        {
          "output_type": "stream",
          "text": [
            "35/50\n"
          ],
          "name": "stdout"
        },
        {
          "output_type": "stream",
          "text": [
            "/home/koritskiy/anaconda3/envs/hamiltonian_learning/lib/python3.7/site-packages/numpy/core/fromnumeric.py:1641: RuntimeWarning: overflow encountered in reduce\n",
            "  return asanyarray(a).trace(offset=offset, axis1=axis1, axis2=axis2, dtype=dtype, out=out)\n",
            "/home/koritskiy/rqc/hamiltonian_learning/modules/matrices.py:65: RuntimeWarning: invalid value encountered in true_divide\n",
            "  rho = sp.linalg.expm(-beta * H) / Z\n"
          ],
          "name": "stderr"
        },
        {
          "output_type": "stream",
          "text": [
            "36/50\n"
          ],
          "name": "stdout"
        },
        {
          "output_type": "stream",
          "text": [
            "/home/koritskiy/anaconda3/envs/hamiltonian_learning/lib/python3.7/site-packages/numpy/core/fromnumeric.py:1641: RuntimeWarning: overflow encountered in reduce\n",
            "  return asanyarray(a).trace(offset=offset, axis1=axis1, axis2=axis2, dtype=dtype, out=out)\n",
            "/home/koritskiy/rqc/hamiltonian_learning/modules/matrices.py:65: RuntimeWarning: invalid value encountered in true_divide\n",
            "  rho = sp.linalg.expm(-beta * H) / Z\n"
          ],
          "name": "stderr"
        },
        {
          "output_type": "stream",
          "text": [
            "37/50\n"
          ],
          "name": "stdout"
        },
        {
          "output_type": "stream",
          "text": [
            "/home/koritskiy/anaconda3/envs/hamiltonian_learning/lib/python3.7/site-packages/numpy/core/fromnumeric.py:1641: RuntimeWarning: overflow encountered in reduce\n",
            "  return asanyarray(a).trace(offset=offset, axis1=axis1, axis2=axis2, dtype=dtype, out=out)\n",
            "/home/koritskiy/rqc/hamiltonian_learning/modules/matrices.py:65: RuntimeWarning: invalid value encountered in true_divide\n",
            "  rho = sp.linalg.expm(-beta * H) / Z\n"
          ],
          "name": "stderr"
        },
        {
          "output_type": "stream",
          "text": [
            "38/50\n"
          ],
          "name": "stdout"
        },
        {
          "output_type": "stream",
          "text": [
            "/home/koritskiy/anaconda3/envs/hamiltonian_learning/lib/python3.7/site-packages/numpy/core/fromnumeric.py:1641: RuntimeWarning: overflow encountered in reduce\n",
            "  return asanyarray(a).trace(offset=offset, axis1=axis1, axis2=axis2, dtype=dtype, out=out)\n",
            "/home/koritskiy/rqc/hamiltonian_learning/modules/matrices.py:65: RuntimeWarning: invalid value encountered in true_divide\n",
            "  rho = sp.linalg.expm(-beta * H) / Z\n"
          ],
          "name": "stderr"
        },
        {
          "output_type": "stream",
          "text": [
            "39/50\n"
          ],
          "name": "stdout"
        },
        {
          "output_type": "stream",
          "text": [
            "/home/koritskiy/anaconda3/envs/hamiltonian_learning/lib/python3.7/site-packages/numpy/core/fromnumeric.py:1641: RuntimeWarning: overflow encountered in reduce\n",
            "  return asanyarray(a).trace(offset=offset, axis1=axis1, axis2=axis2, dtype=dtype, out=out)\n",
            "/home/koritskiy/rqc/hamiltonian_learning/modules/matrices.py:65: RuntimeWarning: invalid value encountered in true_divide\n",
            "  rho = sp.linalg.expm(-beta * H) / Z\n"
          ],
          "name": "stderr"
        },
        {
          "output_type": "stream",
          "text": [
            "40/50\n"
          ],
          "name": "stdout"
        },
        {
          "output_type": "stream",
          "text": [
            "/home/koritskiy/anaconda3/envs/hamiltonian_learning/lib/python3.7/site-packages/numpy/core/fromnumeric.py:1641: RuntimeWarning: overflow encountered in reduce\n",
            "  return asanyarray(a).trace(offset=offset, axis1=axis1, axis2=axis2, dtype=dtype, out=out)\n",
            "/home/koritskiy/rqc/hamiltonian_learning/modules/matrices.py:65: RuntimeWarning: invalid value encountered in true_divide\n",
            "  rho = sp.linalg.expm(-beta * H) / Z\n"
          ],
          "name": "stderr"
        },
        {
          "output_type": "stream",
          "text": [
            "41/50\n"
          ],
          "name": "stdout"
        },
        {
          "output_type": "stream",
          "text": [
            "/home/koritskiy/anaconda3/envs/hamiltonian_learning/lib/python3.7/site-packages/numpy/core/fromnumeric.py:1641: RuntimeWarning: overflow encountered in reduce\n",
            "  return asanyarray(a).trace(offset=offset, axis1=axis1, axis2=axis2, dtype=dtype, out=out)\n",
            "/home/koritskiy/rqc/hamiltonian_learning/modules/matrices.py:65: RuntimeWarning: invalid value encountered in true_divide\n",
            "  rho = sp.linalg.expm(-beta * H) / Z\n"
          ],
          "name": "stderr"
        },
        {
          "output_type": "stream",
          "text": [
            "42/50\n"
          ],
          "name": "stdout"
        },
        {
          "output_type": "stream",
          "text": [
            "/home/koritskiy/anaconda3/envs/hamiltonian_learning/lib/python3.7/site-packages/numpy/core/fromnumeric.py:1641: RuntimeWarning: overflow encountered in reduce\n",
            "  return asanyarray(a).trace(offset=offset, axis1=axis1, axis2=axis2, dtype=dtype, out=out)\n",
            "/home/koritskiy/rqc/hamiltonian_learning/modules/matrices.py:65: RuntimeWarning: invalid value encountered in true_divide\n",
            "  rho = sp.linalg.expm(-beta * H) / Z\n"
          ],
          "name": "stderr"
        },
        {
          "output_type": "stream",
          "text": [
            "43/50\n"
          ],
          "name": "stdout"
        },
        {
          "output_type": "stream",
          "text": [
            "/home/koritskiy/anaconda3/envs/hamiltonian_learning/lib/python3.7/site-packages/numpy/core/fromnumeric.py:1641: RuntimeWarning: overflow encountered in reduce\n",
            "  return asanyarray(a).trace(offset=offset, axis1=axis1, axis2=axis2, dtype=dtype, out=out)\n",
            "/home/koritskiy/rqc/hamiltonian_learning/modules/matrices.py:65: RuntimeWarning: invalid value encountered in true_divide\n",
            "  rho = sp.linalg.expm(-beta * H) / Z\n"
          ],
          "name": "stderr"
        },
        {
          "output_type": "stream",
          "text": [
            "44/50\n"
          ],
          "name": "stdout"
        },
        {
          "output_type": "stream",
          "text": [
            "/home/koritskiy/anaconda3/envs/hamiltonian_learning/lib/python3.7/site-packages/numpy/core/fromnumeric.py:1641: RuntimeWarning: overflow encountered in reduce\n",
            "  return asanyarray(a).trace(offset=offset, axis1=axis1, axis2=axis2, dtype=dtype, out=out)\n",
            "/home/koritskiy/rqc/hamiltonian_learning/modules/matrices.py:65: RuntimeWarning: invalid value encountered in true_divide\n",
            "  rho = sp.linalg.expm(-beta * H) / Z\n"
          ],
          "name": "stderr"
        },
        {
          "output_type": "stream",
          "text": [
            "45/50\n"
          ],
          "name": "stdout"
        },
        {
          "output_type": "stream",
          "text": [
            "/home/koritskiy/anaconda3/envs/hamiltonian_learning/lib/python3.7/site-packages/numpy/core/fromnumeric.py:1641: RuntimeWarning: overflow encountered in reduce\n",
            "  return asanyarray(a).trace(offset=offset, axis1=axis1, axis2=axis2, dtype=dtype, out=out)\n",
            "/home/koritskiy/rqc/hamiltonian_learning/modules/matrices.py:65: RuntimeWarning: invalid value encountered in true_divide\n",
            "  rho = sp.linalg.expm(-beta * H) / Z\n"
          ],
          "name": "stderr"
        },
        {
          "output_type": "stream",
          "text": [
            "46/50\n"
          ],
          "name": "stdout"
        },
        {
          "output_type": "stream",
          "text": [
            "/home/koritskiy/anaconda3/envs/hamiltonian_learning/lib/python3.7/site-packages/numpy/core/fromnumeric.py:1641: RuntimeWarning: overflow encountered in reduce\n",
            "  return asanyarray(a).trace(offset=offset, axis1=axis1, axis2=axis2, dtype=dtype, out=out)\n",
            "/home/koritskiy/rqc/hamiltonian_learning/modules/matrices.py:65: RuntimeWarning: invalid value encountered in true_divide\n",
            "  rho = sp.linalg.expm(-beta * H) / Z\n"
          ],
          "name": "stderr"
        },
        {
          "output_type": "stream",
          "text": [
            "47/50\n"
          ],
          "name": "stdout"
        },
        {
          "output_type": "stream",
          "text": [
            "/home/koritskiy/anaconda3/envs/hamiltonian_learning/lib/python3.7/site-packages/numpy/core/fromnumeric.py:1641: RuntimeWarning: overflow encountered in reduce\n",
            "  return asanyarray(a).trace(offset=offset, axis1=axis1, axis2=axis2, dtype=dtype, out=out)\n",
            "/home/koritskiy/rqc/hamiltonian_learning/modules/matrices.py:65: RuntimeWarning: invalid value encountered in true_divide\n",
            "  rho = sp.linalg.expm(-beta * H) / Z\n"
          ],
          "name": "stderr"
        },
        {
          "output_type": "stream",
          "text": [
            "48/50\n"
          ],
          "name": "stdout"
        },
        {
          "output_type": "stream",
          "text": [
            "/home/koritskiy/anaconda3/envs/hamiltonian_learning/lib/python3.7/site-packages/numpy/core/fromnumeric.py:1641: RuntimeWarning: overflow encountered in reduce\n",
            "  return asanyarray(a).trace(offset=offset, axis1=axis1, axis2=axis2, dtype=dtype, out=out)\n",
            "/home/koritskiy/rqc/hamiltonian_learning/modules/matrices.py:65: RuntimeWarning: invalid value encountered in true_divide\n",
            "  rho = sp.linalg.expm(-beta * H) / Z\n"
          ],
          "name": "stderr"
        },
        {
          "output_type": "stream",
          "text": [
            "49/50\n"
          ],
          "name": "stdout"
        },
        {
          "output_type": "stream",
          "text": [
            "/home/koritskiy/anaconda3/envs/hamiltonian_learning/lib/python3.7/site-packages/numpy/core/fromnumeric.py:1641: RuntimeWarning: overflow encountered in reduce\n",
            "  return asanyarray(a).trace(offset=offset, axis1=axis1, axis2=axis2, dtype=dtype, out=out)\n",
            "/home/koritskiy/rqc/hamiltonian_learning/modules/matrices.py:65: RuntimeWarning: invalid value encountered in true_divide\n",
            "  rho = sp.linalg.expm(-beta * H) / Z\n"
          ],
          "name": "stderr"
        },
        {
          "output_type": "stream",
          "text": [
            "50/50\n",
            "CPU times: user 1min 43s, sys: 52 ms, total: 1min 43s\n",
            "Wall time: 1min 43s\n"
          ],
          "name": "stdout"
        },
        {
          "output_type": "display_data",
          "data": {
            "text/plain": [
              "<Figure size 432x288 with 2 Axes>"
            ],
            "image/png": "[encoded data removed]"
          },
          "metadata": {
            "tags": [],
            "needs_background": "light"
          }
        }
      ]
    },
    {
      "cell_type": "code",
      "metadata": {
        "id": "zmhrwwz4IJeB",
        "colab_type": "code",
        "outputId": "644dcb79-9818-4fb8-c0d6-5ec835c7130b",
        "colab": {
          "base_uri": "https://localhost:8080/",
          "height": 874
        }
      },
      "source": [
        "MSE"
      ],
      "execution_count": 14,
      "outputs": [
        {
          "output_type": "execute_result",
          "data": {
            "text/plain": [
              "[0.5898811048985482,\n",
              " 3.8614785597610912,\n",
              " 2.133231027597814,\n",
              " 0.20419500228887727,\n",
              " 0.32531224563711497,\n",
              " 0.1032892639264096,\n",
              " 3.0983311236842694,\n",
              " 14.305467195921036,\n",
              " 84.36151872758342,\n",
              " 3357.576753013206,\n",
              " 2151.993799314701,\n",
              " 5919.136195562378,\n",
              " 327862.93331948965,\n",
              " 145512.64510427785,\n",
              " 20.458982381380626,\n",
              " 19.74844278680475,\n",
              " 628.1116076971284,\n",
              " 73560.1399597563,\n",
              " 3847.0200145001595,\n",
              " 8455.825034087673,\n",
              " 24357.57053882678,\n",
              " 37104.97007285666,\n",
              " 77217.73763979664,\n",
              " 284263.0904186673,\n",
              " 388257.5837728082,\n",
              " 388257.6007076425,\n",
              " 388257.6007076425,\n",
              " 388257.6007076425,\n",
              " 388257.6007076425,\n",
              " 388257.6007076425,\n",
              " 388257.6007076425,\n",
              " 388257.6007076425,\n",
              " 388257.6007076425,\n",
              " 388257.6007076425,\n",
              " 388257.6007076425,\n",
              " 388257.6007076425,\n",
              " 388257.6007076425,\n",
              " 388257.6007076425,\n",
              " 388257.6007076425,\n",
              " 388257.6007076425,\n",
              " 388257.6007076425,\n",
              " 388257.6007076425,\n",
              " 388257.6007076425,\n",
              " 388257.6007076425,\n",
              " 388257.6007076425,\n",
              " 388257.6007076425,\n",
              " 388257.6007076425,\n",
              " 388257.6007076425,\n",
              " 388257.6007076425,\n",
              " 388257.6007076425,\n",
              " 388257.6007076425]"
            ]
          },
          "metadata": {
            "tags": []
          },
          "execution_count": 14
        }
      ]
    },
    {
      "cell_type": "code",
      "metadata": {
        "id": "tAwup79XM-VA",
        "colab_type": "code",
        "outputId": "36f09ee4-f366-40a3-b240-c9c6e922e371",
        "colab": {
          "base_uri": "https://localhost:8080/",
          "height": 874
        }
      },
      "source": [
        "TD"
      ],
      "execution_count": 13,
      "outputs": [
        {
          "output_type": "execute_result",
          "data": {
            "text/plain": [
              "[0.44044030011437885,\n",
              " 0.08409706384147962,\n",
              " 3.3395483431397643e-07,\n",
              " 2.9554748556814836e-07,\n",
              " 4.225084361209053e-06,\n",
              " 2.9380951614699224e-06,\n",
              " 1.116587052818474e-07,\n",
              " 6.385644501946675e-05,\n",
              " 0.012955192355924183,\n",
              " 0.007466690911007989,\n",
              " 0.04272058282570426,\n",
              " 4.6073229592602516e-08,\n",
              " 0.12671005579509098,\n",
              " 0.16570687586046284,\n",
              " 0.1032862894585592,\n",
              " 1.3407025067913025e-06,\n",
              " 2.8081761221931956e-08,\n",
              " 0.11253446968061112,\n",
              " 0.050912991488584816,\n",
              " 0.0074530421922910095,\n",
              " 5.89435848741271e-09,\n",
              " 1.5020308885560496e-08,\n",
              " 1.9618674573784745e-08,\n",
              " 0.034184025891887154,\n",
              " 0.6152862982567127,\n",
              " 1.0000000328631684,\n",
              " 1.0000000380465928,\n",
              " 1.0000000452396718,\n",
              " 1.0000000452396718,\n",
              " 1.0000000452396718,\n",
              " 1.0000000452396718,\n",
              " 1.0000000452396718,\n",
              " 1.0000000452396718,\n",
              " 1.0000000452396718,\n",
              " 1.0000000452396718,\n",
              " 1.0000000452396718,\n",
              " 1.0000000452396718,\n",
              " 1.0000000452396718,\n",
              " 1.0000000452396718,\n",
              " 1.0000000452396718,\n",
              " 1.0000000452396718,\n",
              " 1.0000000452396718,\n",
              " 1.0000000452396718,\n",
              " 1.0000000452396718,\n",
              " 1.0000000452396718,\n",
              " 1.0000000452396718,\n",
              " 1.0000000452396718,\n",
              " 1.0000000452396718,\n",
              " 1.0000000452396718,\n",
              " 1.0000000452396718,\n",
              " 1.0000000452396718]"
            ]
          },
          "metadata": {
            "tags": []
          },
          "execution_count": 13
        }
      ]
    },
    {
      "cell_type": "code",
      "metadata": {
        "id": "8BLpQ7fSmxHT",
        "colab_type": "code",
        "colab": {
          "base_uri": "https://localhost:8080/",
          "height": 151
        },
        "outputId": "1f875903-0e52-49ab-c0e6-1a4046110a76"
      },
      "source": [
        "density_matr(params_t, beta, ising)"
      ],
      "execution_count": 79,
      "outputs": [
        {
          "output_type": "execute_result",
          "data": {
            "text/plain": [
              "array([[ 0.33907056+0.j, -0.01514748+0.j,  0.03807553+0.j,\n",
              "        -0.00351874+0.j],\n",
              "       [-0.01514748+0.j,  0.0683194 +0.j, -0.0023766 +0.j,\n",
              "         0.02812685+0.j],\n",
              "       [ 0.03807553+0.j, -0.0023766 +0.j,  0.1874537 +0.j,\n",
              "        -0.02533918+0.j],\n",
              "       [-0.00351874+0.j,  0.02812685+0.j, -0.02533918+0.j,\n",
              "         0.40515635+0.j]])"
            ]
          },
          "metadata": {
            "tags": []
          },
          "execution_count": 79
        }
      ]
    },
    {
      "cell_type": "code",
      "metadata": {
        "id": "B4TES9Zlmw9N",
        "colab_type": "code",
        "colab": {
          "base_uri": "https://localhost:8080/",
          "height": 151
        },
        "outputId": "91eebb9b-02ee-43f9-e13a-62f8a120a6b3"
      },
      "source": [
        "density_matr(params[-1], beta, ising)"
      ],
      "execution_count": 80,
      "outputs": [
        {
          "output_type": "execute_result",
          "data": {
            "text/plain": [
              "array([[ 0.33944325+0.j, -0.01517254+0.j,  0.04639882+0.j,\n",
              "        -0.00429492+0.j],\n",
              "       [-0.01517254+0.j,  0.06850353+0.j, -0.00289641+0.j,\n",
              "         0.03431206+0.j],\n",
              "       [ 0.04639882+0.j, -0.00289641+0.j,  0.18691626+0.j,\n",
              "        -0.02531361+0.j],\n",
              "       [-0.00429492+0.j,  0.03431206+0.j, -0.02531361+0.j,\n",
              "         0.40513695+0.j]])"
            ]
          },
          "metadata": {
            "tags": []
          },
          "execution_count": 80
        }
      ]
    },
    {
      "cell_type": "code",
      "metadata": {
        "id": "o_OhtTppM_KZ",
        "colab_type": "code",
        "outputId": "9dd17c6d-1b03-42c8-ab4b-e628462d3aac",
        "colab": {
          "base_uri": "https://localhost:8080/",
          "height": 67
        }
      },
      "source": [
        "params_t"
      ],
      "execution_count": 83,
      "outputs": [
        {
          "output_type": "execute_result",
          "data": {
            "text/plain": [
              "array([[-0.5,  0.3],\n",
              "       [ 1. , -0.7],\n",
              "       [-1. , -1. ]])"
            ]
          },
          "metadata": {
            "tags": []
          },
          "execution_count": 83
        }
      ]
    },
    {
      "cell_type": "code",
      "metadata": {
        "id": "GUImQm4OVLVg",
        "colab_type": "code",
        "outputId": "937b8941-f412-4588-cb2d-0e638319badb",
        "colab": {
          "base_uri": "https://localhost:8080/",
          "height": 67
        }
      },
      "source": [
        "params[-1]"
      ],
      "execution_count": 84,
      "outputs": [
        {
          "output_type": "execute_result",
          "data": {
            "text/plain": [
              "array([[-0.61201597,  0.30015139],\n",
              "       [ 0.99893858, -0.69874166],\n",
              "       [-1.00470152, -1.00470152]])"
            ]
          },
          "metadata": {
            "tags": []
          },
          "execution_count": 84
        }
      ]
    },
    {
      "cell_type": "code",
      "metadata": {
        "id": "AqBziYfsksfS",
        "colab_type": "code",
        "colab": {}
      },
      "source": [
        "d_max_iters = [i for i in range(100, 2000, 100)]"
      ],
      "execution_count": 0,
      "outputs": []
    },
    {
      "cell_type": "code",
      "metadata": {
        "id": "l809s4Ke7uSu",
        "colab_type": "code",
        "outputId": "c0f5fd23-ab02-4891-c437-fff700210ab2",
        "colab": {
          "base_uri": "https://localhost:8080/",
          "height": 101
        }
      },
      "source": [
        "MSEs = []\n",
        "TDs = []\n",
        "paramss = []\n",
        "for d_iter in d_max_iters:\n",
        "  np.random.seed(43)\n",
        "  N_iterations = 20\n",
        "  MSE, TD, params, angles = construct(N_iterations,\n",
        "                                    d_max_iter=d_iter,\n",
        "                                    g_max_iter=2000-d_iter,\n",
        "                                    beta = 0.3,\n",
        "                                    ising=ising)\n",
        "  MSEs.append(MSE)\n",
        "  TDs.append(TD)\n",
        "  paramss.appdend(params)\n",
        "  double_plot(MSE, TD)"
      ],
      "execution_count": 0,
      "outputs": [
        {
          "output_type": "stream",
          "text": [
            "1/20\n",
            "2/20\n",
            "3/20\n"
          ],
          "name": "stdout"
        },
        {
          "output_type": "stream",
          "text": [
            "/home/koritskiy/rqc/hamiltonian_learning/modules/matrices.py:67: RuntimeWarning: invalid value encountered in true_divide\n",
            "  rho = sp.linalg.expm(-beta * H) / Z\n"
          ],
          "name": "stderr"
        }
      ]
    },
    {
      "cell_type": "code",
      "metadata": {
        "id": "Fwq1NJQX7vEM",
        "colab_type": "code",
        "colab": {}
      },
      "source": [
        ""
      ],
      "execution_count": 0,
      "outputs": []
    }
  ]
}