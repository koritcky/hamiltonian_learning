{
 "cells": [
  {
   "cell_type": "code",
   "execution_count": 1,
   "metadata": {
    "ExecuteTime": {
     "end_time": "2020-06-29T15:44:16.373899Z",
     "start_time": "2020-06-29T15:44:15.775160Z"
    }
   },
   "outputs": [],
   "source": [
    "from random import seed\n",
    "import os, sys\n",
    "os.chdir('/home/koritskiy/rqc/hamiltonian_learning')\n",
    "from modules.smc import Particle, Cloud\n",
    "from modules.gradient import ProbabilityDerivative, Gradient\n",
    "from modules.hamiltonian import *\n",
    "from modules.measurements import *\n",
    "from tqdm.notebook import tqdm\n",
    "\n",
    "import matplotlib.pyplot as plt\n",
    "import matplotlib\n",
    "\n",
    "name = 'ising_4'\n",
    "path = 'results/' + name"
   ]
  },
  {
   "cell_type": "code",
   "execution_count": 2,
   "metadata": {
    "ExecuteTime": {
     "end_time": "2020-06-29T15:44:18.624522Z",
     "start_time": "2020-06-29T15:44:18.604693Z"
    }
   },
   "outputs": [],
   "source": [
    "def double_plot(Y1, Y2, Y1_name=None, Y2_name=None, fontsize=30):\n",
    "\n",
    "    X = range(len(Y1))\n",
    "    fig, ax1 = plt.subplots(figsize=(15,7))\n",
    "    ax1.set_title('Кривые обучения')\n",
    "    \n",
    "    color = '#003f5c'\n",
    "    fontsize = fontsize \n",
    "    ax1.set_xlabel('Итерации')\n",
    "    if Y1_name:\n",
    "        ax1.set_ylabel(Y1_name, color=color)\n",
    "    else:\n",
    "        ax1.set_ylabel(\"Y1\", color=color)\n",
    "    ax1.scatter(X, Y1, color=color)\n",
    "    ax1.tick_params(axis='y', labelcolor=color)\n",
    "\n",
    "    ax2 = ax1.twinx()  # instantiate a second axes that shares the same x-axis\n",
    "\n",
    "    color = '#bc5090'\n",
    "    if Y1_name:\n",
    "        ax2.set_ylabel(Y2_name, color=color)\n",
    "    else:\n",
    "        ax2.set_ylabel(\"Y2\", color=color)  # we've already handled the x-label with ax1\n",
    "    ax2.scatter(X, Y2, color=color)\n",
    "    ax2.tick_params(axis='y', labelcolor=color)\n",
    "\n",
    "    fig.tight_layout()\n",
    "    plt.ylim(bottom=0)\n",
    "    \n",
    "\n",
    "    matplotlib.rc('font', size=fontsize)\n",
    "    plt.savefig(path + '/double_plot.png', transparent=True)\n",
    "    plt.show()"
   ]
  },
  {
   "cell_type": "code",
   "execution_count": 3,
   "metadata": {
    "ExecuteTime": {
     "end_time": "2020-06-29T15:44:20.445612Z",
     "start_time": "2020-06-29T15:44:20.434849Z"
    }
   },
   "outputs": [],
   "source": [
    "np.random.seed(43)\n",
    "seed(43)"
   ]
  },
  {
   "cell_type": "code",
   "execution_count": 170,
   "metadata": {
    "ExecuteTime": {
     "end_time": "2020-06-17T16:06:13.938348Z",
     "start_time": "2020-06-17T15:35:40.524618Z"
    }
   },
   "outputs": [
    {
     "data": {
      "application/vnd.jupyter.widget-view+json": {
       "model_id": "6f1a88f13cca40689eb7b9707612cee3",
       "version_major": 2,
       "version_minor": 0
      },
      "text/plain": [
       "HBox(children=(FloatProgress(value=0.0, max=50.0), HTML(value='')))"
      ]
     },
     "metadata": {},
     "output_type": "display_data"
    },
    {
     "name": "stdout",
     "output_type": "stream",
     "text": [
      "\n",
      "z_t = [ 0.71956673  0.8835825  -0.77770245  0.33580404]\n",
      "z_g = [ 0.56964102  0.78014113 -0.59154043  0.39250102]\n"
     ]
    }
   ],
   "source": [
    "n_cycles=50\n",
    "n_particles=500\n",
    "lr=0.5\n",
    "gradient_iterations=500\n",
    "\n",
    "# Some initial parameters\n",
    "n_spins = 4\n",
    "beta = 0.3\n",
    "\n",
    "# Create initial random basis angles\n",
    "theta = np.random.rand(n_spins) * np.pi\n",
    "phi = np.random.rand(n_spins) * 2 * np.pi\n",
    "# theta = np.array([0.])\n",
    "# phi = np.array([0.])\n",
    "\n",
    "angles = np.array([theta, phi]).T\n",
    "\n",
    "# Create target hamiltonian\n",
    "# x_t = np.random.rand(n_spins) * 2 - 1\n",
    "z_t = np.random.rand(n_spins) * 2 - 1\n",
    "x_t = np.random.rand(n_spins) * 2 - 1\n",
    "y_t = np.random.rand(n_spins) * 2 - 1\n",
    "zz_t = np.random.rand(n_spins - 1) * 2 - 1\n",
    "\n",
    "hamiltonian_t = Hamiltonian(n_spins, beta, z=z_t, x=x_t, y=y_t, zz=zz_t)\n",
    "hamiltonian_t.set_density_mat()\n",
    "# print('Target density matrix')\n",
    "# print(hamiltonian_t.density_mat)\n",
    "\n",
    "# Create an initial pull of random hamiltonians\n",
    "# (we call it \"particle\" according to Sequential Monte Carlo terminology)\n",
    "g_cloud = Cloud(n_particles, n_spins, beta, coeffs_types=[\"z\", \"x\", \"y\", 'zz'])\n",
    "MSE = []\n",
    "TD = []\n",
    "\n",
    "for i in tqdm(range(n_cycles)):\n",
    "    # Measure target hamiltonian\n",
    "    singles_t, correlators_t = hamiltonian_t.measure(angles)\n",
    "\n",
    "    # Update weight according to particle's distance to target hamiltonian\n",
    "    g_cloud.list_weight_update(angles, singles_t, correlators_t)\n",
    "\n",
    "    # Make a recycling wheel to get rid of far particles\n",
    "    g_cloud.resampling()\n",
    "\n",
    "    # Weighted sum of all particles -- our current best result\n",
    "    # hamiltonian_g = g_cloud.weighted_sum()\n",
    "\n",
    "    X = g_cloud.get_X()\n",
    "    hamiltonian_g, _ = g_cloud.mean_vec(X)\n",
    "    mse = hamiltonian_difference(hamiltonian_t, hamiltonian_g)\n",
    "    MSE.append(mse)\n",
    "    # print(f\"iteration {i}\")\n",
    "#     print(f\"mse {mse}\")\n",
    "    # # print(f\"hamiltonian_g.z {hamiltonian_g.z}\")\n",
    "    singles_g, correlators_g = hamiltonian_g.measure(angles)\n",
    "    td = distance_by_measurements(singles_g, singles_t, correlators_g, correlators_t)\n",
    "    TD.append(td)\n",
    "#     print(f\"distance {td}\")\n",
    "    # print(f\"theta {angles[0, 0] / np.pi}\")\n",
    "    # print(f\"phi {angles[0, 1] / np.pi}\")\n",
    "    # print('')\n",
    "\n",
    "    # Make a gradient descent to determine new angles\n",
    "    grad = Gradient(hamiltonian_t, hamiltonian_g, angles)\n",
    "    angles = grad.gradient_descent(lr=lr, num_iterations=gradient_iterations)\n",
    "print(f\"z_t = {z_t}\")\n",
    "print(f\"z_g = {hamiltonian_g.z}\")"
   ]
  },
  {
   "cell_type": "code",
   "execution_count": 122,
   "metadata": {
    "ExecuteTime": {
     "end_time": "2020-06-17T11:42:43.675932Z",
     "start_time": "2020-06-17T11:42:43.642546Z"
    }
   },
   "outputs": [
    {
     "name": "stdout",
     "output_type": "stream",
     "text": [
      "z_t = [ 0.46492608  0.38182691 -0.06333159  0.80004508]\n",
      "zz_t = [-0.05477358 -0.4567459  -0.08455434]\n",
      "z_g = [ 0.44891321  0.3924427  -0.09834323  0.73647757]\n",
      "zz_g = [-0.13340761 -0.4173771  -0.10453507]\n"
     ]
    }
   ],
   "source": [
    "print(f\"z_t = {z_t}\")\n",
    "print(f\"zz_t = {zz_t}\")\n",
    "print(f\"z_g = {hamiltonian_g.z}\")\n",
    "print(f\"zz_g = {hamiltonian_g.zz}\")"
   ]
  },
  {
   "cell_type": "code",
   "execution_count": 128,
   "metadata": {
    "ExecuteTime": {
     "end_time": "2020-06-17T14:48:43.058565Z",
     "start_time": "2020-06-17T14:48:43.026523Z"
    }
   },
   "outputs": [],
   "source": [
    "def zip_cross(singles, couplings):\n",
    "    n = len(singles)\n",
    "    zipped = []\n",
    "    for i in range(n):\n",
    "        try:\n",
    "            zipped.append(singles[i])\n",
    "            zipped.append(couplings[i])\n",
    "        except:\n",
    "            pass\n",
    "    return np.array(zipped)\n"
   ]
  },
  {
   "cell_type": "code",
   "execution_count": 175,
   "metadata": {
    "ExecuteTime": {
     "end_time": "2020-06-17T17:23:36.638532Z",
     "start_time": "2020-06-17T17:23:36.609994Z"
    }
   },
   "outputs": [],
   "source": [
    "def zip_cross_ext(z, x, y, zz):\n",
    "    n = len(z)\n",
    "    zipped = []\n",
    "    for i in range(n):\n",
    "        try:\n",
    "            zipped.append(z[i])\n",
    "            zipped.append(x[i])\n",
    "            zipped.append(y[i])\n",
    "            zipped.append(zz[i])\n",
    "        except:\n",
    "            pass\n",
    "    return np.array(zipped)"
   ]
  },
  {
   "cell_type": "code",
   "execution_count": 4,
   "metadata": {
    "ExecuteTime": {
     "end_time": "2020-06-29T15:44:34.104713Z",
     "start_time": "2020-06-29T15:44:34.090920Z"
    }
   },
   "outputs": [],
   "source": [
    "MSE = np.genfromtxt(path + '/MSE.dat', dtype='float')\n",
    "TD = np.genfromtxt(path + '/TD.dat', dtype='float')"
   ]
  },
  {
   "cell_type": "code",
   "execution_count": 6,
   "metadata": {
    "ExecuteTime": {
     "end_time": "2020-06-29T15:44:57.332566Z",
     "start_time": "2020-06-29T15:44:56.843797Z"
    },
    "scrolled": true
   },
   "outputs": [
    {
     "data": {
      "image/png": "[encoded data removed]",
      "text/plain": [
       "<Figure size 1080x504 with 2 Axes>"
      ]
     },
     "metadata": {
      "needs_background": "light"
     },
     "output_type": "display_data"
    }
   ],
   "source": [
    "double_plot(MSE, TD, \"MSE\", \"TD\", fontsize=20)"
   ]
  },
  {
   "cell_type": "code",
   "execution_count": 7,
   "metadata": {
    "ExecuteTime": {
     "end_time": "2020-06-29T15:45:54.220665Z",
     "start_time": "2020-06-29T15:45:54.206354Z"
    }
   },
   "outputs": [],
   "source": [
    "n_spins = 4\n",
    "\n",
    "z_t = np.random.rand(n_spins) * 2 - 1\n",
    "zz_t = np.random.rand(n_spins - 1) * 2 - 1\n",
    "\n",
    "coefs_t = np.genfromtxt(path + '/coefs_t.dat', dtype='float')\n",
    "coefs_g = np.genfromtxt(path + '/coefs_g.dat', dtype='float')"
   ]
  },
  {
   "cell_type": "code",
   "execution_count": 9,
   "metadata": {
    "ExecuteTime": {
     "end_time": "2020-06-29T15:46:28.265930Z",
     "start_time": "2020-06-29T15:46:27.903519Z"
    }
   },
   "outputs": [
    {
     "data": {
      "image/png": "[encoded data removed]",
      "text/plain": [
       "<Figure size 720x360 with 1 Axes>"
      ]
     },
     "metadata": {
      "needs_background": "light"
     },
     "output_type": "display_data"
    }
   ],
   "source": [
    "labels = ['hz1','Jzz12', \n",
    "          'hz2','Jzz23',\n",
    "         'hz3', 'Jzz34',\n",
    "         'hz4']\n",
    "# coefs_t = np.round(zip_cross_ext(z_t, x_t, y_t, zz_t), decimals=2)\n",
    "# coefs_g = np.round(zip_cross_ext(hamiltonian_g.z,hamiltonian_g.x,hamiltonian_g.y, hamiltonian_g.zz), decimals=2)\n",
    "\n",
    "x = np.arange(len(labels))  # the label locations\n",
    "width = 0.35  # the width of the bars\n",
    "\n",
    "fig, ax = plt.subplots(figsize=(10,5))\n",
    "color = '#003f5c'\n",
    "rects1 = ax.bar(x - width/2, coefs_t, width, label='Целевой', color='#003f5c',)\n",
    "# rects1.set_hatch('/')\n",
    "rects2 = ax.bar(x + width/2, coefs_g, width, label='Восстановленный', color='#bc5090')\n",
    "\n",
    "# Add some text for labels, title and custom x-axis tick labels, etc.\n",
    "# ax.set_ylabel('Scores')\n",
    "ax.set_title('Сравнение коэффициентов целевого и восстановленного гамильтонианов')\n",
    "ax.set_xticks(x)\n",
    "ax.set_xticklabels(labels)\n",
    "ax.legend()\n",
    "\n",
    "\n",
    "def autolabel(rects):\n",
    "    \"\"\"Attach a text label above each bar in *rects*, displaying its height.\"\"\"\n",
    "    for rect in rects:\n",
    "        height = rect.get_height()\n",
    "        ax.annotate('{}'.format(height),\n",
    "                    xy=(rect.get_x() + rect.get_width() / 2, height),\n",
    "                    xytext=(0, 0),  # 3 points vertical offset\n",
    "                    textcoords=\"offset points\",\n",
    "                    ha='center', va='bottom')\n",
    "\n",
    "\n",
    "# autolabel(rects1)\n",
    "# autolabel(rects2)\n",
    "\n",
    "fig.tight_layout()\n",
    "\n",
    "matplotlib.rc('font', size=12)\n",
    "plt.savefig(path + '/bars.png', transparent=True)\n",
    "plt.show()"
   ]
  },
  {
   "cell_type": "code",
   "execution_count": 185,
   "metadata": {
    "ExecuteTime": {
     "end_time": "2020-06-17T19:41:25.526306Z",
     "start_time": "2020-06-17T19:41:25.495877Z"
    }
   },
   "outputs": [],
   "source": [
    "np.savetxt(path + '/rho_t.dat', np.abs(hamiltonian_t.density_mat))\n",
    "np.savetxt(path + '/rho_g.dat', np.abs(hamiltonian_g.density_mat))\n",
    "\n",
    "np.savetxt(path + '/coefs_t.dat', coefs_t)\n",
    "np.savetxt(path + '/coefs_g.dat', coefs_g)\n",
    "\n",
    "np.savetxt(path + '/MSE.dat', MSE)\n",
    "np.savetxt(path + '/TD.dat', TD)"
   ]
  }
 ],
 "metadata": {
  "kernelspec": {
   "display_name": "Python (hamiltonian_learning)",
   "language": "python",
   "name": "hamiltonian_learning"
  },
  "language_info": {
   "codemirror_mode": {
    "name": "ipython",
    "version": 3
   },
   "file_extension": ".py",
   "mimetype": "text/x-python",
   "name": "python",
   "nbconvert_exporter": "python",
   "pygments_lexer": "ipython3",
   "version": "3.7.4"
  },
  "latex_envs": {
   "LaTeX_envs_menu_present": true,
   "autoclose": false,
   "autocomplete": true,
   "bibliofile": "biblio.bib",
   "cite_by": "apalike",
   "current_citInitial": 1,
   "eqLabelWithNumbers": true,
   "eqNumInitial": 1,
   "hotkeys": {
    "equation": "Ctrl-E",
    "itemize": "Ctrl-I"
   },
   "labels_anchors": false,
   "latex_user_defs": false,
   "report_style_numbering": false,
   "user_envs_cfg": false
  },
  "varInspector": {
   "cols": {
    "lenName": 16,
    "lenType": 16,
    "lenVar": 40
   },
   "kernels_config": {
    "python": {
     "delete_cmd_postfix": "",
     "delete_cmd_prefix": "del ",
     "library": "var_list.py",
     "varRefreshCmd": "print(var_dic_list())"
    },
    "r": {
     "delete_cmd_postfix": ") ",
     "delete_cmd_prefix": "rm(",
     "library": "var_list.r",
     "varRefreshCmd": "cat(var_dic_list()) "
    }
   },
   "types_to_exclude": [
    "module",
    "function",
    "builtin_function_or_method",
    "instance",
    "_Feature"
   ],
   "window_display": false
  }
 },
 "nbformat": 4,
 "nbformat_minor": 4
}
