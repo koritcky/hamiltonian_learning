{
 "cells": [
  {
   "cell_type": "code",
   "execution_count": 4,
   "metadata": {
    "ExecuteTime": {
     "end_time": "2020-02-17T13:35:19.119425Z",
     "start_time": "2020-02-17T13:35:19.110085Z"
    },
    "colab": {},
    "colab_type": "code",
    "id": "jNa7ihkgHL9w",
    "init_cell": true
   },
   "outputs": [],
   "source": [
    "import os, sys\n",
    "os.chdir('/home/koritskiy/rqc/hamiltonian_learning')\n",
    "\n",
    "import numpy as np\n",
    "from sklearn.metrics import mean_squared_error as mse\n",
    "from scipy.optimize import minimize\n",
    "import matplotlib.pyplot as plt\n",
    "from IPython import display\n",
    "\n",
    "from modules.matrices import *\n",
    "from modules.loss_functions import *"
   ]
  },
  {
   "cell_type": "code",
   "execution_count": 5,
   "metadata": {
    "ExecuteTime": {
     "end_time": "2020-02-17T13:35:19.129958Z",
     "start_time": "2020-02-17T13:35:19.122666Z"
    },
    "code_folding": [],
    "init_cell": true
   },
   "outputs": [],
   "source": [
    "# Plot function\n",
    "def double_plot(MSE, TD):\n",
    "    display.clear_output(wait=True)\n",
    "    X = range(len(MSE))\n",
    "    fig, ax1 = plt.subplots()\n",
    "\n",
    "    color = 'tab:red'\n",
    "    ax1.set_xlabel('iterations')\n",
    "    ax1.set_ylabel(f'MSE', color=color)\n",
    "    ax1.scatter(X, MSE, color=color)\n",
    "    ax1.tick_params(axis='y', labelcolor=color)\n",
    "\n",
    "    ax2 = ax1.twinx()  # instantiate a second axes that shares the same x-axis\n",
    "\n",
    "    color = 'tab:blue'\n",
    "    ax2.set_ylabel(f'TD', color=color)  # we've already handled the x-label with ax1\n",
    "    ax2.scatter(X, TD, color=color)\n",
    "    ax2.tick_params(axis='y', labelcolor=color)\n",
    "\n",
    "    fig.tight_layout()\n",
    "    plt.show()"
   ]
  },
  {
   "cell_type": "code",
   "execution_count": 13,
   "metadata": {
    "ExecuteTime": {
     "end_time": "2020-02-17T13:57:46.092151Z",
     "start_time": "2020-02-17T13:57:46.063563Z"
    },
    "code_folding": [],
    "colab": {},
    "colab_type": "code",
    "id": "anYWslVUCnpM",
    "init_cell": true
   },
   "outputs": [],
   "source": [
    "# Main function\n",
    "def construct(N_iterations, d_max_iter, g_max_iter):\n",
    "    TD = []\n",
    "    MSE = []\n",
    "    params = []\n",
    "    \n",
    "    # initiate coefs (couplings and fields) and angles \n",
    "    h_g, J_g = generate_params(fields, interactions, N_spins)\n",
    "    rho_g = density_matr(h_g, J_g, beta, model)\n",
    "    angles = np.zeros((2, N_spins))\n",
    "    flat_params_g = np.concatenate((h_g.flatten(), J_g.flatten())) # Flatten params for optimizer\n",
    "    MSE.append(mse(h_g, h_t) + mse(J_g, J_t))\n",
    "    TD.append(g_loss_func(params_g, rho_t, angles, beta, model, fields, interactions, N_spins))\n",
    "    for _ in range(N_iterations):\n",
    "        if MSE[-1] < 10 ** -5:\n",
    "            print(\"Great! 10^-5 MSE threshold was achieved\")\n",
    "            break\n",
    "        \n",
    "        # Find most suitable coefs\n",
    "        result_g = minimize(g_loss_func,\n",
    "                        args=(rho_t, angles, beta, model, fields, interactions, N_spins),\n",
    "                        x0=flat_params_g,\n",
    "                        method='Nelder-Mead',\n",
    "                        options={'maxiter':g_max_iter})\n",
    "        flat_params_g = np.array(result_g.x)\n",
    "        h_g, J_g = flat_to_params(flat_params_g, fields, interactions, N_spins)\n",
    "        rho_g = density_matr(h_g, J_g, beta, model)\n",
    "        params.append([h_g, J_g])\n",
    "        # Keep track of errors change\n",
    "        TD.append(result_g.fun)\n",
    "        MSE.append(mse(h_g, h_t) + mse(J_g, J_t))\n",
    "        double_plot(MSE, TD)\n",
    "        # Find basis\n",
    "        result_d = minimize(d_loss_func,\n",
    "                        args=(rho_g, rho_t),\n",
    "                        x0=angles.reshape(2*N_spins),\n",
    "                        method='Nelder-Mead',\n",
    "                        options={'maxiter':d_max_iter}).x\n",
    "        angles = result_d.reshape(2, N_spins)\n",
    "        \n",
    "    return MSE, TD, params, angles"
   ]
  },
  {
   "cell_type": "code",
   "execution_count": 7,
   "metadata": {
    "ExecuteTime": {
     "end_time": "2020-02-17T13:35:21.782593Z",
     "start_time": "2020-02-17T13:35:21.505477Z"
    },
    "colab": {
     "base_uri": "https://localhost:8080/",
     "height": 151
    },
    "colab_type": "code",
    "id": "-FOHZ-IBCno_",
    "outputId": "0e2520df-74c9-4b8f-a97b-a0161a435e57",
    "scrolled": true
   },
   "outputs": [
    {
     "data": {
      "text/plain": [
       "array([[0.220404  +0.j, 0.        +0.j, 0.        +0.j, 0.        +0.j],\n",
       "       [0.        +0.j, 0.166495  +0.j, 0.        +0.j, 0.        +0.j],\n",
       "       [0.        +0.j, 0.        +0.j, 0.13325371+0.j, 0.        +0.j],\n",
       "       [0.        +0.j, 0.        +0.j, 0.        +0.j, 0.47984729+0.j]])"
      ]
     },
     "execution_count": 7,
     "metadata": {},
     "output_type": "execute_result"
    }
   ],
   "source": [
    "# Target hamiltonian we need to restore\n",
    "beta = 0.3\n",
    "N_spins = 2\n",
    "ising = False\n",
    "fields = 1\n",
    "interactions = 1\n",
    "model = 'Ising'\n",
    "h_t, J_t = generate_params(fields, interactions, N_spins)\n",
    "rho_t = density_matr(h_t, J_t, beta, model)\n",
    "rho_t"
   ]
  },
  {
   "cell_type": "code",
   "execution_count": 14,
   "metadata": {
    "ExecuteTime": {
     "end_time": "2020-02-17T13:57:56.626731Z",
     "start_time": "2020-02-17T13:57:48.919814Z"
    },
    "colab": {
     "base_uri": "https://localhost:8080/",
     "height": 1000
    },
    "colab_type": "code",
    "id": "a8iIFuHPCnpS",
    "outputId": "bb28a2e3-db7d-4fb9-fde4-5feb0e96ed81"
   },
   "outputs": [
    {
     "data": {
      "image/png": "[encoded data removed]",
      "text/plain": [
       "<Figure size 432x288 with 2 Axes>"
      ]
     },
     "metadata": {
      "needs_background": "light"
     },
     "output_type": "display_data"
    }
   ],
   "source": [
    "# Run\n",
    "np.random.seed(42)\n",
    "N_iterations = 15\n",
    "MSE, TD, params, angles = construct(N_iterations,\n",
    "                                    d_max_iter=1000,\n",
    "                                    g_max_iter=1000)\n"
   ]
  },
  {
   "cell_type": "code",
   "execution_count": 15,
   "metadata": {
    "ExecuteTime": {
     "end_time": "2020-02-17T13:57:58.408665Z",
     "start_time": "2020-02-17T13:57:58.398373Z"
    },
    "colab": {
     "base_uri": "https://localhost:8080/",
     "height": 874
    },
    "colab_type": "code",
    "id": "zmhrwwz4IJeB",
    "outputId": "644dcb79-9818-4fb8-c0d6-5ec835c7130b"
   },
   "outputs": [
    {
     "data": {
      "text/plain": [
       "[4.272201307513685,\n",
       " 0.018392772698925468,\n",
       " 0.018392772698925468,\n",
       " 0.018392772698925468,\n",
       " 0.018392772698925468,\n",
       " 0.018392772698925468,\n",
       " 0.018392772698925468,\n",
       " 0.018392772698925468,\n",
       " 0.018392772698925468,\n",
       " 0.018392772698925468,\n",
       " 0.018392772698925468,\n",
       " 0.018392772698925468,\n",
       " 0.018392772698925468,\n",
       " 0.018392772698925468,\n",
       " 0.018392772698925468,\n",
       " 0.018392772698925468]"
      ]
     },
     "execution_count": 15,
     "metadata": {},
     "output_type": "execute_result"
    }
   ],
   "source": [
    "MSE"
   ]
  },
  {
   "cell_type": "code",
   "execution_count": 16,
   "metadata": {
    "ExecuteTime": {
     "end_time": "2020-02-17T13:58:02.131779Z",
     "start_time": "2020-02-17T13:58:02.121667Z"
    },
    "colab": {
     "base_uri": "https://localhost:8080/",
     "height": 874
    },
    "colab_type": "code",
    "id": "tAwup79XM-VA",
    "outputId": "36f09ee4-f366-40a3-b240-c9c6e922e371"
   },
   "outputs": [
    {
     "data": {
      "text/plain": [
       "[0.5982995505706261,\n",
       " 0.02387358886615193,\n",
       " 0.023873589662195993,\n",
       " 0.023873589662195993,\n",
       " 0.023873589662195993,\n",
       " 0.023873589662195993,\n",
       " 0.023873589662195993,\n",
       " 0.023873589662195993,\n",
       " 0.023873589662195993,\n",
       " 0.023873589662195993,\n",
       " 0.023873589662195993,\n",
       " 0.023873589662195993,\n",
       " 0.023873589662195993,\n",
       " 0.023873589662195993,\n",
       " 0.023873589662195993,\n",
       " 0.023873589662195993]"
      ]
     },
     "execution_count": 16,
     "metadata": {},
     "output_type": "execute_result"
    }
   ],
   "source": [
    "TD"
   ]
  },
  {
   "cell_type": "code",
   "execution_count": 23,
   "metadata": {
    "ExecuteTime": {
     "end_time": "2020-02-17T10:41:13.325930Z",
     "start_time": "2020-02-17T10:41:13.304038Z"
    }
   },
   "outputs": [
    {
     "data": {
      "text/plain": [
       "[array([[ 4.76528006, -0.97270295],\n",
       "        [ 1.69250103, -1.45668363],\n",
       "        [ 0.04444653,  0.29129064],\n",
       "        [-1.35753426, -1.35753426]]), array([[-0.84481827, -1.86226022],\n",
       "        [ 4.33905975, -1.15208216],\n",
       "        [ 0.04591956,  0.18200015],\n",
       "        [-1.5558385 , -1.5558385 ]]), array([[-1.25567907,  0.20115523],\n",
       "        [ 1.08693148, -0.02891208],\n",
       "        [ 0.1015058 ,  0.31020385],\n",
       "        [-1.39197714, -1.39197714]]), array([[-0.31622768,  0.16936661],\n",
       "        [ 2.33127848, -0.04219069],\n",
       "        [ 0.09020094,  0.19681316],\n",
       "        [-1.08492913, -1.08492913]]), array([[-0.33956618,  0.18160483],\n",
       "        [ 0.82385502, -0.04675088],\n",
       "        [ 0.10996302,  0.23794568],\n",
       "        [-1.00554387, -1.00554387]]), array([[ 0.55022928,  3.87718675],\n",
       "        [ 3.52214348, -0.50603964],\n",
       "        [ 0.36594755,  0.13620532],\n",
       "        [-2.37287141, -2.37287141]]), array([[-1.03196427,  0.13736046],\n",
       "        [11.24841448,  0.23416817],\n",
       "        [ 0.08569057,  0.63653049],\n",
       "        [-2.99713477, -2.99713477]]), array([[ -1.32008917,   0.30269737],\n",
       "        [ 10.75849077,  -0.71814084],\n",
       "        [ -0.39887855,  -0.06744725],\n",
       "        [-18.00983726, -18.00983726]]), array([[ 27.21018972,  -1.60684397],\n",
       "        [148.61978011,  -9.95992958],\n",
       "        [  1.76241081,  -0.3689672 ],\n",
       "        [-46.86036664, -46.86036664]]), array([[ 69.04561255,  -1.44231253],\n",
       "        [  7.55842006,  -3.03913377],\n",
       "        [ -0.31505669,   0.53329341],\n",
       "        [-79.51060365, -79.51060365]])]"
      ]
     },
     "execution_count": 23,
     "metadata": {},
     "output_type": "execute_result"
    }
   ],
   "source": [
    "params"
   ]
  },
  {
   "cell_type": "code",
   "execution_count": null,
   "metadata": {
    "colab": {
     "base_uri": "https://localhost:8080/",
     "height": 151
    },
    "colab_type": "code",
    "id": "8BLpQ7fSmxHT",
    "outputId": "1f875903-0e52-49ab-c0e6-1a4046110a76"
   },
   "outputs": [],
   "source": [
    "density_matr(params_t, beta, ising)"
   ]
  },
  {
   "cell_type": "code",
   "execution_count": null,
   "metadata": {
    "colab": {
     "base_uri": "https://localhost:8080/",
     "height": 151
    },
    "colab_type": "code",
    "id": "B4TES9Zlmw9N",
    "outputId": "91eebb9b-02ee-43f9-e13a-62f8a120a6b3"
   },
   "outputs": [],
   "source": [
    "density_matr(params[-1], beta, ising)"
   ]
  },
  {
   "cell_type": "code",
   "execution_count": null,
   "metadata": {
    "colab": {
     "base_uri": "https://localhost:8080/",
     "height": 67
    },
    "colab_type": "code",
    "id": "o_OhtTppM_KZ",
    "outputId": "9dd17c6d-1b03-42c8-ab4b-e628462d3aac"
   },
   "outputs": [],
   "source": [
    "params_t"
   ]
  },
  {
   "cell_type": "code",
   "execution_count": null,
   "metadata": {
    "colab": {
     "base_uri": "https://localhost:8080/",
     "height": 67
    },
    "colab_type": "code",
    "id": "GUImQm4OVLVg",
    "outputId": "937b8941-f412-4588-cb2d-0e638319badb"
   },
   "outputs": [],
   "source": [
    "params[-1]"
   ]
  },
  {
   "cell_type": "code",
   "execution_count": null,
   "metadata": {
    "colab": {},
    "colab_type": "code",
    "id": "AqBziYfsksfS"
   },
   "outputs": [],
   "source": [
    "d_max_iters = [i for i in range(100, 2000, 100)]"
   ]
  },
  {
   "cell_type": "code",
   "execution_count": null,
   "metadata": {
    "colab": {
     "base_uri": "https://localhost:8080/",
     "height": 101
    },
    "colab_type": "code",
    "id": "l809s4Ke7uSu",
    "outputId": "c0f5fd23-ab02-4891-c437-fff700210ab2"
   },
   "outputs": [],
   "source": [
    "MSEs = []\n",
    "TDs = []\n",
    "paramss = []\n",
    "for d_iter in d_max_iters:\n",
    "    np.random.seed(43)\n",
    "    N_iterations = 20\n",
    "    MSE, TD, params, angles = construct(N_iterations,\n",
    "                                    d_max_iter=d_iter,\n",
    "                                    g_max_iter=2000-d_iter,\n",
    "                                    beta = 0.3,\n",
    "                                    ising=ising)\n",
    "    MSEs.append(MSE)\n",
    "    TDs.append(TD)\n",
    "    paramss.appdend(params)\n",
    "    double_plot(MSE, TD)"
   ]
  }
 ],
 "metadata": {
  "colab": {
   "collapsed_sections": [],
   "name": "N_qubits.ipynb",
   "provenance": []
  },
  "kernelspec": {
   "display_name": "Python (hamiltonian_learning)",
   "language": "python",
   "name": "hamiltonian_learning"
  },
  "language_info": {
   "codemirror_mode": {
    "name": "ipython",
    "version": 3
   },
   "file_extension": ".py",
   "mimetype": "text/x-python",
   "name": "python",
   "nbconvert_exporter": "python",
   "pygments_lexer": "ipython3",
   "version": "3.7.4"
  },
  "latex_envs": {
   "LaTeX_envs_menu_present": true,
   "autoclose": false,
   "autocomplete": true,
   "bibliofile": "biblio.bib",
   "cite_by": "apalike",
   "current_citInitial": 1,
   "eqLabelWithNumbers": true,
   "eqNumInitial": 1,
   "hotkeys": {
    "equation": "Ctrl-E",
    "itemize": "Ctrl-I"
   },
   "labels_anchors": false,
   "latex_user_defs": false,
   "report_style_numbering": false,
   "user_envs_cfg": false
  },
  "notify_time": "30",
  "varInspector": {
   "cols": {
    "lenName": 16,
    "lenType": 16,
    "lenVar": 40
   },
   "kernels_config": {
    "python": {
     "delete_cmd_postfix": "",
     "delete_cmd_prefix": "del ",
     "library": "var_list.py",
     "varRefreshCmd": "print(var_dic_list())"
    },
    "r": {
     "delete_cmd_postfix": ") ",
     "delete_cmd_prefix": "rm(",
     "library": "var_list.r",
     "varRefreshCmd": "cat(var_dic_list()) "
    }
   },
   "types_to_exclude": [
    "module",
    "function",
    "builtin_function_or_method",
    "instance",
    "_Feature"
   ],
   "window_display": false
  }
 },
 "nbformat": 4,
 "nbformat_minor": 1
}
