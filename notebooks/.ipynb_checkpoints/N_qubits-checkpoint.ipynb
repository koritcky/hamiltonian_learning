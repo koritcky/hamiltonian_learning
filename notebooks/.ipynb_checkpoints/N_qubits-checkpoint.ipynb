{
 "cells": [
  {
   "cell_type": "code",
   "execution_count": 7,
   "metadata": {
    "ExecuteTime": {
     "end_time": "2020-02-17T14:47:09.860656Z",
     "start_time": "2020-02-17T14:47:09.855951Z"
    },
    "code_folding": [
     0
    ],
    "colab": {},
    "colab_type": "code",
    "id": "jNa7ihkgHL9w",
    "init_cell": true
   },
   "outputs": [],
   "source": [
    "#import\n",
    "import os, sys\n",
    "os.chdir('/home/koritskiy/rqc/hamiltonian_learning')\n",
    "\n",
    "import numpy as np\n",
    "from sklearn.metrics import mean_squared_error as mse\n",
    "from scipy.optimize import minimize\n",
    "import matplotlib.pyplot as plt\n",
    "from IPython import display\n",
    "\n",
    "from modules.matrices import *\n",
    "from modules.loss_functions import *"
   ]
  },
  {
   "cell_type": "code",
   "execution_count": 8,
   "metadata": {
    "ExecuteTime": {
     "end_time": "2020-02-17T14:47:09.925556Z",
     "start_time": "2020-02-17T14:47:09.863191Z"
    },
    "code_folding": [
     0
    ],
    "init_cell": true
   },
   "outputs": [],
   "source": [
    "# Plot function\n",
    "def double_plot(MSE, TD):\n",
    "    display.clear_output(wait=True)\n",
    "    X = range(len(MSE))\n",
    "    fig, ax1 = plt.subplots()\n",
    "\n",
    "    color = 'tab:red'\n",
    "    ax1.set_xlabel('iterations')\n",
    "    ax1.set_ylabel(f'MSE', color=color)\n",
    "    ax1.scatter(X, MSE, color=color)\n",
    "    ax1.tick_params(axis='y', labelcolor=color)\n",
    "\n",
    "    ax2 = ax1.twinx()  # instantiate a second axes that shares the same x-axis\n",
    "\n",
    "    color = 'tab:blue'\n",
    "    ax2.set_ylabel(f'TD', color=color)  # we've already handled the x-label with ax1\n",
    "    ax2.scatter(X, TD, color=color)\n",
    "    ax2.tick_params(axis='y', labelcolor=color)\n",
    "\n",
    "    fig.tight_layout()\n",
    "    plt.show()"
   ]
  },
  {
   "cell_type": "code",
   "execution_count": 9,
   "metadata": {
    "ExecuteTime": {
     "end_time": "2020-02-17T14:47:09.945887Z",
     "start_time": "2020-02-17T14:47:09.928385Z"
    },
    "code_folding": [],
    "colab": {},
    "colab_type": "code",
    "id": "anYWslVUCnpM",
    "init_cell": true
   },
   "outputs": [],
   "source": [
    "# Main function\n",
    "def construct(N_iterations, d_max_iter, g_max_iter):\n",
    "    TD = []\n",
    "    MSE = []\n",
    "    params = []\n",
    "    \n",
    "    # initiate coefs (couplings and fields) and angles \n",
    "    h_g, J_g = generate_params(fields, interactions, N_spins)\n",
    "    rho_g = density_matr(h_g, J_g, beta, model)\n",
    "    angles = np.zeros((2, N_spins))\n",
    "    flat_params_g = np.concatenate((h_g.flatten(), J_g.flatten()))\n",
    "    MSE.append(mse(h_g, h_t) + mse(J_g, J_t))\n",
    "    TD.append(g_loss_func(flat_params_g, rho_t, angles, beta, model, fields, interactions, N_spins))\n",
    "    for _ in range(N_iterations):   \n",
    "#         if MSE[-1] < 10 ** -5:\n",
    "#             print(\"Great! 10^-5 MSE threshold was achieved\")\n",
    "#             break\n",
    "        \n",
    "        # Find most suitable coefs\n",
    "        result_g = minimize(g_loss_func,\n",
    "                        args=(rho_t, angles, beta, model, fields, interactions, N_spins),\n",
    "                        x0=flat_params_g,\n",
    "                        method='Nelder-Mead',\n",
    "                        options={'maxiter':g_max_iter}) # to change\n",
    "        flat_params_g = np.array(result_g.x)\n",
    "        h_g, J_g = flat_to_params(flat_params_g, fields, interactions, N_spins)\n",
    "        rho_g = density_matr(h_g, J_g, beta, model)\n",
    "        params.append([h_g, J_g])\n",
    "        # Keep track of errors change\n",
    "        TD.append(result_g.fun)\n",
    "        MSE.append(mse(h_g, h_t) + mse(J_g, J_t))\n",
    "        double_plot(MSE, TD)\n",
    "        # Find basis\n",
    "        result_d = minimize(d_loss_func,\n",
    "                        args=(rho_g, rho_t),\n",
    "                        x0=angles.reshape(2*N_spins),\n",
    "                        method='Nelder-Mead',\n",
    "                        options={'maxiter':d_max_iter}).x\n",
    "        angles = result_d.reshape(2, N_spins)\n",
    "\n",
    "    return MSE, TD, params, angles"
   ]
  },
  {
   "cell_type": "code",
   "execution_count": 17,
   "metadata": {
    "ExecuteTime": {
     "end_time": "2020-02-17T14:50:59.375662Z",
     "start_time": "2020-02-17T14:50:59.365713Z"
    },
    "colab": {
     "base_uri": "https://localhost:8080/",
     "height": 151
    },
    "colab_type": "code",
    "id": "-FOHZ-IBCno_",
    "outputId": "0e2520df-74c9-4b8f-a97b-a0161a435e57",
    "scrolled": true
   },
   "outputs": [
    {
     "data": {
      "text/plain": [
       "array([[ 0.14101889+0.j,  0.        +0.j,  0.        +0.j,\n",
       "         0.01807882+0.j,  0.        +0.j, -0.01750063+0.j,\n",
       "        -0.06166777+0.j,  0.        +0.j],\n",
       "       [ 0.        +0.j,  0.14117986+0.j,  0.05145687+0.j,\n",
       "         0.        +0.j, -0.00492337+0.j,  0.        +0.j,\n",
       "         0.        +0.j, -0.05598348+0.j],\n",
       "       [ 0.        +0.j,  0.05145687+0.j,  0.07811495+0.j,\n",
       "         0.        +0.j,  0.00455235+0.j,  0.        +0.j,\n",
       "         0.        +0.j, -0.01222438+0.j],\n",
       "       [ 0.01807882+0.j,  0.        +0.j,  0.        +0.j,\n",
       "         0.06174557+0.j,  0.        +0.j,  0.00411045+0.j,\n",
       "        -0.00351756+0.j,  0.        +0.j],\n",
       "       [ 0.        +0.j, -0.00492337+0.j,  0.00455235+0.j,\n",
       "         0.        +0.j,  0.17580301+0.j,  0.        +0.j,\n",
       "         0.        +0.j,  0.02525614+0.j],\n",
       "       [-0.01750063+0.j,  0.        +0.j,  0.        +0.j,\n",
       "         0.00411045+0.j,  0.        +0.j,  0.17800365+0.j,\n",
       "         0.07196136+0.j,  0.        +0.j],\n",
       "       [-0.06166777+0.j,  0.        +0.j,  0.        +0.j,\n",
       "        -0.00351756+0.j,  0.        +0.j,  0.07196136+0.j,\n",
       "         0.12420345+0.j,  0.        +0.j],\n",
       "       [ 0.        +0.j, -0.05598348+0.j, -0.01222438+0.j,\n",
       "         0.        +0.j,  0.02525614+0.j,  0.        +0.j,\n",
       "         0.        +0.j,  0.09993062+0.j]])"
      ]
     },
     "execution_count": 17,
     "metadata": {},
     "output_type": "execute_result"
    }
   ],
   "source": [
    "# Target hamiltonian we need to restore\n",
    "beta = 0.3\n",
    "N_spins = 3\n",
    "ising = False\n",
    "fields = 1\n",
    "interactions = 2\n",
    "model = 'XY'\n",
    "h_t, J_t = generate_params(fields, interactions, N_spins)\n",
    "rho_t = density_matr(h_t, J_t, beta, model)\n",
    "rho_t"
   ]
  },
  {
   "cell_type": "code",
   "execution_count": 18,
   "metadata": {
    "ExecuteTime": {
     "end_time": "2020-02-17T14:51:48.469306Z",
     "start_time": "2020-02-17T14:51:05.229106Z"
    },
    "colab": {
     "base_uri": "https://localhost:8080/",
     "height": 1000
    },
    "colab_type": "code",
    "id": "a8iIFuHPCnpS",
    "outputId": "bb28a2e3-db7d-4fb9-fde4-5feb0e96ed81"
   },
   "outputs": [
    {
     "data": {
      "image/png": "[encoded data removed]",
      "text/plain": [
       "<Figure size 432x288 with 2 Axes>"
      ]
     },
     "metadata": {
      "needs_background": "light"
     },
     "output_type": "display_data"
    }
   ],
   "source": [
    "# Run\n",
    "np.random.seed(41)\n",
    "N_iterations = 15\n",
    "MSE, TD, params, angles = construct(N_iterations,\n",
    "                                    d_max_iter=1000,\n",
    "                                    g_max_iter=1000)\n"
   ]
  },
  {
   "cell_type": "code",
   "execution_count": 12,
   "metadata": {
    "ExecuteTime": {
     "end_time": "2020-02-17T14:49:48.059077Z",
     "start_time": "2020-02-17T14:49:48.047656Z"
    },
    "colab": {
     "base_uri": "https://localhost:8080/",
     "height": 874
    },
    "colab_type": "code",
    "id": "zmhrwwz4IJeB",
    "outputId": "644dcb79-9818-4fb8-c0d6-5ec835c7130b"
   },
   "outputs": [
    {
     "data": {
      "text/plain": [
       "[2.1354356867970887,\n",
       " 0.4356359414604332,\n",
       " 0.14647822154719262,\n",
       " 0.019051694407942795,\n",
       " 0.03199982769613307,\n",
       " 0.00533859322181844,\n",
       " 0.0013271651579381777,\n",
       " 0.0006032310969168134,\n",
       " 0.00017773367542926676,\n",
       " 0.0006725437869989374,\n",
       " 8.593725689055264e-05,\n",
       " 0.00025082638552642887,\n",
       " 0.0009464910670481481,\n",
       " 0.0007050849816279824,\n",
       " 0.010491323072436397,\n",
       " 0.0007617918652898587]"
      ]
     },
     "execution_count": 12,
     "metadata": {},
     "output_type": "execute_result"
    }
   ],
   "source": [
    "MSE"
   ]
  },
  {
   "cell_type": "code",
   "execution_count": 13,
   "metadata": {
    "ExecuteTime": {
     "end_time": "2020-02-17T14:49:53.659786Z",
     "start_time": "2020-02-17T14:49:53.653474Z"
    },
    "colab": {
     "base_uri": "https://localhost:8080/",
     "height": 874
    },
    "colab_type": "code",
    "id": "tAwup79XM-VA",
    "outputId": "36f09ee4-f366-40a3-b240-c9c6e922e371"
   },
   "outputs": [
    {
     "data": {
      "text/plain": [
       "[0.19247040569161206,\n",
       " 5.946616648128122e-06,\n",
       " 8.773551644941646e-06,\n",
       " 2.593758492153153e-07,\n",
       " 2.215159800506017e-06,\n",
       " 1.252125433948148e-06,\n",
       " 3.60451870545786e-07,\n",
       " 8.217102287766398e-07,\n",
       " 2.561247291199553e-07,\n",
       " 3.9812671101535635e-07,\n",
       " 1.9610657805979592e-07,\n",
       " 1.2180679043183318e-07,\n",
       " 3.811983574353306e-07,\n",
       " 7.080535397718801e-07,\n",
       " 1.6956713194682393e-07,\n",
       " 4.441120049492042e-08]"
      ]
     },
     "execution_count": 13,
     "metadata": {},
     "output_type": "execute_result"
    }
   ],
   "source": [
    "TD"
   ]
  },
  {
   "cell_type": "code",
   "execution_count": 14,
   "metadata": {
    "ExecuteTime": {
     "end_time": "2020-02-17T14:50:06.333754Z",
     "start_time": "2020-02-17T14:50:06.322935Z"
    }
   },
   "outputs": [
    {
     "name": "stdout",
     "output_type": "stream",
     "text": [
      "[[ 0.17811184 -0.52278352]]\n",
      "[[0.54905059]\n",
      " [0.96857695]]\n"
     ]
    }
   ],
   "source": [
    "print(h_t)\n",
    "print(J_t)"
   ]
  },
  {
   "cell_type": "code",
   "execution_count": 16,
   "metadata": {
    "ExecuteTime": {
     "end_time": "2020-02-17T14:50:24.040621Z",
     "start_time": "2020-02-17T14:50:24.029515Z"
    }
   },
   "outputs": [
    {
     "name": "stdout",
     "output_type": "stream",
     "text": [
      "[[ 0.17910872 -0.52584277]]\n",
      "[[0.48666012]\n",
      " [1.09926637]]\n"
     ]
    }
   ],
   "source": [
    "print(params[-2][0])\n",
    "print(params[-2][1])"
   ]
  },
  {
   "cell_type": "code",
   "execution_count": null,
   "metadata": {
    "colab": {
     "base_uri": "https://localhost:8080/",
     "height": 151
    },
    "colab_type": "code",
    "id": "8BLpQ7fSmxHT",
    "outputId": "1f875903-0e52-49ab-c0e6-1a4046110a76"
   },
   "outputs": [],
   "source": [
    "density_matr(params_t, beta, ising)"
   ]
  },
  {
   "cell_type": "code",
   "execution_count": null,
   "metadata": {
    "colab": {
     "base_uri": "https://localhost:8080/",
     "height": 151
    },
    "colab_type": "code",
    "id": "B4TES9Zlmw9N",
    "outputId": "91eebb9b-02ee-43f9-e13a-62f8a120a6b3"
   },
   "outputs": [],
   "source": [
    "density_matr(params[-1], beta, ising)"
   ]
  },
  {
   "cell_type": "code",
   "execution_count": null,
   "metadata": {
    "colab": {},
    "colab_type": "code",
    "id": "AqBziYfsksfS"
   },
   "outputs": [],
   "source": [
    "d_max_iters = [i for i in range(100, 2000, 100)]"
   ]
  },
  {
   "cell_type": "code",
   "execution_count": null,
   "metadata": {
    "colab": {
     "base_uri": "https://localhost:8080/",
     "height": 101
    },
    "colab_type": "code",
    "id": "l809s4Ke7uSu",
    "outputId": "c0f5fd23-ab02-4891-c437-fff700210ab2"
   },
   "outputs": [],
   "source": [
    "MSEs = []\n",
    "TDs = []\n",
    "paramss = []\n",
    "for d_iter in d_max_iters:\n",
    "    np.random.seed(43)\n",
    "    N_iterations = 20\n",
    "    MSE, TD, params, angles = construct(N_iterations,\n",
    "                                    d_max_iter=d_iter,\n",
    "                                    g_max_iter=2000-d_iter,\n",
    "                                    beta = 0.3,\n",
    "                                    ising=ising)\n",
    "    MSEs.append(MSE)\n",
    "    TDs.append(TD)\n",
    "    paramss.appdend(params)\n",
    "    double_plot(MSE, TD)"
   ]
  }
 ],
 "metadata": {
  "colab": {
   "collapsed_sections": [],
   "name": "N_qubits.ipynb",
   "provenance": []
  },
  "kernelspec": {
   "display_name": "Python (hamiltonian_learning)",
   "language": "python",
   "name": "hamiltonian_learning"
  },
  "language_info": {
   "codemirror_mode": {
    "name": "ipython",
    "version": 3
   },
   "file_extension": ".py",
   "mimetype": "text/x-python",
   "name": "python",
   "nbconvert_exporter": "python",
   "pygments_lexer": "ipython3",
   "version": "3.7.4"
  },
  "latex_envs": {
   "LaTeX_envs_menu_present": true,
   "autoclose": false,
   "autocomplete": true,
   "bibliofile": "biblio.bib",
   "cite_by": "apalike",
   "current_citInitial": 1,
   "eqLabelWithNumbers": true,
   "eqNumInitial": 1,
   "hotkeys": {
    "equation": "Ctrl-E",
    "itemize": "Ctrl-I"
   },
   "labels_anchors": false,
   "latex_user_defs": false,
   "report_style_numbering": false,
   "user_envs_cfg": false
  },
  "notify_time": "30",
  "varInspector": {
   "cols": {
    "lenName": 16,
    "lenType": 16,
    "lenVar": 40
   },
   "kernels_config": {
    "python": {
     "delete_cmd_postfix": "",
     "delete_cmd_prefix": "del ",
     "library": "var_list.py",
     "varRefreshCmd": "print(var_dic_list())"
    },
    "r": {
     "delete_cmd_postfix": ") ",
     "delete_cmd_prefix": "rm(",
     "library": "var_list.r",
     "varRefreshCmd": "cat(var_dic_list()) "
    }
   },
   "types_to_exclude": [
    "module",
    "function",
    "builtin_function_or_method",
    "instance",
    "_Feature"
   ],
   "window_display": false
  }
 },
 "nbformat": 4,
 "nbformat_minor": 1
}
