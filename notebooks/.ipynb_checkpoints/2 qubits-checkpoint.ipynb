{
 "cells": [
  {
   "cell_type": "code",
   "execution_count": 0,
   "metadata": {
    "colab": {},
    "colab_type": "code",
    "id": "jNa7ihkgHL9w"
   },
   "outputs": [],
   "source": [
    "import os, sys\n",
    "os.chdir('/home/koritskiy/rqc/hamiltonian_learning')\n",
    "\n",
    "import numpy as np\n",
    "from sklearn.metrics import mean_squared_error as mse\n",
    "from scipy.optimize import minimize\n",
    "import matplotlib.pyplot as plt\n",
    "\n",
    "from modules.matrices import *\n",
    "from modules.loss_functions import *"
   ]
  },
  {
   "cell_type": "code",
   "execution_count": 18,
   "metadata": {
    "colab": {
     "base_uri": "https://localhost:8080/",
     "height": 151
    },
    "colab_type": "code",
    "id": "-FOHZ-IBCno_",
    "outputId": "1a29762e-7a91-4415-b209-ce1e6c152468",
    "scrolled": true
   },
   "outputs": [
    {
     "data": {
      "text/plain": [
       "array([[ 0.18453695+0.j, -0.03814042+0.j,  0.05375794+0.j,\n",
       "        -0.13092609+0.j],\n",
       "       [-0.03814042+0.j,  0.31546305+0.j, -0.13092609+0.j,\n",
       "         0.09189836+0.j],\n",
       "       [ 0.05375794+0.j, -0.13092609+0.j,  0.18453695+0.j,\n",
       "        -0.03814042+0.j],\n",
       "       [-0.13092609+0.j,  0.09189836+0.j, -0.03814042+0.j,\n",
       "         0.31546305+0.j]])"
      ]
     },
     "execution_count": 18,
     "metadata": {
      "tags": []
     },
     "output_type": "execute_result"
    }
   ],
   "source": [
    "# Target hamiltonian we need to restore\n",
    "beta = 0.3\n",
    "\n",
    "theta_h_t = [np.pi/2, 0]\n",
    "phi_h_t = [np.pi, 0] \n",
    "\n",
    "theta_J_t = [np.pi/2, np.pi/2]\n",
    "phi_J_t  = [0, 0]\n",
    "\n",
    "params_t = np.array([theta_h_t,\n",
    "                     phi_h_t,\n",
    "                     theta_J_t,\n",
    "                     phi_J_t])\n",
    "N_spins = len(theta_h_t)\n",
    "rho_t = density_matr(params_t, beta)\n",
    "rho_t"
   ]
  },
  {
   "cell_type": "code",
   "execution_count": 0,
   "metadata": {
    "colab": {},
    "colab_type": "code",
    "id": "anYWslVUCnpM"
   },
   "outputs": [],
   "source": [
    "# Main function\n",
    "def construct(N_iterations, d_max_iter, g_max_iter=1000):\n",
    "    TD = []\n",
    "    MSE = []\n",
    "    params = []\n",
    "    \n",
    "    # initiate coefs (couplings and fields) and angles \n",
    "    theta_h_g, theta_J_g = np.random.uniform(0, np.pi, (2, N_spins))\n",
    "    phi_h_g, phi_J_g = np.random.uniform(0, 2*np.pi, (2, N_spins))\n",
    "    params_g = np.array([theta_h_g, phi_h_g, theta_J_g, phi_J_g])\n",
    "    rho_g = density_matr(params_g, beta)\n",
    "    angles = np.zeros((2, N_spins))\n",
    "    \n",
    "    MSE.append(mse(spher_to_cartesian(params_t), spher_to_cartesian(params_g)))\n",
    "    TD.append(g_loss_func(params_g, rho_t, angles))\n",
    "    \n",
    "    for _ in range(N_iterations):\n",
    "        # Find most suitable coefs\n",
    "        result_g = minimize(g_loss_func,\n",
    "                          args=(rho_t, angles),\n",
    "                          x0=params_g.reshape(4*N_spins),\n",
    "                          method='Nelder-Mead',\n",
    "                          options={'maxiter':g_max_iter})\n",
    "        params_g = np.array(result_g.x).reshape(4, N_spins)\n",
    "        rho_g = density_matr(params_g, beta)\n",
    "        params.append(params_g)\n",
    "        # Keep track of errors change\n",
    "        TD.append(result_g.fun)\n",
    "        MSE.append(mse(spher_to_cartesian(params_t), spher_to_cartesian(params_g)))\n",
    "        # Find basis\n",
    "        result_d = minimize(d_loss_func,\n",
    "                          args=(rho_g, rho_t),\n",
    "                          x0=angles.reshape(2*N_spins),\n",
    "                          method='Nelder-Mead',\n",
    "                          options={'maxiter':d_max_iter}).x\n",
    "        angles = result_d.reshape(2, N_spins)\n",
    "\n",
    "    return MSE, TD, params, angles"
   ]
  },
  {
   "cell_type": "code",
   "execution_count": 19,
   "metadata": {
    "colab": {
     "base_uri": "https://localhost:8080/",
     "height": 297
    },
    "colab_type": "code",
    "id": "a8iIFuHPCnpS",
    "outputId": "a34baf7b-f7f2-43cb-ae21-53942507243b"
   },
   "outputs": [
    {
     "data": {
      "image/png": "[encoded data removed]",
      "text/plain": [
       "<Figure size 432x288 with 2 Axes>"
      ]
     },
     "metadata": {
      "needs_background": "light",
      "tags": []
     },
     "output_type": "display_data"
    }
   ],
   "source": [
    "# Run \n",
    "np.random.seed(43)  \n",
    "N_iterations = 50\n",
    "MSE, TD, params, angles = construct(N_iterations, d_max_iter=1000, g_max_iter=1000)\n",
    "\n",
    "# Plot results\n",
    "X = range(len(MSE))\n",
    "fig, ax1 = plt.subplots()\n",
    "\n",
    "\n",
    "color = 'tab:red'\n",
    "ax1.set_xlabel('iterations')\n",
    "ax1.set_ylabel(f'MSE', color=color)\n",
    "ax1.scatter(X, MSE, color=color)\n",
    "ax1.tick_params(axis='y', labelcolor=color)\n",
    "\n",
    "ax2 = ax1.twinx()  # instantiate a second axes that shares the same x-axis\n",
    "\n",
    "color = 'tab:blue'\n",
    "ax2.set_ylabel(f'TD', color=color)  # we've already handled the x-label with ax1\n",
    "ax2.scatter(X, TD, color=color)\n",
    "ax2.tick_params(axis='y', labelcolor=color)\n",
    "\n",
    "fig.tight_layout()"
   ]
  },
  {
   "cell_type": "code",
   "execution_count": 20,
   "metadata": {
    "colab": {
     "base_uri": "https://localhost:8080/",
     "height": 874
    },
    "colab_type": "code",
    "id": "zmhrwwz4IJeB",
    "outputId": "f5022b4b-f7d7-4998-9ccf-169b0e7b1a58"
   },
   "outputs": [
    {
     "data": {
      "text/plain": [
       "[0.8398367141307379,\n",
       " 0.2666988604332029,\n",
       " 0.20554721030691414,\n",
       " 0.18027583861188387,\n",
       " 0.12759618865330885,\n",
       " 0.1588528004916501,\n",
       " 0.1671216618577936,\n",
       " 0.16268757805553094,\n",
       " 0.16021331105606154,\n",
       " 0.16276824497899384,\n",
       " 0.16656791251088826,\n",
       " 0.16646673414599145,\n",
       " 0.16869111246183804,\n",
       " 0.16995516881236078,\n",
       " 0.17106145876079867,\n",
       " 0.1626515103062345,\n",
       " 0.16428123783274096,\n",
       " 0.1602299674897465,\n",
       " 0.16313682598878454,\n",
       " 0.160812076621558,\n",
       " 0.16286155656027837,\n",
       " 0.16146483984890522,\n",
       " 0.1645588018471339,\n",
       " 0.16480347895477698,\n",
       " 0.16351211090522988,\n",
       " 0.1618796655745455,\n",
       " 0.16315304091306188,\n",
       " 0.1625607638665033,\n",
       " 0.16308590119654948,\n",
       " 0.1629559973637037,\n",
       " 0.1640253862861199,\n",
       " 0.164900227216076,\n",
       " 0.16430342037173085,\n",
       " 0.16407439751301692,\n",
       " 0.16352517507673625,\n",
       " 0.16426221574688116,\n",
       " 0.16431568564452087,\n",
       " 0.16497780046175456,\n",
       " 0.16494202335934852,\n",
       " 0.16466136693540856,\n",
       " 0.16321102979852964,\n",
       " 0.1644031757044967,\n",
       " 0.16417059648000162,\n",
       " 0.16305420044945984,\n",
       " 0.16158364386162183,\n",
       " 0.16123697835142708,\n",
       " 0.16055333845817507,\n",
       " 0.15939140445708155,\n",
       " 0.15981783941337463,\n",
       " 0.1594155031913528,\n",
       " 0.1609604728269893]"
      ]
     },
     "execution_count": 20,
     "metadata": {
      "tags": []
     },
     "output_type": "execute_result"
    }
   ],
   "source": [
    "MSE"
   ]
  },
  {
   "cell_type": "code",
   "execution_count": 14,
   "metadata": {
    "colab": {
     "base_uri": "https://localhost:8080/",
     "height": 874
    },
    "colab_type": "code",
    "id": "tAwup79XM-VA",
    "outputId": "abe91479-cd5e-41c2-9960-515dadd13019"
   },
   "outputs": [
    {
     "data": {
      "text/plain": [
       "[1.242352835978319,\n",
       " 0.007883100979170887,\n",
       " 1.432951087343426e-06,\n",
       " 3.882774740809891e-06,\n",
       " 2.262658113760807e-06,\n",
       " 1.7303263610823905e-07,\n",
       " 4.080271265499702e-06,\n",
       " 1.151657194692346e-06,\n",
       " 4.907436875617455e-06,\n",
       " 3.2451627978991038e-06,\n",
       " 2.9765390502367595e-07,\n",
       " 1.4037706304592668e-06,\n",
       " 3.6615378457560688e-06,\n",
       " 2.6810956884615322e-06,\n",
       " 8.036725788751475e-07,\n",
       " 9.926230170043127e-07,\n",
       " 2.669285475348504e-06,\n",
       " 2.704514939694258e-06,\n",
       " 8.337865754770579e-07,\n",
       " 3.2847299175076117e-07,\n",
       " 1.2899107318942171e-06,\n",
       " 4.3496346635585326e-07,\n",
       " 1.165611686615442e-07,\n",
       " 1.4058897748192578e-06,\n",
       " 1.002639627073476e-06,\n",
       " 1.5796173442883532e-06,\n",
       " 6.527609985090832e-05,\n",
       " 1.2873704283711263e-06,\n",
       " 5.823183318043323e-07,\n",
       " 1.9758135972047786e-06,\n",
       " 3.6994325400274697e-07,\n",
       " 4.986134045203983e-06,\n",
       " 3.7670610587570152e-06,\n",
       " 2.158743822006093e-06,\n",
       " 4.963789996259571e-07,\n",
       " 2.1883702920610926e-06,\n",
       " 5.392946711146873e-07,\n",
       " 1.2894578120259403e-06,\n",
       " 1.4497788224099306e-06,\n",
       " 2.2206897477006216e-06,\n",
       " 2.765353437628182e-07,\n",
       " 1.1481615019293123e-06,\n",
       " 3.547071155407533e-07,\n",
       " 1.477085139867107e-06,\n",
       " 2.186679377624845e-06,\n",
       " 3.936227713774443e-07,\n",
       " 2.052615882569553e-06,\n",
       " 1.5766418292040285e-06,\n",
       " 4.630624133833416e-06,\n",
       " 1.845624045537786e-06,\n",
       " 6.441510573829135e-07]"
      ]
     },
     "execution_count": 14,
     "metadata": {
      "tags": []
     },
     "output_type": "execute_result"
    }
   ],
   "source": [
    "TD"
   ]
  },
  {
   "cell_type": "code",
   "execution_count": 21,
   "metadata": {
    "colab": {
     "base_uri": "https://localhost:8080/",
     "height": 84
    },
    "colab_type": "code",
    "id": "o_OhtTppM_KZ",
    "outputId": "3f3b2889-6b12-4fdf-c8ce-fb4c14476d7f"
   },
   "outputs": [
    {
     "data": {
      "text/plain": [
       "array([[1.57079633, 0.        ],\n",
       "       [3.14159265, 0.        ],\n",
       "       [1.57079633, 1.57079633],\n",
       "       [0.        , 0.        ]])"
      ]
     },
     "execution_count": 21,
     "metadata": {
      "tags": []
     },
     "output_type": "execute_result"
    }
   ],
   "source": [
    "params_t"
   ]
  },
  {
   "cell_type": "code",
   "execution_count": 22,
   "metadata": {
    "colab": {
     "base_uri": "https://localhost:8080/",
     "height": 84
    },
    "colab_type": "code",
    "id": "GUImQm4OVLVg",
    "outputId": "af49a782-e4a9-42b6-a7f1-3d0c1c409d49"
   },
   "outputs": [
    {
     "data": {
      "text/plain": [
       "array([[ 1.95833238, -0.60487126],\n",
       "       [-3.16443293, 12.57818228],\n",
       "       [ 1.29284545,  1.39745349],\n",
       "       [ 5.0610998 ,  6.52014854]])"
      ]
     },
     "execution_count": 22,
     "metadata": {
      "tags": []
     },
     "output_type": "execute_result"
    }
   ],
   "source": [
    "params[-1]"
   ]
  },
  {
   "cell_type": "code",
   "execution_count": 23,
   "metadata": {
    "colab": {
     "base_uri": "https://localhost:8080/",
     "height": 151
    },
    "colab_type": "code",
    "id": "STcXdZcCVMrJ",
    "outputId": "0f1f31d6-d6de-4610-844b-85e04b12163b"
   },
   "outputs": [
    {
     "data": {
      "text/plain": [
       "array([[ 0.14072199+0.j, -0.16645099+0.j,  0.10717305+0.j,\n",
       "        -0.21855602+0.j],\n",
       "       [-0.16645099+0.j,  0.35927801+0.j, -0.21855602+0.j,\n",
       "         0.27362403+0.j],\n",
       "       [ 0.10717305+0.j, -0.21855602+0.j,  0.14072199+0.j,\n",
       "        -0.16645099+0.j],\n",
       "       [-0.21855602+0.j,  0.27362403+0.j, -0.16645099+0.j,\n",
       "         0.35927801+0.j]])"
      ]
     },
     "execution_count": 23,
     "metadata": {
      "tags": []
     },
     "output_type": "execute_result"
    }
   ],
   "source": [
    "density_matr(params_t)\n"
   ]
  },
  {
   "cell_type": "code",
   "execution_count": 0,
   "metadata": {
    "colab": {},
    "colab_type": "code",
    "id": "Ww23VR-uX6SJ"
   },
   "outputs": [],
   "source": []
  }
 ],
 "metadata": {
  "colab": {
   "collapsed_sections": [],
   "name": "Untitled.ipynb",
   "provenance": []
  },
  "kernelspec": {
   "display_name": "Python (hamiltonian_learning)",
   "language": "python",
   "name": "hamiltonian_learning"
  },
  "language_info": {
   "codemirror_mode": {
    "name": "ipython",
    "version": 3
   },
   "file_extension": ".py",
   "mimetype": "text/x-python",
   "name": "python",
   "nbconvert_exporter": "python",
   "pygments_lexer": "ipython3",
   "version": "3.7.4"
  },
  "varInspector": {
   "cols": {
    "lenName": 16,
    "lenType": 16,
    "lenVar": 40
   },
   "kernels_config": {
    "python": {
     "delete_cmd_postfix": "",
     "delete_cmd_prefix": "del ",
     "library": "var_list.py",
     "varRefreshCmd": "print(var_dic_list())"
    },
    "r": {
     "delete_cmd_postfix": ") ",
     "delete_cmd_prefix": "rm(",
     "library": "var_list.r",
     "varRefreshCmd": "cat(var_dic_list()) "
    }
   },
   "types_to_exclude": [
    "module",
    "function",
    "builtin_function_or_method",
    "instance",
    "_Feature"
   ],
   "window_display": false
  }
 },
 "nbformat": 4,
 "nbformat_minor": 1
}
