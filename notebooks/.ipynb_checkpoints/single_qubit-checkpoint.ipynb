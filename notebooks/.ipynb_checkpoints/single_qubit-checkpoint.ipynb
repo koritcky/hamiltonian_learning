{
 "cells": [
  {
   "cell_type": "code",
   "execution_count": 21,
   "metadata": {},
   "outputs": [],
   "source": [
    "import os, sys\n",
    "os.chdir('/home/koritskiy/rqc/hamiltonian_learning_2.0')\n",
    "\n",
    "import numpy as np\n",
    "from sklearn.metrics import mean_squared_error as mse\n",
    "\n",
    "import modules.matrices, modules.loss_functions"
   ]
  },
  {
   "cell_type": "code",
   "execution_count": 22,
   "metadata": {},
   "outputs": [
    {
     "data": {
      "text/plain": [
       "array([[0.64565631+0.j, 0.        +0.j],\n",
       "       [0.        +0.j, 0.35434369+0.j]])"
      ]
     },
     "execution_count": 22,
     "metadata": {},
     "output_type": "execute_result"
    }
   ],
   "source": [
    "# Target hamiltonian we need to restore\n",
    "beta = 0.3\n",
    "\n",
    "hx = [0]\n",
    "hy = [0]\n",
    "hz = [-1]\n",
    "\n",
    "Jxx = [0]\n",
    "Jyy = [0]\n",
    "Jzz = [0]\n",
    "\n",
    "coefs_t = [hx, hy, hz, Jxx, Jyy, Jzz]\n",
    "rho_t = density_matr(coefs_t, beta)\n",
    "rho_t"
   ]
  },
  {
   "cell_type": "code",
   "execution_count": 27,
   "metadata": {},
   "outputs": [],
   "source": [
    "def construct(N_iterations, d_max_iter, g_max_iter=1000):\n",
    "    TD = []\n",
    "    MSE = []\n",
    "    coefs = []\n",
    "    \n",
    "    # initiate coefs (couplings and fields) and angles \n",
    "    coefs_g = np.random.uniform(-1, 1, (6, N_spins))\n",
    "    rho_g = density_matr(coefs_g, beta)\n",
    "    angles = np.array([[0, 0]])\n",
    "    \n",
    "    MSE.append(mse(coefs_t, coefs_g))\n",
    "    TD.append(g_loss_func(coefs_g, rho_t, angles))\n",
    "    \n",
    "    for _ in range(N_iterations):\n",
    "        # Find most suitable coefs\n",
    "        result_g = minimize(loss_function,\n",
    "                          args=(rho_t, angles),\n",
    "                          x0=coefs_g.flatten(),\n",
    "                          method='Nelder-Mead',\n",
    "                          options={'maxiter':g_max_iter})\n",
    "        coefs_g = np.array(result_g.x).reshape(6, N_spins)\n",
    "        rho_g = density_matr(coefs_g, beta)\n",
    "        coefs.append(coefs_g)\n",
    "        # Keep track of errors change\n",
    "        TD.append(result_g.fun)\n",
    "        MSE.append(mse(coefs_t, coefs_g))\n",
    "        # Find basis\n",
    "        result_d = minimize(d_loss_func,\n",
    "                          args=(rho_g, rho_t),\n",
    "                          x0=angles,\n",
    "                          method='Nelder-Mead',\n",
    "                          options={'maxiter':d_max_iter}).x\n",
    "        angles = result_d.reshape(2, N_spins)\n",
    "\n",
    "    return MSE, TD, coefs, angles"
   ]
  },
  {
   "cell_type": "code",
   "execution_count": 28,
   "metadata": {},
   "outputs": [
    {
     "ename": "NameError",
     "evalue": "name 'mse' is not defined",
     "output_type": "error",
     "traceback": [
      "\u001b[0;31m---------------------------------------------------------------------------\u001b[0m",
      "\u001b[0;31mNameError\u001b[0m                                 Traceback (most recent call last)",
      "\u001b[0;32m<ipython-input-28-e1842ac91024>\u001b[0m in \u001b[0;36m<module>\u001b[0;34m\u001b[0m\n\u001b[1;32m      1\u001b[0m \u001b[0mnp\u001b[0m\u001b[0;34m.\u001b[0m\u001b[0mrandom\u001b[0m\u001b[0;34m.\u001b[0m\u001b[0mseed\u001b[0m\u001b[0;34m(\u001b[0m\u001b[0;36m43\u001b[0m\u001b[0;34m)\u001b[0m\u001b[0;34m\u001b[0m\u001b[0;34m\u001b[0m\u001b[0m\n\u001b[1;32m      2\u001b[0m \u001b[0mN_iterations\u001b[0m \u001b[0;34m=\u001b[0m \u001b[0;36m10\u001b[0m\u001b[0;34m\u001b[0m\u001b[0;34m\u001b[0m\u001b[0m\n\u001b[0;32m----> 3\u001b[0;31m \u001b[0mMSE\u001b[0m\u001b[0;34m,\u001b[0m \u001b[0mTD\u001b[0m\u001b[0;34m,\u001b[0m \u001b[0mcoefs\u001b[0m\u001b[0;34m,\u001b[0m \u001b[0mangles\u001b[0m \u001b[0;34m=\u001b[0m \u001b[0mconstruct\u001b[0m\u001b[0;34m(\u001b[0m\u001b[0mN_iterations\u001b[0m\u001b[0;34m,\u001b[0m \u001b[0md_max_iter\u001b[0m\u001b[0;34m=\u001b[0m\u001b[0;36m1000\u001b[0m\u001b[0;34m,\u001b[0m \u001b[0mg_max_iter\u001b[0m\u001b[0;34m=\u001b[0m\u001b[0;36m1000\u001b[0m\u001b[0;34m)\u001b[0m\u001b[0;34m\u001b[0m\u001b[0;34m\u001b[0m\u001b[0m\n\u001b[0m",
      "\u001b[0;32m<ipython-input-27-01c343d7d404>\u001b[0m in \u001b[0;36mconstruct\u001b[0;34m(N_iterations, d_max_iter, g_max_iter)\u001b[0m\n\u001b[1;32m      9\u001b[0m     \u001b[0mangles\u001b[0m \u001b[0;34m=\u001b[0m \u001b[0mnp\u001b[0m\u001b[0;34m.\u001b[0m\u001b[0marray\u001b[0m\u001b[0;34m(\u001b[0m\u001b[0;34m[\u001b[0m\u001b[0;34m[\u001b[0m\u001b[0;36m0\u001b[0m\u001b[0;34m,\u001b[0m \u001b[0;36m0\u001b[0m\u001b[0;34m]\u001b[0m\u001b[0;34m]\u001b[0m\u001b[0;34m)\u001b[0m\u001b[0;34m\u001b[0m\u001b[0;34m\u001b[0m\u001b[0m\n\u001b[1;32m     10\u001b[0m \u001b[0;34m\u001b[0m\u001b[0m\n\u001b[0;32m---> 11\u001b[0;31m     \u001b[0mMSE\u001b[0m\u001b[0;34m.\u001b[0m\u001b[0mappend\u001b[0m\u001b[0;34m(\u001b[0m\u001b[0mmse\u001b[0m\u001b[0;34m(\u001b[0m\u001b[0mcoefs_t\u001b[0m\u001b[0;34m,\u001b[0m \u001b[0mcoefs_g\u001b[0m\u001b[0;34m)\u001b[0m\u001b[0;34m)\u001b[0m\u001b[0;34m\u001b[0m\u001b[0;34m\u001b[0m\u001b[0m\n\u001b[0m\u001b[1;32m     12\u001b[0m     \u001b[0mTD\u001b[0m\u001b[0;34m.\u001b[0m\u001b[0mappend\u001b[0m\u001b[0;34m(\u001b[0m\u001b[0mg_loss_func\u001b[0m\u001b[0;34m(\u001b[0m\u001b[0mcoefs_g\u001b[0m\u001b[0;34m,\u001b[0m \u001b[0mrho_t\u001b[0m\u001b[0;34m,\u001b[0m \u001b[0mangles\u001b[0m\u001b[0;34m)\u001b[0m\u001b[0;34m)\u001b[0m\u001b[0;34m\u001b[0m\u001b[0;34m\u001b[0m\u001b[0m\n\u001b[1;32m     13\u001b[0m \u001b[0;34m\u001b[0m\u001b[0m\n",
      "\u001b[0;31mNameError\u001b[0m: name 'mse' is not defined"
     ]
    }
   ],
   "source": [
    "np.random.seed(43)  \n",
    "N_iterations = 10\n",
    "MSE, TD, coefs, angles = construct(N_iterations, d_max_iter=1000, g_max_iter=1000)"
   ]
  },
  {
   "cell_type": "code",
   "execution_count": null,
   "metadata": {},
   "outputs": [],
   "source": []
  }
 ],
 "metadata": {
  "kernelspec": {
   "display_name": "Python (hamiltonian_learning)",
   "language": "python",
   "name": "hamiltonian_learning"
  },
  "language_info": {
   "codemirror_mode": {
    "name": "ipython",
    "version": 3
   },
   "file_extension": ".py",
   "mimetype": "text/x-python",
   "name": "python",
   "nbconvert_exporter": "python",
   "pygments_lexer": "ipython3",
   "version": "3.7.4"
  }
 },
 "nbformat": 4,
 "nbformat_minor": 2
}
